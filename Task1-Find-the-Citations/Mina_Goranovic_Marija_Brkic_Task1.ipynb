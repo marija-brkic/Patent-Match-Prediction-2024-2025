{
 "cells": [
  {
   "cell_type": "markdown",
   "metadata": {
    "id": "qaOtel26zyNe"
   },
   "source": [
    "# 0.0 Mina Goranovic, Marija Brkic -> Information Retrieval Project -> Task 1  \n",
    "The code for Task 2 was way to big so submit in the ecampus, so it can be found in our git repository: https://github.com/marija-brkic/Patent-Match-Prediction-2024-2025.git"
   ]
  },
  {
   "cell_type": "markdown",
   "metadata": {
    "id": "wC-2H0llzyNk"
   },
   "source": [
    "## 1.0 Imports - !pip install <package_name> if necessary"
   ]
  },
  {
   "cell_type": "code",
   "execution_count": 2,
   "metadata": {
    "id": "TW2-RkQ7zyNk"
   },
   "outputs": [],
   "source": [
    "import pandas as pd\n",
    "import json\n",
    "\n",
    "from sklearn.feature_extraction.text import TfidfVectorizer\n",
    "from sklearn.feature_extraction.text import CountVectorizer, TfidfVectorizer\n",
    "\n",
    "from sklearn.metrics.pairwise import linear_kernel\n",
    "import nltk\n",
    "from nltk.corpus import stopwords\n",
    "\n",
    "import matplotlib.pyplot as plt\n",
    "\n",
    "import numpy as np\n",
    "from tqdm.auto import tqdm\n"
   ]
  },
  {
   "cell_type": "code",
   "execution_count": 4,
   "metadata": {
    "id": "SjDTn9yMzyNm",
    "outputId": "871f42c5-1de9-4aff-9fcb-651aa933a6a4"
   },
   "outputs": [
    {
     "name": "stderr",
     "output_type": "stream",
     "text": [
      "[nltk_data] Downloading package stopwords to\n",
      "[nltk_data]     C:\\Users\\marij\\AppData\\Roaming\\nltk_data...\n",
      "[nltk_data]   Package stopwords is already up-to-date!\n",
      "[nltk_data] Downloading package wordnet to\n",
      "[nltk_data]     C:\\Users\\marij\\AppData\\Roaming\\nltk_data...\n",
      "[nltk_data]   Package wordnet is already up-to-date!\n"
     ]
    },
    {
     "data": {
      "text/plain": [
       "True"
      ]
     },
     "execution_count": 4,
     "metadata": {},
     "output_type": "execute_result"
    }
   ],
   "source": [
    "import os\n",
    "os.environ[\"USE_TF\"] = \"0\"\n",
    "nltk.download('stopwords')\n",
    "nltk.download('wordnet')  # For lemmatization"
   ]
  },
  {
   "cell_type": "markdown",
   "metadata": {
    "id": "Y0kqKHXMzyNn"
   },
   "source": [
    "## 0.1 Helper Functions"
   ]
  },
  {
   "cell_type": "code",
   "execution_count": 6,
   "metadata": {
    "id": "Ds6mtxS2zyNo"
   },
   "outputs": [],
   "source": [
    "def load_json_data(file_path):\n",
    "    with open(file_path, \"r\") as file:\n",
    "        contents = json.load(file)\n",
    "    return contents\n",
    "\n",
    "\n",
    "def create_tfidf_matrix(citing_dataset, nonciting_dataset, vectorizer=TfidfVectorizer()):\n",
    "    \"\"\"\n",
    "    Creates TF-IDF matrix for the given citing and non-citing datasets based on the specified text column.\n",
    "\n",
    "    Parameters:\n",
    "    citing_dataset (json)): DataFrame containing citing patents.\n",
    "    nonciting_dataset (json): DataFrame containing non-citing patents.\n",
    "    vectorizer (TfidfVectorizer, optional): TfidfVectorizer object for vectorizing text data.\n",
    "                                             Defaults to TfidfVectorizer().\n",
    "\n",
    "    Returns:\n",
    "    tuple: A tuple containing TF-IDF matrices for citing and non-citing patents respectively.\n",
    "           (tfidf_matrix_citing, tfidf_matrix_nonciting)\n",
    "    \"\"\"\n",
    "    all_text = [patent['text'] for patent in citing_dataset + nonciting_dataset]\n",
    "\n",
    "    # Vectorizing descriptions\n",
    "    print(\"Vectorizing descriptions...\")\n",
    "    tfidf_matrix = vectorizer.fit_transform(tqdm(all_text, desc=\"TF-IDF\"))\n",
    "\n",
    "    # Since we're interested in similarities between citing and cited patents,\n",
    "    # we need to split the TF-IDF matrix back into two parts\n",
    "    split_index = len(citing_dataset)\n",
    "    tfidf_matrix_citing = tfidf_matrix[:split_index]\n",
    "    tfidf_matrix_nonciting = tfidf_matrix[split_index:]\n",
    "\n",
    "    # Size of vocabulary\n",
    "    print(\"Size of vocabulary:\", len(vectorizer.vocabulary_))\n",
    "\n",
    "    return tfidf_matrix_citing, tfidf_matrix_nonciting\n",
    "\n",
    "\n",
    "\n",
    "def get_mapping_dict(mapping_df):\n",
    "    \"\"\"\n",
    "    Creates dictionary of citing ids to non-citing id based on given dataframe (which is based on providedjson)\n",
    "\n",
    "    Parameters:\n",
    "    mapping_df (DataFrame): DataFrame containing mapping between citing and cited patents\n",
    "    Returns:\n",
    "    dict: dictionary of unique citing patent ids to list of cited patent ids\n",
    "    \"\"\"\n",
    "    mapping_dict = {}\n",
    "\n",
    "    for _, row in mapping_df.iterrows():\n",
    "        key = row[0]  # Value from column 0\n",
    "        value = row[2]  # Value from column 2\n",
    "        if key in mapping_dict:\n",
    "            mapping_dict[key].append(value)\n",
    "        else:\n",
    "            mapping_dict[key] = [value]\n",
    "\n",
    "    return mapping_dict\n",
    "\n",
    "def create_corpus(corpus, text_type): #OVO NAM TREBA SASVIM SIGURNO\n",
    "    \"\"\"\n",
    "    Extracts text data from a corpus based on the specified text type.\n",
    "\n",
    "    Parameters:\n",
    "    corpus (list): List of dictionaries representing patent documents.\n",
    "    text_type (str): Type of text to extract ('title', 'abstract', 'claim1', 'claims', 'description', 'fulltext').\n",
    "\n",
    "    Returns:\n",
    "    list: List of dictionaries with 'id' and 'text' keys representing each document in the corpus.\n",
    "    \"\"\"\n",
    "\n",
    "    app_ids = [doc['Application_Number'] + doc['Application_Category'] for doc in corpus]\n",
    "\n",
    "    cnt = 0 # count the number of documents without text\n",
    "    texts = []  # list of texts\n",
    "    ids_to_remove = []  # list of ids of documents without text, to remove them from the corpus\n",
    "\n",
    "    if text_type == 'title':\n",
    "        for doc in corpus:\n",
    "            try:\n",
    "                texts.append(doc['Content']['title'])\n",
    "            except: # if the document does not have a title\n",
    "                ids_to_remove.append(doc['Application_Number']+doc['Application_Category'])\n",
    "                cnt += 1\n",
    "        print(f\"Number of documents without title: {cnt}\")\n",
    "\n",
    "    elif text_type == 'abstract':\n",
    "        for doc in corpus:\n",
    "            try:\n",
    "                texts.append(doc['Content']['pa01'])\n",
    "            except: # if the document does not have an abstract\n",
    "                ids_to_remove.append(doc['Application_Number']+doc['Application_Category'])\n",
    "                cnt += 1\n",
    "        print(f\"Number of documents without abstract: {cnt}\")\n",
    "\n",
    "    elif text_type == 'claim1':\n",
    "        for doc in corpus:\n",
    "            try:\n",
    "                texts.append(doc['Content']['c-en-0001'])\n",
    "            except: # if the document does not have claim 1\n",
    "                ids_to_remove.append(doc['Application_Number']+doc['Application_Category'])\n",
    "                cnt += 1\n",
    "        print(f\"Number of documents without claim 1: {cnt}\")\n",
    "\n",
    "    elif text_type == 'claims':\n",
    "        # all the values with the key starting with 'c-en-', each element in the final list is a list of claims\n",
    "        for doc in corpus:\n",
    "            doc_claims = []\n",
    "            for key in doc['Content'].keys():\n",
    "                if key.startswith('c-en-'):\n",
    "                    doc_claims.append(doc['Content'][key])\n",
    "            if len(doc_claims) == 0:    # if the document does not have any claims\n",
    "                ids_to_remove.append(doc['Application_Number']+doc['Application_Category'])\n",
    "                cnt += 1\n",
    "            else:\n",
    "                doc_text_string = ' '.join(doc_claims)\n",
    "                texts.append(doc_text_string)\n",
    "        print(f\"Number of documents without claims: {cnt}\")\n",
    "\n",
    "    elif text_type == 'description':\n",
    "        # all the values with the key starting with 'p'\n",
    "        for doc in corpus:\n",
    "            doc_text = []\n",
    "            for key in doc['Content'].keys():\n",
    "                if key.startswith('p'):\n",
    "                    doc_text.append(doc['Content'][key])\n",
    "            if len(doc_text) == 0:  # if the document does not have any description\n",
    "                ids_to_remove.append(doc['Application_Number']+doc['Application_Category'])\n",
    "                cnt += 1\n",
    "            else:\n",
    "                doc_text_string = ' '.join(doc_text)\n",
    "                texts.append(doc_text_string)\n",
    "        print(f\"Number of documents without description: {cnt}\")\n",
    "\n",
    "    elif text_type == 'fulltext':\n",
    "        for doc in corpus:\n",
    "            doc_text = list(doc['Content'].values())\n",
    "            doc_text_string = ' '.join(doc_text)\n",
    "            texts.append(doc_text_string)\n",
    "        if cnt > 0:\n",
    "            print(f\"Number of documents without any text: {cnt}\")\n",
    "\n",
    "    else:\n",
    "        raise ValueError(\"Invalid text type\")\n",
    "\n",
    "    if len(ids_to_remove) > 0:\n",
    "        print(f\"Removing {len(ids_to_remove)} documents without required text\")\n",
    "        for id_ in ids_to_remove[::-1]:\n",
    "            idx = app_ids.index(id_)\n",
    "            del app_ids[idx]\n",
    "\n",
    "    # Create a list of dictionaries with app_ids and texts\n",
    "    corpus_data = [{'id': app_id, 'text': text} for app_id, text in zip(app_ids, texts)]\n",
    "\n",
    "    return corpus_data\n",
    "\n",
    "\n",
    "def get_true_and_predicted(citing_to_cited_dict, recommendations_dict):\n",
    "    \"\"\"\n",
    "    Get the true and predicted labels for the metrics calculation.\n",
    "\n",
    "    Parameters:\n",
    "    citing_to_cited_dict : dict of str : list of str\n",
    "        Mapping between citing patents and the list of their cited patents\n",
    "    recommendations_dict : dict of str : list of str\n",
    "        Mapping between citing patents and the sorted list of recommended patents\n",
    "\n",
    "    Returns:\n",
    "    list of list\n",
    "        True relevant items for each recommendation list.\n",
    "    list of list\n",
    "        Predicted recommended items for each recommendation list.\n",
    "    int\n",
    "        Number of patents not in the citation mapping\n",
    "    \"\"\"\n",
    "    # Initialize lists to store true labels and predicted labels\n",
    "    true_labels = []\n",
    "    predicted_labels = []\n",
    "    not_in_citation_mapping = 0\n",
    "\n",
    "    # Iterate over the items in both dictionaries\n",
    "    for citing_id in recommendations_dict.keys():\n",
    "        # Check if the citing_id is present in both dictionaries\n",
    "        if citing_id in citing_to_cited_dict:\n",
    "            # If yes, append the recommended items from both dictionaries to the respective lists\n",
    "            true_labels.append(citing_to_cited_dict[citing_id])\n",
    "            predicted_labels.append(recommendations_dict[citing_id])\n",
    "        else:\n",
    "            not_in_citation_mapping += 1\n",
    "\n",
    "    return true_labels, predicted_labels, not_in_citation_mapping\n",
    "\n",
    "\n",
    "\n",
    "def mean_recall_at_k(true_labels, predicted_labels, k=10):\n",
    "    \"\"\"\n",
    "    Calculate the mean Recall@k for a list of recommendations.\n",
    "\n",
    "    Parameters:\n",
    "    true_labels : list of list\n",
    "        True relevant items for each recommendation list.\n",
    "    predicted_labels : list of list\n",
    "        Predicted recommended items for each recommendation list.\n",
    "    k : int\n",
    "        Number of recommendations to consider.\n",
    "\n",
    "    Returns:\n",
    "    float\n",
    "        Mean Recall@k value.\n",
    "    \"\"\"\n",
    "    recalls_at_k = []\n",
    "\n",
    "    for true, pred in zip(true_labels, predicted_labels):\n",
    "        # Calculate Recall@k for each recommendation list\n",
    "        true_set = set(true)\n",
    "        k = min(k, len(pred))\n",
    "        relevant_count = sum(1 for item in pred[:k] if item in true_set)\n",
    "        recalls_at_k.append(relevant_count / len(true_set))\n",
    "\n",
    "    # Calculate the mean Recall@k\n",
    "    mean_recall = sum(recalls_at_k) / len(recalls_at_k)\n",
    "\n",
    "    return mean_recall\n",
    "\n",
    "def mean_inv_ranking(true_labels, predicted_labels):\n",
    "    \"\"\"\n",
    "    Calculate the mean of lists of the mean inverse rank of true relevant items\n",
    "    in the lists of sorted recommended items.\n",
    "\n",
    "    Parameters:\n",
    "    true_labels : list of list\n",
    "        True relevant items for each recommendation list.\n",
    "    predicted_labels : list of list\n",
    "        Predicted recommended items for each recommendation list.\n",
    "\n",
    "    Returns:\n",
    "    float\n",
    "        Mean of lists of the mean inverse rank of true relevant items.\n",
    "    \"\"\"\n",
    "    mean_ranks = []\n",
    "\n",
    "    for true, pred in zip(true_labels, predicted_labels):\n",
    "        # Calculate the inverse rank of true relevant items\n",
    "        # in the recommendation list\n",
    "        ranks = []\n",
    "        for item in true:\n",
    "            try:\n",
    "                rank = 1 / (pred.index(item) + 1)\n",
    "            except ValueError:\n",
    "                rank = 0  # If item not found, assign 0\n",
    "            ranks.append(rank)\n",
    "\n",
    "        # Calculate the mean inverse rank of true relevant items\n",
    "        # in the recommendation list\n",
    "        mean_rank = sum(ranks) / len(ranks)\n",
    "        mean_ranks.append(mean_rank)\n",
    "\n",
    "    # Calculate the mean of the mean inverse ranks across all recommendation lists\n",
    "    mean_of_mean_ranks = sum(mean_ranks) / len(mean_ranks)\n",
    "\n",
    "    return mean_of_mean_ranks\n",
    "\n",
    "\n",
    "def mean_ranking(true_labels, predicted_labels):\n",
    "    \"\"\"\n",
    "    Calculate the mean of lists of the mean rank of true relevant items\n",
    "    in the lists of sorted recommended items.\n",
    "\n",
    "    Parameters:\n",
    "    true_labels : list of list\n",
    "        True relevant items for each recommendation list.\n",
    "    predicted_labels : list of list\n",
    "        Predicted recommended items for each recommendation list.\n",
    "\n",
    "    Returns:\n",
    "    float\n",
    "        Mean of lists of the mean rank of true relevant items.\n",
    "    \"\"\"\n",
    "    mean_ranks = []\n",
    "\n",
    "    for true, pred in zip(true_labels, predicted_labels):\n",
    "        # Calculate the rank of true relevant items\n",
    "        # in the recommendation list\n",
    "        ranks = []\n",
    "        for item in true:\n",
    "            try:\n",
    "                rank = pred.index(item) + 1\n",
    "            except ValueError:\n",
    "                rank = len(pred)  # If item not found, assign the length of the list\n",
    "            ranks.append(rank)\n",
    "\n",
    "        # Calculate the mean rank of true relevant items\n",
    "        # in the recommendation list\n",
    "        mean_rank = sum(ranks) / len(ranks)\n",
    "        mean_ranks.append(mean_rank)\n",
    "\n",
    "    # Calculate the mean of the mean ranks across all recommendation lists\n",
    "    mean_of_mean_ranks = sum(mean_ranks) / len(mean_ranks)\n",
    "\n",
    "    return mean_of_mean_ranks\n",
    "\n",
    "\n",
    "\n",
    "def mean_average_precision(true_labels, predicted_labels, k=10):\n",
    "    \"\"\"\n",
    "    Calculate the mean Average Precision for a list of recommendations.\n",
    "\n",
    "    Parameters:\n",
    "    true_labels : list of list\n",
    "        True relevant items for each recommendation list.\n",
    "    predicted_labels : list of list\n",
    "        Predicted recommended items for each recommendation list.\n",
    "    k : int\n",
    "        Number of recommendations to consider.\n",
    "\n",
    "    Returns:\n",
    "    float\n",
    "        Mean Average Precision value.\n",
    "    \"\"\"\n",
    "    average_precisions = []\n",
    "\n",
    "    for true, pred in zip(true_labels, predicted_labels):\n",
    "        # Calculate Average Precision for each recommendation list\n",
    "        true_set = set(true)\n",
    "        precision_at_k = []\n",
    "        relevant_count = 0\n",
    "        for i, item in enumerate(pred[:k]):\n",
    "            if item in true_set:\n",
    "                relevant_count += 1\n",
    "                precision_at_k.append(relevant_count / (i + 1))\n",
    "        average_precision = sum(precision_at_k) / len(true_set)\n",
    "        average_precisions.append(average_precision)\n",
    "\n",
    "    # Calculate the mean Average Precision\n",
    "    mean_average_precision = sum(average_precisions) / len(average_precisions)\n",
    "\n",
    "    return mean_average_precision\n",
    "\n",
    "def top_k_ranks(citing, cited, cosine_similarities, k=10):\n",
    "    # Create a dictionary to store the top k ranks for each citing patent\n",
    "    top_k_ranks = {}\n",
    "    for i, content_id in enumerate(citing):\n",
    "        top_k_ranks[content_id['id']] = [cited[j]['id'] for j in np.argsort(cosine_similarities[i])[::-1][:k]]\n",
    "    return top_k_ranks\n"
   ]
  },
  {
   "cell_type": "markdown",
   "metadata": {
    "id": "8_a8MJUDzyNr"
   },
   "source": [
    "# 1.0 Load Datasets"
   ]
  },
  {
   "cell_type": "code",
   "execution_count": 8,
   "metadata": {
    "id": "0FddbPS7zyNs"
   },
   "outputs": [],
   "source": [
    "json_citing_train = load_json_data(\"./datasets/Content_JSONs/Citing_2020_Cleaned_Content_12k/Citing_Train_Test/citing_TRAIN.json\")\n",
    "json_citing_test = load_json_data(\"./datasets/Content_JSONs/Citing_2020_Cleaned_Content_12k/Citing_Train_Test/citing_TEST.json\")\n",
    "\n",
    "json_nonciting = load_json_data(\"./datasets/Content_JSONs/Cited_2020_Uncited_2010-2019_Cleaned_Content_22k/CLEANED_CONTENT_DATASET_cited_patents_by_2020_uncited_2010-2019.json\")\n",
    "json_citing_to_cited = load_json_data(\"./datasets/Citation_JSONs/Citation_Train.json\") # Citing ids are unique"
   ]
  },
  {
   "cell_type": "code",
   "execution_count": 10,
   "metadata": {
    "id": "Urbuut75zyNs"
   },
   "outputs": [],
   "source": [
    "citing_dataset_df = pd.DataFrame(json_citing_train)\n",
    "\n",
    "nonciting_dataset_df = pd.DataFrame(json_nonciting)\n",
    "mapping_dataset_df = pd.DataFrame(json_citing_to_cited)"
   ]
  },
  {
   "cell_type": "code",
   "execution_count": 12,
   "metadata": {
    "id": "tGiJRpDNzyNt",
    "outputId": "f0c184ed-16f8-4edb-b09b-126fa602d3d4"
   },
   "outputs": [
    {
     "data": {
      "text/html": [
       "<div>\n",
       "<style scoped>\n",
       "    .dataframe tbody tr th:only-of-type {\n",
       "        vertical-align: middle;\n",
       "    }\n",
       "\n",
       "    .dataframe tbody tr th {\n",
       "        vertical-align: top;\n",
       "    }\n",
       "\n",
       "    .dataframe thead th {\n",
       "        text-align: right;\n",
       "    }\n",
       "</style>\n",
       "<table border=\"1\" class=\"dataframe\">\n",
       "  <thead>\n",
       "    <tr style=\"text-align: right;\">\n",
       "      <th></th>\n",
       "      <th>Application_Number</th>\n",
       "      <th>Application_Date</th>\n",
       "      <th>Application_Category</th>\n",
       "      <th>Content</th>\n",
       "    </tr>\n",
       "  </thead>\n",
       "  <tbody>\n",
       "    <tr>\n",
       "      <th>0</th>\n",
       "      <td>3650293</td>\n",
       "      <td>2020-05-13</td>\n",
       "      <td>A1</td>\n",
       "      <td>{'title': 'DEVICE FOR CONTROLLING THE BRAKING ...</td>\n",
       "    </tr>\n",
       "    <tr>\n",
       "      <th>1</th>\n",
       "      <td>3694265</td>\n",
       "      <td>2020-08-12</td>\n",
       "      <td>A1</td>\n",
       "      <td>{'title': 'TIME DIVISION MULTIPLEXING OF SYNCH...</td>\n",
       "    </tr>\n",
       "    <tr>\n",
       "      <th>2</th>\n",
       "      <td>3623522</td>\n",
       "      <td>2020-03-18</td>\n",
       "      <td>A1</td>\n",
       "      <td>{'title': 'LAUNDRY MACHINE AND CONTROL METHOD ...</td>\n",
       "    </tr>\n",
       "    <tr>\n",
       "      <th>3</th>\n",
       "      <td>3611147</td>\n",
       "      <td>2020-02-19</td>\n",
       "      <td>A1</td>\n",
       "      <td>{'title': 'CHEMICAL AND TOPOLOGICAL SURFACE MO...</td>\n",
       "    </tr>\n",
       "    <tr>\n",
       "      <th>4</th>\n",
       "      <td>3640454</td>\n",
       "      <td>2020-04-22</td>\n",
       "      <td>A1</td>\n",
       "      <td>{'title': 'FUEL METERING SYSTEM', 'pa01': 'The...</td>\n",
       "    </tr>\n",
       "    <tr>\n",
       "      <th>...</th>\n",
       "      <td>...</td>\n",
       "      <td>...</td>\n",
       "      <td>...</td>\n",
       "      <td>...</td>\n",
       "    </tr>\n",
       "    <tr>\n",
       "      <th>6826</th>\n",
       "      <td>3741587</td>\n",
       "      <td>2020-11-25</td>\n",
       "      <td>A1</td>\n",
       "      <td>{'title': 'AUTO-LOCATION USING TIRE MOUNTED SY...</td>\n",
       "    </tr>\n",
       "    <tr>\n",
       "      <th>6827</th>\n",
       "      <td>3693248</td>\n",
       "      <td>2020-08-12</td>\n",
       "      <td>A1</td>\n",
       "      <td>{'title': 'HOLE COVER AND STEERING SYSTEM INCL...</td>\n",
       "    </tr>\n",
       "    <tr>\n",
       "      <th>6828</th>\n",
       "      <td>3628962</td>\n",
       "      <td>2020-04-01</td>\n",
       "      <td>A1</td>\n",
       "      <td>{'title': 'SYSTEM AND METHOD FOR MEASURING CLE...</td>\n",
       "    </tr>\n",
       "    <tr>\n",
       "      <th>6829</th>\n",
       "      <td>3620899</td>\n",
       "      <td>2020-03-11</td>\n",
       "      <td>A1</td>\n",
       "      <td>{'title': 'TOUCH SCREEN AND DISPLAY APPARATUS'...</td>\n",
       "    </tr>\n",
       "    <tr>\n",
       "      <th>6830</th>\n",
       "      <td>3670678</td>\n",
       "      <td>2020-06-24</td>\n",
       "      <td>A1</td>\n",
       "      <td>{'title': 'PROCESS FOR MANUFACTURING A SLAG CO...</td>\n",
       "    </tr>\n",
       "  </tbody>\n",
       "</table>\n",
       "<p>6831 rows × 4 columns</p>\n",
       "</div>"
      ],
      "text/plain": [
       "     Application_Number Application_Date Application_Category  \\\n",
       "0               3650293       2020-05-13                   A1   \n",
       "1               3694265       2020-08-12                   A1   \n",
       "2               3623522       2020-03-18                   A1   \n",
       "3               3611147       2020-02-19                   A1   \n",
       "4               3640454       2020-04-22                   A1   \n",
       "...                 ...              ...                  ...   \n",
       "6826            3741587       2020-11-25                   A1   \n",
       "6827            3693248       2020-08-12                   A1   \n",
       "6828            3628962       2020-04-01                   A1   \n",
       "6829            3620899       2020-03-11                   A1   \n",
       "6830            3670678       2020-06-24                   A1   \n",
       "\n",
       "                                                Content  \n",
       "0     {'title': 'DEVICE FOR CONTROLLING THE BRAKING ...  \n",
       "1     {'title': 'TIME DIVISION MULTIPLEXING OF SYNCH...  \n",
       "2     {'title': 'LAUNDRY MACHINE AND CONTROL METHOD ...  \n",
       "3     {'title': 'CHEMICAL AND TOPOLOGICAL SURFACE MO...  \n",
       "4     {'title': 'FUEL METERING SYSTEM', 'pa01': 'The...  \n",
       "...                                                 ...  \n",
       "6826  {'title': 'AUTO-LOCATION USING TIRE MOUNTED SY...  \n",
       "6827  {'title': 'HOLE COVER AND STEERING SYSTEM INCL...  \n",
       "6828  {'title': 'SYSTEM AND METHOD FOR MEASURING CLE...  \n",
       "6829  {'title': 'TOUCH SCREEN AND DISPLAY APPARATUS'...  \n",
       "6830  {'title': 'PROCESS FOR MANUFACTURING A SLAG CO...  \n",
       "\n",
       "[6831 rows x 4 columns]"
      ]
     },
     "execution_count": 12,
     "metadata": {},
     "output_type": "execute_result"
    }
   ],
   "source": [
    "citing_dataset_df"
   ]
  },
  {
   "cell_type": "code",
   "execution_count": 14,
   "metadata": {
    "id": "wVYs3idgzyNt",
    "outputId": "8b1a8cb5-c0b8-4f5c-e478-139d86cf5a94"
   },
   "outputs": [
    {
     "data": {
      "text/html": [
       "<div>\n",
       "<style scoped>\n",
       "    .dataframe tbody tr th:only-of-type {\n",
       "        vertical-align: middle;\n",
       "    }\n",
       "\n",
       "    .dataframe tbody tr th {\n",
       "        vertical-align: top;\n",
       "    }\n",
       "\n",
       "    .dataframe thead th {\n",
       "        text-align: right;\n",
       "    }\n",
       "</style>\n",
       "<table border=\"1\" class=\"dataframe\">\n",
       "  <thead>\n",
       "    <tr style=\"text-align: right;\">\n",
       "      <th></th>\n",
       "      <th>Application_Number</th>\n",
       "      <th>Application_Date</th>\n",
       "      <th>Application_Category</th>\n",
       "      <th>Content</th>\n",
       "    </tr>\n",
       "  </thead>\n",
       "  <tbody>\n",
       "    <tr>\n",
       "      <th>0</th>\n",
       "      <td>2019772</td>\n",
       "      <td>2013-08-28</td>\n",
       "      <td>B1</td>\n",
       "      <td>{'title': 'VEHICLE WITH LOCKABLE TILT SYSTEM',...</td>\n",
       "    </tr>\n",
       "    <tr>\n",
       "      <th>1</th>\n",
       "      <td>2136094</td>\n",
       "      <td>2013-05-22</td>\n",
       "      <td>B1</td>\n",
       "      <td>{'title': 'UNIVERSAL JOINT', 'c-en-0001': 'A u...</td>\n",
       "    </tr>\n",
       "    <tr>\n",
       "      <th>2</th>\n",
       "      <td>2340701</td>\n",
       "      <td>2011-07-06</td>\n",
       "      <td>A2</td>\n",
       "      <td>{'title': 'Apparatus, method and computer prog...</td>\n",
       "    </tr>\n",
       "    <tr>\n",
       "      <th>3</th>\n",
       "      <td>2338661</td>\n",
       "      <td>2011-06-29</td>\n",
       "      <td>A1</td>\n",
       "      <td>{'title': 'Method and apparatus for forming a ...</td>\n",
       "    </tr>\n",
       "    <tr>\n",
       "      <th>4</th>\n",
       "      <td>2339144</td>\n",
       "      <td>2011-06-29</td>\n",
       "      <td>A2</td>\n",
       "      <td>{'title': 'Heat exchanger mounting assembly in...</td>\n",
       "    </tr>\n",
       "    <tr>\n",
       "      <th>...</th>\n",
       "      <td>...</td>\n",
       "      <td>...</td>\n",
       "      <td>...</td>\n",
       "      <td>...</td>\n",
       "    </tr>\n",
       "    <tr>\n",
       "      <th>16832</th>\n",
       "      <td>1995910</td>\n",
       "      <td>2012-07-11</td>\n",
       "      <td>B1</td>\n",
       "      <td>{'title': 'Synchronization of a split audio, v...</td>\n",
       "    </tr>\n",
       "    <tr>\n",
       "      <th>16833</th>\n",
       "      <td>1997557</td>\n",
       "      <td>2012-02-08</td>\n",
       "      <td>B1</td>\n",
       "      <td>{'title': 'Fluid handling unit and fluid handl...</td>\n",
       "    </tr>\n",
       "    <tr>\n",
       "      <th>16834</th>\n",
       "      <td>1992846</td>\n",
       "      <td>2012-04-04</td>\n",
       "      <td>B1</td>\n",
       "      <td>{'title': 'Oil pump system for vehicle', 'c-en...</td>\n",
       "    </tr>\n",
       "    <tr>\n",
       "      <th>16835</th>\n",
       "      <td>1981195</td>\n",
       "      <td>2012-01-11</td>\n",
       "      <td>B1</td>\n",
       "      <td>{'title': 'Apparatus for construction of quasi...</td>\n",
       "    </tr>\n",
       "    <tr>\n",
       "      <th>16836</th>\n",
       "      <td>1952974</td>\n",
       "      <td>2012-10-24</td>\n",
       "      <td>B1</td>\n",
       "      <td>{'title': 'Plugging method and apparatus for p...</td>\n",
       "    </tr>\n",
       "  </tbody>\n",
       "</table>\n",
       "<p>16837 rows × 4 columns</p>\n",
       "</div>"
      ],
      "text/plain": [
       "      Application_Number Application_Date Application_Category  \\\n",
       "0                2019772       2013-08-28                   B1   \n",
       "1                2136094       2013-05-22                   B1   \n",
       "2                2340701       2011-07-06                   A2   \n",
       "3                2338661       2011-06-29                   A1   \n",
       "4                2339144       2011-06-29                   A2   \n",
       "...                  ...              ...                  ...   \n",
       "16832            1995910       2012-07-11                   B1   \n",
       "16833            1997557       2012-02-08                   B1   \n",
       "16834            1992846       2012-04-04                   B1   \n",
       "16835            1981195       2012-01-11                   B1   \n",
       "16836            1952974       2012-10-24                   B1   \n",
       "\n",
       "                                                 Content  \n",
       "0      {'title': 'VEHICLE WITH LOCKABLE TILT SYSTEM',...  \n",
       "1      {'title': 'UNIVERSAL JOINT', 'c-en-0001': 'A u...  \n",
       "2      {'title': 'Apparatus, method and computer prog...  \n",
       "3      {'title': 'Method and apparatus for forming a ...  \n",
       "4      {'title': 'Heat exchanger mounting assembly in...  \n",
       "...                                                  ...  \n",
       "16832  {'title': 'Synchronization of a split audio, v...  \n",
       "16833  {'title': 'Fluid handling unit and fluid handl...  \n",
       "16834  {'title': 'Oil pump system for vehicle', 'c-en...  \n",
       "16835  {'title': 'Apparatus for construction of quasi...  \n",
       "16836  {'title': 'Plugging method and apparatus for p...  \n",
       "\n",
       "[16837 rows x 4 columns]"
      ]
     },
     "execution_count": 14,
     "metadata": {},
     "output_type": "execute_result"
    }
   ],
   "source": [
    "nonciting_dataset_df"
   ]
  },
  {
   "cell_type": "code",
   "execution_count": 15,
   "metadata": {
    "id": "z9cxP0eWzyNt",
    "outputId": "9b5a9fe6-cdc1-4d5e-efa9-b579fffe1a2d"
   },
   "outputs": [
    {
     "data": {
      "text/html": [
       "<div>\n",
       "<style scoped>\n",
       "    .dataframe tbody tr th:only-of-type {\n",
       "        vertical-align: middle;\n",
       "    }\n",
       "\n",
       "    .dataframe tbody tr th {\n",
       "        vertical-align: top;\n",
       "    }\n",
       "\n",
       "    .dataframe thead th {\n",
       "        text-align: right;\n",
       "    }\n",
       "</style>\n",
       "<table border=\"1\" class=\"dataframe\">\n",
       "  <thead>\n",
       "    <tr style=\"text-align: right;\">\n",
       "      <th></th>\n",
       "      <th>0</th>\n",
       "      <th>1</th>\n",
       "      <th>2</th>\n",
       "      <th>3</th>\n",
       "      <th>4</th>\n",
       "    </tr>\n",
       "  </thead>\n",
       "  <tbody>\n",
       "    <tr>\n",
       "      <th>0</th>\n",
       "      <td>3712070A1</td>\n",
       "      <td>[c-en-0004]</td>\n",
       "      <td>3354576A1</td>\n",
       "      <td>[p0024, p0027, c-en-0012, c-en-0013]</td>\n",
       "      <td>A</td>\n",
       "    </tr>\n",
       "    <tr>\n",
       "      <th>1</th>\n",
       "      <td>3675165A1</td>\n",
       "      <td>[c-en-0001, c-en-0002, c-en-0003, c-en-0004, c...</td>\n",
       "      <td>3336831A2</td>\n",
       "      <td>[p0045, p0046, p0047, p0048, p0049, p0050, p00...</td>\n",
       "      <td>A</td>\n",
       "    </tr>\n",
       "    <tr>\n",
       "      <th>2</th>\n",
       "      <td>3599626A1</td>\n",
       "      <td>[c-en-0002, c-en-0003, c-en-0004, c-en-0005, c...</td>\n",
       "      <td>2453448A1</td>\n",
       "      <td>[p0029, p0030]</td>\n",
       "      <td>A</td>\n",
       "    </tr>\n",
       "    <tr>\n",
       "      <th>3</th>\n",
       "      <td>3705201A1</td>\n",
       "      <td>[c-en-0001, c-en-0002, c-en-0004, c-en-0006, c...</td>\n",
       "      <td>2468433A2</td>\n",
       "      <td>[p0011, p0012, p0013, p0014, p0015, p0016, p00...</td>\n",
       "      <td>X</td>\n",
       "    </tr>\n",
       "    <tr>\n",
       "      <th>4</th>\n",
       "      <td>3628210A1</td>\n",
       "      <td>[c-en-0001, c-en-0002, c-en-0003, c-en-0004, c...</td>\n",
       "      <td>3369366A1</td>\n",
       "      <td>[pa01]</td>\n",
       "      <td>A</td>\n",
       "    </tr>\n",
       "    <tr>\n",
       "      <th>...</th>\n",
       "      <td>...</td>\n",
       "      <td>...</td>\n",
       "      <td>...</td>\n",
       "      <td>...</td>\n",
       "      <td>...</td>\n",
       "    </tr>\n",
       "    <tr>\n",
       "      <th>8589</th>\n",
       "      <td>3623977A1</td>\n",
       "      <td>[c-en-0008, c-en-0009, c-en-0010, c-en-0011, c...</td>\n",
       "      <td>2518981A1</td>\n",
       "      <td>[p0021, p0022, p0023, p0024, p0025, p0026, p00...</td>\n",
       "      <td>A</td>\n",
       "    </tr>\n",
       "    <tr>\n",
       "      <th>8590</th>\n",
       "      <td>3721843A1</td>\n",
       "      <td>[c-en-0001, c-en-0002, c-en-0003, c-en-0004, c...</td>\n",
       "      <td>3213727A1</td>\n",
       "      <td>[p0015, p0016, p0017, p0018, p0019, p0020, p00...</td>\n",
       "      <td>X</td>\n",
       "    </tr>\n",
       "    <tr>\n",
       "      <th>8591</th>\n",
       "      <td>3708263A1</td>\n",
       "      <td>[c-en-0001, c-en-0002, c-en-0003, c-en-0004, c...</td>\n",
       "      <td>3217171A1</td>\n",
       "      <td>[pa01, p0010, p0014, p0003, p0009, p0016]</td>\n",
       "      <td>A</td>\n",
       "    </tr>\n",
       "    <tr>\n",
       "      <th>8592</th>\n",
       "      <td>3588557A1</td>\n",
       "      <td>[c-en-0001, c-en-0002, c-en-0003, c-en-0004, c...</td>\n",
       "      <td>2988328A1</td>\n",
       "      <td>[p0047, p0012]</td>\n",
       "      <td>A</td>\n",
       "    </tr>\n",
       "    <tr>\n",
       "      <th>8593</th>\n",
       "      <td>3657819A1</td>\n",
       "      <td>[c-en-0010]</td>\n",
       "      <td>3334179A1</td>\n",
       "      <td>[p0072, p0098]</td>\n",
       "      <td>A</td>\n",
       "    </tr>\n",
       "  </tbody>\n",
       "</table>\n",
       "<p>8594 rows × 5 columns</p>\n",
       "</div>"
      ],
      "text/plain": [
       "              0                                                  1          2  \\\n",
       "0     3712070A1                                        [c-en-0004]  3354576A1   \n",
       "1     3675165A1  [c-en-0001, c-en-0002, c-en-0003, c-en-0004, c...  3336831A2   \n",
       "2     3599626A1  [c-en-0002, c-en-0003, c-en-0004, c-en-0005, c...  2453448A1   \n",
       "3     3705201A1  [c-en-0001, c-en-0002, c-en-0004, c-en-0006, c...  2468433A2   \n",
       "4     3628210A1  [c-en-0001, c-en-0002, c-en-0003, c-en-0004, c...  3369366A1   \n",
       "...         ...                                                ...        ...   \n",
       "8589  3623977A1  [c-en-0008, c-en-0009, c-en-0010, c-en-0011, c...  2518981A1   \n",
       "8590  3721843A1  [c-en-0001, c-en-0002, c-en-0003, c-en-0004, c...  3213727A1   \n",
       "8591  3708263A1  [c-en-0001, c-en-0002, c-en-0003, c-en-0004, c...  3217171A1   \n",
       "8592  3588557A1  [c-en-0001, c-en-0002, c-en-0003, c-en-0004, c...  2988328A1   \n",
       "8593  3657819A1                                        [c-en-0010]  3334179A1   \n",
       "\n",
       "                                                      3  4  \n",
       "0                  [p0024, p0027, c-en-0012, c-en-0013]  A  \n",
       "1     [p0045, p0046, p0047, p0048, p0049, p0050, p00...  A  \n",
       "2                                        [p0029, p0030]  A  \n",
       "3     [p0011, p0012, p0013, p0014, p0015, p0016, p00...  X  \n",
       "4                                                [pa01]  A  \n",
       "...                                                 ... ..  \n",
       "8589  [p0021, p0022, p0023, p0024, p0025, p0026, p00...  A  \n",
       "8590  [p0015, p0016, p0017, p0018, p0019, p0020, p00...  X  \n",
       "8591          [pa01, p0010, p0014, p0003, p0009, p0016]  A  \n",
       "8592                                     [p0047, p0012]  A  \n",
       "8593                                     [p0072, p0098]  A  \n",
       "\n",
       "[8594 rows x 5 columns]"
      ]
     },
     "execution_count": 15,
     "metadata": {},
     "output_type": "execute_result"
    }
   ],
   "source": [
    "mapping_dataset_df #this means patents '0' are rejected because their clames '1' have been mentioned in patents '2' in paragraphs '3' and the decision is '3'"
   ]
  },
  {
   "cell_type": "code",
   "execution_count": 121,
   "metadata": {
    "id": "bVfJZ_1rzyNu",
    "outputId": "ae55b086-08fd-44a0-e53a-d57e3c4e6fac"
   },
   "outputs": [],
   "source": [
    "mapping_dict = get_mapping_dict(mapping_dataset_df)\n",
    "#mapping_dict"
   ]
  },
  {
   "cell_type": "code",
   "execution_count": 14,
   "metadata": {
    "id": "Mvm1hC6xzyNu"
   },
   "outputs": [],
   "source": [
    "#import ast\n",
    "#nonciting_dataset_df['all_content'] = nonciting_dataset_df['Content'].apply(ast.literal_eval)"
   ]
  },
  {
   "cell_type": "markdown",
   "metadata": {
    "id": "65jWGvPrzyNv"
   },
   "source": [
    "## 1.1 Take a look at the content"
   ]
  },
  {
   "cell_type": "code",
   "execution_count": 30,
   "metadata": {
    "id": "3-vDR8F_zyNv",
    "outputId": "5212af07-090e-44b5-efe8-bde7780f5ba6"
   },
   "outputs": [
    {
     "data": {
      "text/plain": [
       "{'title': 'VEHICLE WITH LOCKABLE TILT SYSTEM',\n",
       " 'c-en-0001': 'A vehicle support assembly, comprising: first and second tilting wheels (421A, 421B; 16, 16) disposed respectively at different lateral positions with respect to a longitudinal axis; a tilt-mechanism (431; 17) configured for supportively associating a vehicle body (402) from the tilting wheels (421A, 421B; 16, 16) to enable the vehicle body (402) to tilt substantially through a first tilt range with respect to a surface (428) on which the tilting wheels (421A, 421B; 16, 16) are disposed; a tilt-limiter (450, 550, 650) operably associated with the tilt-mechanism (431) to restrict the tilting of the vehicle body (402) to less than the first tilt range, and releasable to allow the tilting through the first tilt range; characterised in that the vehicle support assembly further comprises : an inclination sensor configured to sense an inclination of the vehicle (130, 430) with respect to the vertical at least when the vehicle is at rest; and a tilt adjusting mechanism (654, 554) operatively associated with the inclination sensor and tilt-mechanism (431; 17) to automatically reposition the tilt-mechanism (431; 17) to adjust the inclination of the vehicle body (402) to a predetermined inclination based on the sensed inclination when the tilt-limiter (450, 550, 650) is engaged to restrict the tilting of the vehicle body (402).',\n",
       " 'c-en-0002': 'The vehicle support assembly of claim 1, further comprising: a sensor (19) configured to sense a parameter related to the movement of the vehicle (130, 430); and a tilt-limiter controller (102) configured to operate the tilt-limiter (450, 550, 650) to restrict or allow the tilting of the vehicle body (402) based on a value of the sensed parameter.',\n",
       " 'c-en-0003': 'The vehicle support assembly of claim 2, wherein the sensor comprises a speed sensor and the sensed parameter is speed of the vehicle (130, 430), the tilt-limiter controller being configured to operate the tilt-limiter (450, 550, 650) to restrict the tilting of the vehicle body (402) when the sensed speed drops below a predetermined first speed threshold.',\n",
       " 'c-en-0004': 'The vehicle support assembly of claim 3, wherein the tilt-limiter controller (102) is configured to operate the tilt-limiter (450, 550, 650) to allow vehicle tilting when the sensed speed climbs through a predetermined second speed threshold.',\n",
       " 'c-en-0005': 'The vehicle support assembly of any of the preceding claims, wherein the tilt-limiter (450, 550, 650) is operable to lock the tilt-mechanism (431; 17) to fix the vehicle body (402) in a locked tilt position.',\n",
       " 'c-en-0006': 'The vehicle support assembly of any of the preceding claims, wherein: the tilt-mechanism (431; 17) is configured to allow the tilting wheels (421A, 421B; 16, 16) to move vertically with respect to each other and the vehicle body (402) as the vehicle (130, --> 430) tilts with the tilting wheels (421A, 421B; 16, 16) remaining generally in a same inclination with respect to the vehicle body (402); the tilting wheels (421 A, 421 B; 16, 16) are disposed on opposite lateral sides of the vehicle body (402); and the tilt-mechanism (431; 17) allows the each of the first and second tilting wheels (421A, 421B; 16, 16) to concurrently move vertically in opposite directions from each other with respect to the vehicle body (402).',\n",
       " 'c-en-0007': 'The vehicle support assembly of any of the preceding claims, wherein tilting wheels are rear wheels (16, 16) of the vehicle, and the vehicle further comprises at least one front wheel (15, 42 1 A 421B) in supportive association with the vehicle body (402).',\n",
       " 'c-en-0008': 'The vehicle support assembly of claim 7, wherein: the at least one front wheel comprises third and fourth tilting wheels (421A, 421B) disposed respectively at different lateral positions with respect to the longitudinal axis and being in supportive association to allow the vehicle body (402) to tilt with respect to the surface (428);and the vehicle (130, 430) further comprises another tilt-mechanism (431) supportively associating the vehicle body and third and fourth tilting wheels (421A, 42 1 B) to enable the vehicle body (402) to tilt with respect to the surface (428) on which the tilting wheels are disposed.',\n",
       " 'c-en-0009': 'The vehicle support assembly of any of the preceding claims, further comprising a steering mechanism that includes a handle bar (405) to enable the rider to steer the first and second wheels (421A, 421 B) for steering the vehicle (430) while substantially retaining longitudinal positions and inclinations of the wheels relative to the body (402) and handle bar (405), wherein the tilt-mechanism (431) is associated with the steering mechanism to enable the tilting substantially independent of the handlebar (405).',\n",
       " 'c-en-0010': 'The vehicle support assembly of claim 9, wherein: the tilt mechanism (431) includes left and right linkages (470A, 470B; 570A, 570B) connected, respectively, to first and second tilting wheels (421A, 421B); the support assembly includes a suspension system (429) connected between the left and right linkages (470A, 470B; 570A, 570B) for absorbing shocks upon independent movement of the left and right linkages (470A, 470B; 570A, 570B) with respect to each other; and the tilt limiter is configured for fixing the position of both the left and right linkages (470A, 470B; 570A, 570B) with respect to the body such that the suspension system is thereby also locked.',\n",
       " 'c-en-0011': 'The vehicle support assembly of claim 10, wherein the left linkage (470A, 570A) comprises a left suspension arm (411A, 511A) that is pivotable with respect to and connected between the vehicle body (402) and the first tilting wheel (421A), and the right linkage (470B, 570B) comprises a right suspension arm (411B, 511B) that is pivotable with respect to and connected between the vehicle body (402) and the second tilting wheel (421B), the suspension system (429) and tilt limiter (450, 550) being connected with the left and right suspension arms --> such that the tilt lock mechanism restricts movement of both the suspension arms and suspension system.',\n",
       " 'c-en-0012': 'The vehicle support assembly of claims 10-11, wherein the left and right linkages (470A, 470B; 570A, 570B) comprise braking surfaces, and the tilt-limiter comprises a braking member (454, 554) for braking movement of the braking surfaces to restrict the tilting.',\n",
       " 'c-en-0013': 'The vehicle support assembly of claim 12, wherein the braking member (454, 554) comprises calipers (456, 556) and the left and right linkages comprise braking pads that include the braking surfaces.',\n",
       " 'c-en-0014': 'A vehicle, comprising: the vehicle support assembly of any of the preceding claims; a vehicle body (402) in supported association with the tilt-mechanism (450, 550, 650) for tilting laterally; a plurality (104) of batteries housed within the vehicle body (402); and an electric motor (100) powered by the batteries and configured to propel the vehicle body (402).',\n",
       " 'p0001': 'The present invention relates generally to a vehicle with a tilt-mechanism. More particularly, the invention relates to a vehicle with a tilt-mechanism that can be locked or limited.',\n",
       " 'p0002': 'Vehicles having two, three, or more wheels are generally known. Within this genus of vehicles, certain types of tilting three-wheeled vehicles are known, such as the STREAM™ and CANOPY™ scooter of Honda and the ELLISSE™ scooter of Protos, which is described in WO 98/43872. The CANOPY™ scooter, for example, has two rear wheels supported by a track hinged on the frame of the scooter to pivot about the longitudinal axis thereof. The axis of the rear wheels does not tilt when the scooter takes curves, but remains parallel to the ground.',\n",
       " 'p0003': 'Three-wheeled vehicles are also known having one driving rear wheel and two steering front wheels. For example, European Patent Application No. EP1180476 B1 describes a laterally tilting three-wheeled vehicle having two steering front wheels. This vehicle has improved roadholding capabilities to keep the center of gravity between the wheels to reduce or prevent rollover.',\n",
       " 'p0004': 'Electric vehicles are known with on-board charging system as described in U.S. Patent No. 6,326,765, with a composite frame as described in U.S. Published Application No. 2005/0092538, and with a regenerative braking system as described in U.S. Patent No. 6,724,165.',\n",
       " 'p0005': 'US 5,762,351 relates to a tricycle in which a handlebar can be tilted and is connected via a connecting mechanism to a parallelogram structure supporting wheels. -->',\n",
       " 'p0006': 'EP 0 876 263 B1 discloses a tricycle in which the basic structure of the vehicle comprises a balance element that is connected to the wheels via a respective thrust rod. If the wheels move relative to one another, the balance element pivots relative to the vehicle body.',\n",
       " 'p0007': 'DE 36 11 417 A1 relates to a tricycle in which the driver can manually influence the tilting of the vehicle if he operates foot pedals.',\n",
       " 'p0008': 'US 2,887,322 relates to a vehicle with four wheels in which the tilting of the vehicle body can be prevented by means of locking members that can be rotated so as to prevent a rotational movement of an equalizing lever connected to two wheels.',\n",
       " 'p0009': 'WO 01/36253 discloses a tricycle in which bearings of wheels are connected to pistons, and the pistons are fluidly connected with one another by means of a tubular duct. A movement of the pistons relative to one another can be prevent by means of a fluid valve.',\n",
       " 'p0010': 'US 4,740,004 discloses a tricycle having a parallelogram mount enabling steering wheels to tilt.',\n",
       " 'p0011': 'There remains, however, a need to assist the rider in keeping a vehicle upright or keeping it from tipping over when moving at slow speeds or when stopped, especially for small and light-weight riders.',\n",
       " 'p0012': 'According to the present invention, it is suggested to provide a vehicle support assembly having the features of independent claim 1.',\n",
       " 'p0013': 'A preferred embodiment of the present invention relates to a vehicle support assembly that may include a first and second tilting wheels disposed respectively at different lateral positions with respect to a longitudinal axis, a tilt-mechanism configured for supportively associating a vehicle body from the tilting wheels to enable the vehicle body to --> tilt through a first tilt range with respect to a surface on which the tilting wheels are disposed, and a tilt-limiter operably associated with the tilt-mechanism to restrict the tilting of the vehicle body to less than the first tilt range, and releasable to allow the tilting through the first tilt range. Preferably, such a support assembly is incorporated in a vehicle, the vehicle also including a vehicle body in supported association with the tilt-mechanism for tilting laterally, a plurality of batteries housed within the vehicle body, and an electric motor powered by the batteries and configured to propel the vehicle body.',\n",
       " 'p0014': 'The present invention may also be directed to a vehicle that includes a vehicle body having a longitudinal axis and being configured for supporting a rider, first and second tilting wheels disposed respectively at different lateral positions with respect to the longitudinal axis, a tilt-mechanism supportively associating the vehicle body from the tilting wheels to enable the vehicle body to tilt through a first tilt range with respect to a surface on which the tilting wheels are disposed, and a tilt-limiter operably associated with the tilt-mechanism to restrict the tilting of the vehicle body to less than the first tilt range, and releasable to allow the tilting through the first tilt range.',\n",
       " 'p0015': 'The tilt-limiter is preferably operable to lock the tilt-mechanism to fix the vehicle body in a locked tilt position. Preferably, the first tilt range is between about 20° and 80° wide. The tilt-limiter is also preferably operable to restrict said tilting to within a second tilt range that is smaller than the first tilt range. Preferably, the second range is between about 1° and 60° wide.',\n",
       " 'p0016': 'In one embodiment, the tilt-limiter may be manually operable to restrict the tilting of the vehicle body. In alternate embodiments, the tilt-limiter may be automatically operable. In some embodiments, for example, the vehicle further includes a sensor configured to sense a parameter related to the movement of the vehicle, and a tilt-limiter controller configured to operate the tilt-limiter to restrict or release the tilting of the vehicle body based on a value of the sensed parameter. Preferably, the sensor includes a speed sensor configured to sense the speed of the vehicle, the tilt-limiter controller being configured to operate the tilt-limiter to restrict the tilting of the vehicle body when the sensed speed drops below a predetermined speed threshold.',\n",
       " 'p0017': 'The tilt-limiter preferably includes a tilt adjusting mechanism configured to adjust the tilt of the vehicle body with respect to the vertical when the tilt-limiter is engaged to restrict the tilting of the vehicle body. Preferably, the vehicle further includes an inclination sensor configured to sense the inclination of the vehicle with respect to the vertical at least --> when the vehicle is at rest, and the tilt adjusting mechanism is configured to reposition the tilt-mechanism to adjust the of the vehicle body to a predetermined inclination.',\n",
       " 'p0018': 'The tilt-mechanism is preferably configured to allow the tilting wheels to move vertically with respect to each other. Preferably, the tilting wheels are disposed on opposite lateral sides of the vehicle body, and the tilt-mechanism allows the each of the first and second tilting wheels to concurrently move vertically in opposite directions from each other with respect to the vehicle body. More preferably, the tilt-mechanism includes a linkage to prevent or reduce tilting of the tilting wheels with respect to the vehicle body during the vertical movement in opposite directions.',\n",
       " 'p0019': 'In one embodiment, the tilting wheels are front wheels of the vehicle, and the vehicle further includes at least one rear wheel in supportive association with the vehicle body. In another embodiment, the tilting wheels are rear wheels of the vehicle, and the vehicle further includes at least one front wheel in supportive association with the vehicle body.',\n",
       " 'p0020': 'The vehicle can also include third and fourth tilting wheels disposed respectively at different lateral positions with respect to the longitudinal axis and being in supportive association to allow the vehicle body to tilt with respect to the surface. The vehicle preferably includes another tilt-mechanism supportively associating the vehicle body and third and fourth tilting wheels to enable the vehicle body to tilt with respect to the surface on which the tilting wheels are disposed. Preferably, the vehicle further includes another tilt-limiter operably associated with the other tilt-mechanism to restrict the tilting of the vehicle body, and releasable to allow the tilting through the first tilt range.',\n",
       " 'p0021': 'The vehicle preferably includes a steering mechanism to enable the rider to steer the first and second wheels for steering the vehicle. The vehicle also preferably includes a suspension system associated with the first and second wheels for absorbing shocks between the first and second wheels and the vehicle body. Preferably, the suspension system is configured to allow the first and second wheels to move vertically in a same direction with respect to the vehicle body.',\n",
       " 'p0022': 'The tilt-adjusting mechanism can be operatively associated with the tilt limiter to move the tilt-limiter with respect to the vehicle body, such that when the tilt limiter is engaged to restrict the tilting, the tilt adjusting mechanism moves left and right linkages of the tilt via the tilt-limiter to adjust the vehicle tilt. The linkages can each include an arm that is --> pivotally about a substantially longitudinal axis, with the tilt-limiter pivotally mounted about the axis and configured for releasable engagement with the arms.',\n",
       " 'p0023': 'The present invention thus provides a vehicle that includes a vehicle support assembly to can preferably be engaged when the vehicle decelerates to or below relatively slow speeds, or when the scooter is stopped, to prevent undesired or unnecessary tilting of the vehicle and loss of balance by the rider. The assembly can also preferably be disengaged to allow the desired tilting of the vehicle at relatively high speeds to enable advantageous steering and turning effects as the vehicle takes or turns in curves.',\n",
       " 'p0024': 'Figs. 1a-c are top, schematic views of embodiments of the present invention having various arrangements of tilting;Fig. 2 is a front-view of a front steering wheel assembly of an embodiment of a scooter;Fig. 3 is a side-view thereof;Fig. 4 is a bottom, schematic-view thereof;Fig. 5 is a front-view thereof, with the front portion of the scooter in a lower suspension position;Fig. 6 is a front-view thereof, with the front portion of the scooter in an upper suspension position;Fig. 7 is a front-view thereof, tilted with respect to the vertical;Fig. 8 is a front-view of an embodiment of a centering tilt-mechanism; andFig. 9 is a front-view of an embodiment of a tilt-mechanism for controlling the inclination of the scooter body;Fig. 10 is a block diagram showing components used to power an embodiment of a vehicle constructed according to the present invention;Figs. 11a-b are side and top schematic views, respectively, of a vehicle frame thereof;Fig. 12 is a block diagram of an electrical system thereof; andFig. 13 is front view showing a tilt-limiter of another embodiment. -->',\n",
       " 'p0025': 'The preferred electric- and hybrid-powered components and systems used in the embodiments of the vehicles of the present invention can be incorporated in vehicles having multiple wheels, for example, those having two, three, four, or more wheels. The preferred vehicle has three wheels, for example, with two front steering wheels 421A, 42 1 B and one rear drive wheel 10 as shown in Fig. 1a. The vehicle of Fig. 1a also has a vehicle body 402 that includes a frame 401, such as described in U.S. Patent No. 6,047,786.',\n",
       " 'p0026': 'A tilt-mechanism 431, which attaches the two front steering wheels 421A, 421B to the frame 401, allows the frame and wheels to tilt laterally, and also allows the wheels move vertically while staying generally aligned with the frame. The vehicle body 402 also includes a seat 13 on which the rider sits, and foot pegs 14 on either side thereof. The rear drive wheel 10 is attached to the frame 401 by swing arm 12, which also houses a motor 11 adjacent the rear drive wheel 10.',\n",
       " 'p0027': 'Another embodiment of the vehicle of the present invention is shown in Fig. 1b, and has one front steering wheel 15 and two rear drive wheels 16. The rear wheels 16 are attached to the frame 401 by tilt-mechanism 17, which has similar features to the front tilt-mechanism 431. Preferably, the rear wheels 16 are not steerable, but they can be in some embodiments. In another embodiment, the vehicle has four wheels, for example, with two front steering wheels 421A, 421B attached to the frame 401 by tilt-mechanism 431, and two rear drive wheels 16 attached to the frame 401 by tilt-mechanism 17, as shown in Fig. 1c. Other numbered features of the vehicles of Figs. 1b and 1c are similar in function to those described for the vehicle of Fig. 1a. Preferably, the vehicles of Figs. 1a-c are configured as scooters, with the rider sitting on the seat 13 on top of a vehicle body 402 that is supported by the wheels. Determination of the number of wheels preferably depends on the use, driving capabilities, and style of the vehicle that is desired.',\n",
       " 'p0028': 'A preferred embodiment of the tilt-mechanism 431 of Fig. 1a is shown in Figs. 2-7. The vehicle is preferably an electric scooter 430 that includes three wheels, with two front steering wheels 421A, 421B disposed on opposite lateral positions with respect to the longitudinal axis of the scooter 430, and a single rear drive wheel 10. Preferably, the electric scooter 430 includes the electric- and/or hybrid-powered components and systems. The scooter 430 preferably includes a frame 401, which preferably includes at the front a steering tube 401A, in which a steering column 403 is rotatably received. One end of the steering --> column 403 is preferably fitted with a handlebar 405. The steering axis S-S of the steering tube 401A preferably lies in the longitudinal plane of the scooter 430.',\n",
       " 'p0029': 'The tilt-mechanism 431 of the scooter 430 is preferably associated with the two front steering wheels 421A, 421B. The tilt-mechanism 431, which preferably includes viscoelastic suspension system 429, is provided for connecting wheels 421A, 421B to the frame 401 of the scooter. In a preferred embodiment, the tilt-mechanism 431 enables the vehicle body 402 and frame 401, the steering axis S-S, and the front wheels 421A, 421B of the scooter 430 to tilt laterally to either side with respect to the road or surface 428 as the scooter 430 is steered about a curve. In another embodiment, the tilt-mechanism 431 enables the vehicle body 402 or frame 401 and steering axis S-S of the scooter 430 to tilt laterally while maintaining the wheels 421A, 421B disposed in a substantially vertical orientation with respect to the surface 428 as the scooter 430 is steered about a curve. Advantageously, roadholding of the vehicle 430 in curves is improved using such a tilt-mechanism 431. The tilt-mechanism 431 also advantageously makes it possible for each of the wheels 421A, 421B to independently or simultaneously move vertically, and preferably in opposite directions from each other, with respect to the frame 401 of the scooter 430.',\n",
       " 'p0030': 'The tilt-mechanism 431 preferably includes an upper bracket 407 and a lower bracket 409 that are affixed, such as by welding, to the steering tube 401A, each bracket 407, 409 provided with hinges for respective pairs of upper suspension arms 411A, 411B and lower suspension arms 413A, 413B. The suspension arms 411A, 411B and 413A, 413B can alternatively be hinged on the frame in another manner instead of by the brackets 407 and 409. The linking of the viscoelastic suspension 429 to two opposite suspension arms, for example, to the two upper suspension arms 411A, 411B or to the two lower suspension arms 413A, 413B, enables a single suspension system, comprising for example a spring/shock absorber assembly, to provide for the elastic suspension of both front steering wheels, and prevents or substantially reduces the tilting of the wheels 421A, 421B with respect to the vehicle body 402 or frame 401 during vertical movement of the wheels. In an alternative embodiment, an independent suspension system can be provided, such as with shock absorbers and/or springs attached to each wheel and to the axle or suspension arm connecting the wheels.',\n",
       " 'p0031': 'The suspension arms 411A, 411 Band 413A, 413B of each of said pairs are preferably disposed symmetrically on opposite sides relative to the longitudinal axis or plane of the scooter 430. The pivot axes VA-VA, VB-VB and WA-WA, WB-WB of the various arms are preferably longitudinally aligned when the steering wheels 421A, 421B are straight, --> although variations in this orientation can be used. The pivot axes VA-VA, VB-VB and WA-WA, WB-WB are also preferably perpendicular to the steering axes ZA-ZA, ZB-ZB of the wheels 421A, 421B, although variations of this alignment can be used. Each upper suspension arm 411A, 411B and lower suspension arm 413A, 413B is articulated at the opposite ends from the pivot axes VA-VA, VB-VB and WA-WA, WB-WB, for example, by respective ball joints 415 on corresponding upper and lower ends of respective uprights 417A, 417B, although alternative suitable joints can be used. In this manner, each pair of arms, upper 411A, 411B and lower 413A, 413B, forms, with the respective upright 417A, 417B and the steering tube 401A, an articulated linkage 470A,470B, such as a four-bar linkage with arms 411A, 417A, 413A and 411B, 417B, 413B, respectively.',\n",
       " 'p0032': 'The axes VA-VA, VB-VB and WA-WA, WB-WB are preferably orthogonal to the axes MA-MA and MB-MB, which join the upper and lower ball joints 415 of each upright 417A. 417B. The ball joint 415 of each upper arm 411A, 411B is preferably set apart from the pivot axes VA-VA, VB-VB of said arm by a distance X that is equal and parallel to the analogous distance Y of the corresponding lower arm 413A, 413B. Pivoted on each upright, for example, by a conventional bearing/axle assembly 419A, 419B, is respective front wheels 421A. 421B to revolve about a respective horizontal axis ZA-ZA, ZB-ZB.',\n",
       " 'p0033': 'Furthermore, each of the axes MA-MA, MB-MB that passes through the upper and lower ball joints 415 of the respective uprights 417A, 417B of each steering wheel 421A, 421B and defines the steering axis of each wheel 421A, 421B is preferably contained in the median longitudinal-vertical plane of the wheel 421A, 421B and, in the example shown, is parallel to the axis S-S of the steering column 403. In an alternative embodiment, axes MA-MA. MB-MB can be remote from the median plane of the wheels 421A, 421B. The relative tilt or inclination with respect to the vertical of the axes of the wheels MA-MA and MB-MB is not necessarily equal to the tilt with respect to the vertical of the steering axis S-S, and is determined on the basis of considerations known to the person skilled in the art in order to obtain an appropriate compromise between stability and maneuverability of the scooter 430. Preferably, the allowable lateral tilt of the axes of the wheels and the steering is at least about 20 from vertical, more preferably at least about 30° from vertical, and is at most about 80° from vertical, more preferably at most about 70° from vertical. Preferably, the range of allowable lateral tilt is centered when the vehicle body 402 or frame 401 is substantially vertical and the scooter 430 is on a substantially flat surface 428, with each wheel 421A, 421B at the same vertical height with respect to each other. -->',\n",
       " 'p0034': 'In the embodiment shown in Figs. 2-7, the upper suspension arms 411A, 411B preferably include respective shock-absorber mount extensions 423A, 423B, which are preferably symmetrically relative to the longitudinal axis of the scooter 430 and extend upwardly. Articulated on the ends of said extensions 423A, 423B are respective ends of suspension device 429, for example fluid shock absorber 425 and spring 427, which tends to move the extensions 423A, 423B closer and apart upon compression and decompression thereof.',\n",
       " 'p0035': 'The elastic suspension of the suspension device 429 permits movement, preferably simultaneously, of the wheels 421a, 421B of the scooter 430 in the same vertical direction with respect to each other between an upper end position, as shown in Fig. 5, and a lower end position, as shown in Fig. 6. For example, in the upper end position, the upper suspension arms 411A, 411B and lower suspension arms 413A, 413B pivot respectively in the upward direction U about pivot axes VA-VA, VB-VB and WA-WA, WB-WB, thus allowing the wheels 421A, 421B to move in the upward direction U, and causing extensions 423A, 423B to move inward relative to each other in the direction I, compressing the fluid shock absorber 425 and spring 427 relative to each other. Similarly, in the lower end position, the upper suspension arms 411A, 411B and lower suspension arms 413A, 413B pivot respectively in the downward direction D about pivot axes VA-VA, VB-VB and WA-WA, WB-WB, thus allowing the wheels 421A, 421B to move in the downward direction U, and causing extensions 423A, 423B to move outward relative to each other in the direction O, decompressing the fluid shock absorber 425 and spring 427 relative to each other. Such a configuration prevents the irregularities of the road from transmitting bumps and vibrations to the rider via the steering control (for example, through the handlebar 405 attached to the steering column 403), the bumps and vibrations instead being absorbed by the suspension device 429 of the scooter 430. This makes riding on the scooter 430 particularly easy and pleasant. In alternative embodiments, the suspension device can be attached to other parts of the tilt-mechanism, frame, and wheel assemblies, or in different variations to provide shock absorption for the scooter.',\n",
       " 'p0036': 'Preferably fixed to the lower end of the steering column 403 is a steering link rod 427 that is preferably oriented parallel to the median plane of the front wheels 421A, 421B, but which can alternatively be oriented in another functional position, and linked thereto by joints 431, which are preferably ball or universal joints, and connecting rods 433A, 433B, which are in turn connected via ball, universal, or other suitable joints 432 to the ends --> of respective lateral link rods 435A, 435B. Each lateral link rod 435A, 435B is preferably solidly fixed to the respective uprights 417A, 417B of the tilt-mechanism 431, and the center of the ball joint 432 of each lateral link rod 435A, 435B preferably lies in the median plane of the respective wheel 421A, 421B, but can alternatively.be displaced therefrom in some embodiments.',\n",
       " 'p0037': 'The joints 431 of the steering link rod 427 are preferably disposed symmetrically at the side of the axis of the link rod 427 and their centers are set apart by a distance T so as to differentiate, when the scooter takes or turns in curves, the steering angle of the relative outer wheel from that of the inner wheel to obtain correct steering. This arrangement makes it possible to obtain correct steering while keeping the joints 432 on the center line of the wheels. The distance T is advantageously equal to the center distance between the axes VA-VA and VB-VB, and the center distance between the axes WA-WA and WB-WB. In this manner, correct steering behavior in curves is obtained.',\n",
       " 'p0038': 'Each connecting rod 433A, 433B preferably has a length such that its projection onto a plane orthogonal to the pivot axes of the suspension arms 411A, 411B, and 413A, 413B has a length equal to the characteristic distances X and Y of the arms. In this manner, the joltings permitted by the suspension device 429 do not change the position of each wheel 421A, 421B defined by the rotation of the handlebar 405, preventing disruption to the steering and minimizing tire wear.',\n",
       " 'p0039': 'As shown in Fig. 7, the tilt-mechanism 431 described herein permits lateral tilting of the scooter 430, for example through an angle β, advantageously to offset the centrifugal force when cornering the scooter 430. Advantageously, in embodiments where both the frame and wheels laterally tilt with respect to the vertical during curves, the resultant force exerted on the rider and vehicle body is kept generally centered between the wheels, thus retaining stability of the vehicle as it turns around a curve. In the embodiment of Fig. 7, the wheels substantially tilt along with the frame 401, preferably remaining substantially aligned with the frame since they tilt to substantially the same inclination with respect to the vertical as the frame. In the embodiment shown, the pivot axes VA-VA, VB-VB of the upper arms 411A, 411B are set apart from one another by a distance P, but it is alternatively possible for the two pivot axes VA-VA, VB-VB to coincide, without preventing independent movement of the two suspension arms 411 A, 411B.',\n",
       " 'p0040': 'In other embodiments, the upper arms can be rigidly connected to one another so as to form a cross-piece articulated in the central region about a pivot of axis on the --> steering sleeve. Furthermore, respective fluid shock absorbers, having respective compression springs to form MacPherson-type elastic suspensions, for example, can be interposed between the upper part of the respective uprights and the ball joints of the respective upper arms. The steering linkage is preferably analogous to that described in the previous embodiment, but the distances X and Y of the upper and lower arms are preferably not identical.',\n",
       " 'p0041': 'In preferred embodiments, the tilt-mechanism 431 also includes tilt-limiter operably associated therewith to restrict and permit the lateral tilting of the vehicle 430 with respect to the surface 428. As shown in the embodiment of Figs. 2-7, a preferred tilt-limiter 450 includes a tilt-limiter member 452 that is attached, and preferably fixedly coupled, to one of the upper suspension arms 411A, 411B. In other embodiments, another tilt-limiter member can be attached to the other suspension arm. The tilt-limiter member 452 preferably has a curved shape and extends toward the handle bar 405 and the steering tube 401A for association with a braking member 454, which is preferably disposed on the steering tube 401A or mounted to another part of the frame. The braking member 454 can be disposed on the front, rear, or either lateral side of the steering tube 401A, above or below the suspension arms 411A, 411B. As shown in Figs. 2-7, the braking member 454 is disposed on the front of the steering tube 401A. Preferably, the braking member 454 includes a brake caliper 456 configured to receive the tilt-limiter member 452 therebetween to clamp brake pads onto the front and rear sides of the tilt-limiter member 452.',\n",
       " 'p0042': 'An actuator 460 is preferably associated with the braking member 454, such as by a cable 458. Preferably, the actuator 460 is disposed on or near the handle bar 405 for easy manipulation by the rider, although the actuator can be positioned on the vehicle body 402 or frame 401, or at another desired location, of the scooter 430. The actuator 460 is preferably configured for adjusting the braking member 454 between the engaged and disengaged positions. When adjusted to the engaged position, the brake pads of the caliper 456 grips the front and rear side of the tilt-limiter member 452 to lock or prevent movement of the tilt-limiter member 452 relative to the braking member 454, steering tube 401A, and frame 401. Because the tilt-limiter member 452 is attached to one of the upper suspension arms, and as shown in Figs. 2-7 to the upper suspension arm 411A, that upper suspension arm is locked in position relative to the steering tube 401A and frame 401 and is prevented from pivoting about pivot axis VA-VA, while the other suspension arm 411 B is maintained in position by the suspension device 429. As a result, the frame 401, or the wheels 421A, 421B and the frame, are substantially prevented from tilting laterally, and the wheels are prevented from moving in --> the upward direction U or downward direction D. In embodiments where two tilt-limiter members are attached to both sides of the four-bar linkage of the tilt-mechanism, both suspension arms can be fixed at a desired angle. Alternatively, the upper suspension arms can be selectively fixed with each other, such as by locking out the suspension device 429, and thus engaging the braking member 454 with the tilt-limiter member 452 that is attached to only one of the upper suspension arms results in fixing both sides at a desired angle.',\n",
       " 'p0043': 'Conversely, when the braking member 454 is moved to the disengaged position, the caliper 456 is disengaged from the tilt-limiter member 452, and the tilt-limiter member 452 is free to move relative to the braking member 454, the steering tube 401A, and the frame 401. With the braking member 454 in the disengaged position, the tilt-limiter member 452 is able to move between the brake pads of the caliper 456. The upper suspension arms 411A, 411B can thus move in the upward direction U, as shown in Fig. 5, and in the downward direction D, as shown in Fig. 6, as the suspension arms pivot about pivot axes VA-VA, VB-VB. Additionally, the wheels 421A, 421B, as well as the steering tube 401A and the frame 401, can also tilt laterally with respect to the vertical and the surface 428 when the braking member 454 is in the disengaged position, as shown in Fig. 7.',\n",
       " 'p0044': 'The actuator can allow manual or automatic control or adjustment of the braking member 454 or other tilt-limiter portion to select between the engaged and disengaged positions. A preferred manual actuator can include a lever mechanism 460 that, upon actuation, applies tension to a cable 458 associated with the braking member 454, which in turn causes the brake pads of the caliper 456 of the braking member 454 to grip the tilt-limiter member 452. The actuator 460 is preferably configured to retain the braking member 454 in the engaged position, such as by using a ratchet or other suitable mechanism, so that the rider does not need to hold the actuator 460 in the engaged position. When the lever mechanism is again operated to release the braking member 454, the tension is withdrawn and the caliper 456 releases the tilt-limiter member 452.',\n",
       " 'p0045': 'In an alternative embodiment, the actuator automatically adjusts and retains the tilt-limiter between the engaged and disengages positions, and can do so using, for example, electro-mechanical, hydraulic, or pneumatic systems. In one embodiment, the actuator can be configured as a separate mechanism, for example a button member. Activation of such mechanism by the rider causes an electrical signal to be sent to a controller, preferably controller 102 as shown in Fig. 1a, which operates the tilt-limiter to adjust to, and be retained in, the engaged position. Subsequent activation of the mechanism sends another signal to the --> controller 102 to release the tilt-limiter and adjust it back to the disengaged position. Other embodiments may include both manually and automatically adjustable actuators for the tilt-limiter, for example, with the manual actuator having override capabilities over the automatic actuator.',\n",
       " 'p0046': 'In other embodiments, the tilt-limiter includes a sensor configured to sense a parameter related to the movement of the vehicle, the sensor configured to then send a signal to a controller configured to operate the tilt-limiter to restrict or permit tilting of the vehicle based on the value of the sensed parameter. For example, the vehicle can include a speed sensor, for example speed sensor 19 located adjacent rear wheel 10 in Fig. 1a, that is configured to measure the speed at which the vehicle is moving, such as by measuring the rotational speed of the rear wheel. At high speeds, it is preferred that the tilt-limiter remain in the disengaged position to allow the frame, or the wheels and frame, to tilt laterally relative to the vertical and surface/road, and allow the wheels to freely move in the vertical direction with respect to the frame, so as to enable the advantageous steering and driving benefits of the tilt mechanism as the scooter takes curves or moves over bumps in the road. When the vehicle decelerates below a preselected deceleration threshold speed, for example at less than about 5 mph, from such high speeds to relatively low speeds or stand still, the speed sensor preferably sends a signal to the controller identifying that the deceleration threshold has been passed, and the controller automatically positions the tilt-limiter in the engaged position to prevent or restrict undesired tilting of the frame, or wheels and frame, and loss of balance by the rider. Preferably, the deceleration threshold speed that triggers automatic actuation of the tilt-limiter to the engaged position is less than about 10 mph, and more preferably less than about 5 mph, and most preferably less than about 4 mph, and is preferably more than about 0.5 mph, and more preferably more than about 2 mph. A preferred deceleration threshold speed is about 3 mph.',\n",
       " 'p0047': 'Upon acceleration from stand still or other relatively lower speeds to higher speeds past an acceleration threshold speed, for example of about 3 or 4 mph, the speed sensor preferably signals the controller that such an acceleration speed has been passed, and the controller adjusts the tilt-limiter to the disengaged position. Preferably, the acceleration threshold speed for automatic actuation of the tilt-limiter to the disengaged position is at least about 2 mph, and preferably less than about 10 mph, and more preferably less than about 5 mph. Preferably, the acceleration threshold speed is less than the deceleration threshold speed, but in one embodiment, they are equal. -->',\n",
       " 'p0048': \"In some embodiments, the controller automatically actuates the tilt-limiter to the disengaged position upon movement of the vehicle in the forward direction, actuation of the throttle by the rider, or placement of the rider's feet upon foot pegs 14 as shown in Fig. 1a. In other embodiments, the speed sensor can send a signal directly to the tilt-limiter when the vehicle passes below a deceleration threshold speed or above an acceleration threshold speed, thus triggering automatic adjustment of the tilt-limiter to the engaged or disengaged position.\",\n",
       " 'p0049': 'Fig. 8 shows one embodiment of a self-centering tilt-limiter 550 that includes a first engagement member 552 and a second engagement member 554 disposed on the front of steering tube 501A. The second engagement member 554 preferably includes a centering wedge 556 that is configured for receipt within one of a plurality of centering recesses 551 of the first engagement member 552. Preferably, the second engagement member 554 also includes an actuator 557 that is configured for moving the centering wedge 556 in the direction L toward and away from the centering recesses 551 of the first engagement member 552. In this configuration, the second engagement member 554 can be inserted to a range of selected depths into the desired recess 551 to obtain a partial or complete engagement therein. A partial engagement can allow restricted tilting of the vehicle body 402 and frame 401, limited to an angular range with respect to the vertical or road/surface. Such an angular range is preferably smaller than the total allowable lateral tilt of the frame and wheels when the tilt-limiter is disengaged. Preferably, the restricted angular range is at least about 1° wide, more preferably at least about 5° wide, and at most about 20° wide, for vehicles intended to be used on substantially flat surfaces. For vehicles that are intended to be used on more rough or inclined surfaces, the restricted angular range is preferably at least about 10° wide, and more preferably at least about 20° wide, and is preferably at most about 60° wide, more preferably at most about 50° wide.',\n",
       " 'p0050': 'To adjust the second engagement member 554 to only a partially engaged position, for example when a speed sensor determines that the vehicle is decelerating to near the deceleration threshold speed, such as at about 3 to 4 mph, the actuator 557 preferably moves the centering wedge 556 partially into one of the centering recesses 551 such that the first engagement member 552 has limited movement from side to side in the tilting direction S before the centering wedge 556 contacts a portion of a centering recess 551. This enables the wheels and frame of the scooter to tilt and move in either direction to a limited degree before movement is restricted by the braking member 554. Such a partial engagement can be retained when the vehicle is completely stopped. -->',\n",
       " 'p0051': 'In contrast, to adjust the second engagement member 554 to a completely engaged position, for example when the speed sensor determines that the vehicle is at stand still or has decelerated below a deceleration threshold speed, the actuator 557 preferably moves the centering wedge 556 fully into one of the centering recesses 551 such that the centering wedge is completed engaged therewith. As described above, such an engagement prevents the wheels and frame from tilting or moving with respect to each other.',\n",
       " 'p0052': 'Various other configurations of the self-centering wedge and recess can be employed in other embodiments, depending on the desired range of the adjusted positions. For example, the degree of engagement of the centering wedge, which governs the angular tilting allowed by the partial engagement, can alternatively be varied, such as in reverse proportion to the speed of the vehicle below a threshold. In one embodiment, the respective positions of the first and second engagement portions can be reversed, with the first engagement member including the actuator that is configured to move the first engagement portion toward the second engagement portion. In other embodiments, the self-centering wedge can be partially engaged within a centering recess, and then the tilt-limiter gradually reduces the amount of restricted lateral tilting allowed as the speed of the vehicle is reduced below the deceleration threshold speed, eventually moving the centering wedge to the completely engaged position within the centering recess to lock or prevent tilting of the wheels and frame when the vehicle is at stand still.',\n",
       " 'p0053': 'In another embodiment, the tilt-limiter includes an inclination sensor, for example a gyroscope, an inclinometer, or another suitable sensor, such as accelerometers associated with a processor. The inclination sensor is configured to sense the angle of inclination β of the vehicle body or frame with respect to the vertical or the road/surface, at least when the vehicle is at stand still or moving at slow speeds. For example, at relatively slower speeds, the inclination sensor can sense when the wheels or frame are beginning to tilt to either side, which may indicate that the rider is losing balance of the scooter. In response, the tilt-limiter is preferably automatically adjusted to the engaged position to lock the wheels and frame with respect to each other and prevent lateral tilting of the vehicle. As explained above, tilting of the frame, or wheels and frame, is preferred at higher speeds, so the tilt-limiter would remain disengaged at these speeds irrespective of input by the inclination sensor.',\n",
       " 'p0054': 'As shown in Fig. 9, the tilt-limiter 650 includes a tilt-limiter member 652, such as a geared rack, having teeth or threads 651 on a surface thereof, and an tilt adjusting --> mechanism 654 disposed on the front portion of the steering tube 601A. Preferably, the tilt adjusting mechanism 654 includes a threaded engagement portion 653, such as a worm gear, and a motor 658 for rotating the screw 653, both which are connected to an actuator 657. Actuator 657 is configured for moving the worm gear 653 and motor 658 in the direction L, into and out of engagement with the tilt-limiter member 652. Preferably, the tilt adjusting member 654 is moved to the engaged position when a speed sensor senses deceleration to less than a predetermined deceleration threshold speed. In the engaged position, the motor 658 can control the inclination of the vehicle body or frame with respect to the vertical degree by causing the tilt-limiter member 652 to move from side to side in the direction S, and thus control the amount of tilt of the frame and wheels. For example, the motor 658 can lock the rotation of the worm gear 653 to prevent lateral movement of the tilt-limiter member 652, and thus prevent lateral tilting of the frame and wheels. Alternatively, lateral tilting-play can be allowed by providing a tolerance between the worm gear 653 and the teeth of the rack 652.',\n",
       " 'p0055': 'Additionally, if an inclination sensor senses that the vehicle body or frame is laterally tilted, the motor 658 can rotate the worm gear 653 to reposition the tilt-limiter member 652, thus adjusting the inclination of the vehicle body to an upright, or other desired, orientation relative to the vertical. For example, if the vehicle is stopped on a slope that descends to the left, the left wheel will be lower than the right wheel, with the body tilted upright. If then the vehicle is turned to another orientation with respect to the sloping surface, the tilt-adjusting mechanism can control the tilt-mechanism to keep the vehicle body upright regardless of the slope.',\n",
       " 'p0056': 'While electro-mechanical systems have been described for the self-centering tilt-limiter 550 of Fig. 8, and the tilt-limiter 650 with tilt adjusting mechanism 654 of Fig. 9, such tilt-limiters can also incorporate pneumatic, hydraulic, or other suitable systems.',\n",
       " 'p0057': 'In the previous embodiments, the tilt-limiter or portions thereof are described as being attached or fixedly coupled to the steering tube and frame. Alternatively, the tilt-limiter or portions thereof can be moveable with respect to the steering tube and/or frame of the vehicle. This can be accomplished with a biasing member, for example a spring, that allows partial lateral movement of the tilt-limiter, which is restrictively biased toward a center position by the biasing member.',\n",
       " 'p0058': 'Fig. 10 shows a block diagram illustrating functional components of a preferred embodiment of a vehicle. While the vehicle of the present invention can be powered by a variety of suitable power plants, such as internal combustion engines, a preferred --> embodiment is powered by an electric motor 100. The vehicle preferably has at least two wheels, and more preferably has three or four wheels. Alternative embodiments can have additional wheels on which the body of the vehicle is supported. Motor 100 can be a three-phase, slotted, brushless, permanent magnet motor, as described in U.S. Patent No. 6,326,765.',\n",
       " 'p0059': 'Other embodiments can include motors with different specifications and configurations. In particular, motors having different numbers of poles, or having greater or lesser power and torque can be used.',\n",
       " 'p0060': 'In the preferred embodiment of a scooter, motor 100 receives a three-phase voltage from motor controller 102. The motor controller 102 has the battery DC voltage as its input and converts the battery voltage to a three-phase output to the motor 100. Preferably, motor controller 102 outputs a modulated signal, such as pulse width modulation, to drive the scooter motor 100. The motor controller 102 preferably includes high-power semiconductor switches which are gated (controlled) to selectively produce the waveform necessary to connect the battery pack 104 to the scooter motor 100.',\n",
       " 'p0061': 'A rider input device, including transducer 40, is preferably operably configured to translate a rider input from the throttle 22 into an electrical signal that is transmitted to a regenerative braking control module 64, including a microprocessor on the scooter controller 118. Preferably, the transducer 40 has three wires: a power lead 56, a ground 58, and a signal wire 60. The control module 64 further receives input signals from at least one process monitoring sensor 66. The process monitoring sensor 66 preferably provides instrumentation data such as drive wheel speed, front wheel speed, and vehicle accelerometer measurements.',\n",
       " 'p0062': 'The braking system can be configured to apply a regenerative braking torque to the drive wheel when the transducer signals a regenerative braking command and the process sensors signal a drive wheel velocity that is greater than zero. A preferred embodiment of regenerative braking system is described in U.S. Patent No. 6,724,165. Preferably, the braking torque increases with an increase in a signal from the transducer 40 as controlled by the rider. In essence, during the regenerative braking mode, the motor preferably acts as a generator supplying current to the battery, which loads down the generator and thereby causes a braking action.',\n",
       " 'p0063': 'Battery pack 104 preferably includes sufficient batteries connected in series to provide at least 100 VDC, although alternative embodiments can provide lesser voltages. The battery pack 104 can weight between 40 lbs and 350 lbs, and is a comprises a significant --> portion of the total vehicle weight. Thus, it may be difficult for a smaller and/or lighter rider to control or maintain stability of the vehicle due to its large overall weight. The battery pack 104 preferably includes nickel metal hydride (Ni-MH) batteries, for example, 30 amp-hour, 120 volt Ni-MH batteries, although other battery types, such as lead-acid batteries, Ni-Zn batteries, or lithium ion batteries, can also be used. Regardless of which types of batteries are used, the batteries of the present invention are preferably rechargeable. In one embodiment, a battery charger 106 is used to recharge battery pack 104. Battery charger 106 preferably resides on-board the scooter and is connectable to an AC outlet via a plug 108 or the like. Alternatively, the battery charger 106 can be separate from the scooter and is connected to the scooter only during, for example, high-current charging sessions.',\n",
       " 'p0064': 'In addition to the battery charger 106, which preferably connects to an AC outlet to recharge the battery pack 104, an on-board charging system 110 can also be incorporated on the scooter. The embodiment of Fig. 10 is a hybrid vehicle, which also includes an on-board charging system that preferably includes an on-board power generating source 112, a fuel supply or tank 114, which feeds the on-board power generating source 112, and a converter/charge controller 116, which transforms the output of the on-board power generating source 112 into a form suitable for charging the battery pack 104.',\n",
       " 'p0065': \"Scooter controller 118 preferably sends signals to the motor controller 102, the battery charger 106 (when provided on-board the scooter), the on-board power generating source 112, and the converter/charge controller 116. The charge of the battery pack 104 is monitored via a battery monitor 120, which in turn is connected to the scooter controller 118 to provide information which can affect the operation of the scooter controller 118. The energy state of the battery pack 104 is displayed on a battery gauge 122 so that the rider can monitor the condition of the battery pack 104, much like a fuel gauge is used on a gasoline powered scooter. The status of the fuel supply in the tank 114 is similarly displayed on a fuel gauge 124 for the rider's convenience. In an alternative hybrid-powered embodiment, the on-board power generating source 112 charges the batteries that power the motor, but no separate charger or charging circuit is provided.\",\n",
       " 'p0066': 'A DC-DC converter 116 is preferably used to convert the output of the fuel cell 112 into a voltage suitable for charging the battery pack 104. The converter 116 preferably includes a number of step-up converters arranged in parallel to deliver the current required by the battery to sustain effective charging. The step-up converters preferably have an input voltage in this embodiment, which can be on the order of between about 28 and 40 VDC, and --> an output voltage, which can be on the order of between about 135 and 145 VDC at 0.5 amps, and preferably of about 140 VDC. Positive output terminals of each step-up converter are preferably passed through a diode to ensure that the battery bus voltage does not leak current back through the step-up converter in the event that the fuel cell is switched off. The output from the step-converters is connected to a current limiting resistor. In this manner, the DC-DC converter provides an output of, for example, about 138 volts at a maximum draw of about 2 amps at the output port.',\n",
       " 'p0067': 'The output port of the DC-DC converter 116 is preferably applied to a charge controller 160, such as described in U.S. Patent No. 5,965,996. Charge controller 160 is capable of controlling power to a nominal 120 volt DC battery pack, which can be, for example, the battery pack 104. While several suitable charging schemes can be used, the charge controller 160 preferably charges a battery pack by first using a constant current until the battery pack reaches about 140 volts, then applying a constant voltage at about 140 volts, and then reapplying a constant current until the battery pack reaches about 156 volts. Each of these voltage set points can be specified and varied under the control of the scooter controller 118. In this respect, the scooter controller 118 enables the DC-DC converter 116 to continue to charge the battery pack 104 via the charge controller 160 until the battery becomes fully charged or the rider elects to shut down the system. In this manner, the charge controller 160 provides over-current and over-voltage limit protection. The charge controller 160 is preferably configured to minimize ripple current applied to the battery pack and is also configured to provide temperature compensation consistent with the variability of gassing voltage requirements. Battery gauge 122 is preferably provided to show the battery and charging status.',\n",
       " 'p0068': 'Referring to Figs. 11a and 11b, a preferred embodiment of a scooter 130 has a scooter frame 132, such as disclosed in U.S. Patent No. 6,047,786. The scooter 130 has two front wheels 421A, 421B that is connected to the frame by tilt-mechanism 431, as described above. The battery pack 104 is preferably arranged low in the frame 132 to provide a relatively low scooter center of gravity. While Figs. 11a and 11b show the battery pack 104 to be a linear arrangement of batteries having substantially similar vertical positions, in other embodiments the batteries can be arranged in different configurations so as to optimize space in the scooter frame. -->',\n",
       " 'p0069': 'The on-board power generating source 112 in this embodiment is positioned just above the battery pack 104, with the fuel tank 114 positioned above on-board power generating source 112. Preferably, the fuel tank 114 is easily accessible from outside the scooter 130 to facilitate both refueling and replacement thereof. The fuel tank 114 can alternatively be integrally provided with the on-board power generating source 112.',\n",
       " 'p0070': 'The scooter motor 100, along with its associated gear box, drives the rear wheel 134 of the scooter, and is preferably mounted to a swing arm 12 that is pivotally connected with the frame 132 to drive the rear wheel 134. Shock absorber 18 also connects the rear wheel 134 to the rear of the frame 132. The scooter motor controller 102 is preferably positioned on or in the interior of the frame 132, and preferably to minimize the distance between it and the motor 100. The battery charger 106 is preferably positioned close to the battery pack 104 and, therefore, at a relatively low position, and preferably to facilitate connection to an external power supply. The battery gauge 122 and the fuel supply gauge 124 are preferably positioned near the front of the scooter 130 to facilitate viewing by a rider while riding.',\n",
       " 'p0071': 'In a first preferred embodiment, the on-board power generating source 112 is a fuel cell, and the fuel supply 114 is either hydrogen or methanol, depending on the nature of the fuel cell 112. Such a system preferably operates on ambient air and clean pressurized hydrogen fuel from the fuel tank 114. This type of fuel cell includes a cell stack of a proton exchange membrane type (PEM), mechanical auxiliaries, and an electronic control module. A fuel cell such as this provides a relatively low power on-board power generating source, which operates at a continuous, steady state output. This provides a constant trickle charge to the battery pack 104 via the DC-DC converter/charge controller. The fuel cell 112 preferably normally works on a continuous basis, but can be selectively turned on or off via the scooter controller 118.',\n",
       " 'p0072': 'In another embodiment, the on-board power generating source is an internal combustion engine, such as a Honda model no. EU100I engine. This engine has an integrated fuel tank and is manually started. The single phase engine preferably drives a mechanical charging unit, such as an alternator or generator. The engine has a rated output of about 900VA with a maximum output of about 1000VA and cooperates with the mechanical charging unit to put out a 120 volt, 60 Hz signal for charging the batteries. This output is preferably conditioned to provide appropriate charging of the battery pack. Furthermore, because the internal combustion engine is air-breathing, air inlet and exhaust hardware are --> also provided in this embodiment. In addition, a gasoline fuel gauge is provided to inform the rider of the fuel level. A keyed switch to start and stop the engine is also preferably provided.',\n",
       " 'p0073': 'In a further embodiment, the on-board power generating source is preferably arranged to directly power the motor, and optionally is connected to charge batteries as such. In one embodiment, the batteries and the on-board power generating source can operate in parallel to power the rear wheel, for example. Other embodiments are not hybrids, and do not include an on-board power generating source. An exemplary embodiment to power the vehicle is disclosed in U.S. Patent No. 6,047,786.',\n",
       " 'p0074': 'Fig. 12 illustrates the scooter motor controller 102 of the preferred embodiment in conjunction with the scooter motor 100 and the battery pack 104. Motor controller 102 preferably includes three IGBTs (insulated gate bipolar transistors). These IGBTs preferably have a peak rating of about 400 amps and about 600 volts in this embodiment, and can sustain a maximum continuous current of about 100 amps. The input voltage applied to the IGBTs in this preferred setup is the 120 volt nominal battery bank 104, which can be implemented either as lead-acid batteries typically having about a 80-130 volt operating range, Ni-Zn batteries having about a 90-140 volt operation range, or other types of batteries, such as Ni-MH.',\n",
       " 'p0075': 'In the embodiment of Fig. 12, the throttle can serve the dual role of demanding vehicle acceleration and also regenerative braking. The throttle 22 is preferably a bidirectional twist grip throttle. The throttle is biased toward a neutral resting position and is capable of rotating about the handle in first and second directions. Rotation of the throttle 22 from the neutral position in the first direction demands vehicle acceleration, and rotation of the throttle 22 from the neutral position in the second direction demands regenerative braking.',\n",
       " 'p0076': 'Additionally, rotation of the handle from the neutral position in the second direction can include a plurality of subranges. For instance, movement over a first subrange can demand regenerative braking, and movement over a second subrange can demand another type of braking. In one example, the first subrange can include a rotational displacement within about the first 25% or 10% of the range, and the second subrange can include a displacement within the remaining range of motion.',\n",
       " 'p0077': 'In another embodiment, the throttle 22 is biased toward a neutral resting position and is capable of rotating from the resting position about the handle in a first direction only (i.e., non-bidirectional). In such case, rotation of the throttle in the first direction from the resting position over a first subrange to first rotation position can demand --> regenerative braking, and further rotation of the handle from the first rotation position over a second subrange to a second rotation position can demand vehicle acceleration. In one example, the first subrange can include a rotational displacement preferably within about the first 10% to 15% of the total range, more preferably within about 10% of the total range, and the second subrange can include a displacement within the remaining range of motion. In another embodiment, a brake control, such as a hand lever or foot pedal, with a first portion of the brake control travel, such as about 10%, activates regenerative braking, and further actuation activates one or more different types of braking, such as friction braking, in addition to or instead of the regenerative braking.',\n",
       " 'p0078': 'Also, the throttle 22 can allow the vehicle to have reverse capability for very low-speed maneuvering (for example, with feet on the ground). Maximum driving torque in reverse would be greatly reduced and the vehicle speed would be limited to a walking pace. The rider can preferably enable reverse operation via a switch on the handlebars. In one embodiment, a twist-grip throttle allowing rotational displacement in one direction operates the vehicle in reverse when a switch on the handlebars is positioned in reverse mode. In another embodiment, the twist-grip throttle is operable in both directions relative to the neutral resting position. Preferably, twisting the handgrip in the counter-clockwise direction when viewed from the right-hand side of the vehicle will control forward throttle, while twisting the handgrip in the opposite direction will control regenerative braking in normal forward operating mode, and reverse torque in reverse mode.',\n",
       " 'p0079': 'In another embodiment, rider controlled regenerative braking demand is managed by an actuating device that is preferably separate from the vehicle acceleration throttle 22. The separate actuating device can be another hand-brake, a thumb lever, or a foot pedal, among others.',\n",
       " 'p0080': 'It can be expedient to design an electric scooter based on the expected type of setting (for example, rural vs. urban vs. extra urban) in which that scooter is expected to operate. Accordingly, one can preferably select the number and type of batteries used in the battery pack 104, based upon the expected environment in which the electric scooter is to operate. It should be evident to one of ordinary skill in the art, that reducing the number of batteries, or the rating of batteries, in the aggregate, reduces costs and overall weight of an electric scooter. Accordingly, economic benefits can be realized if electric scooters were designed with the intended operating environment in mind. For example, a scooter frame can preferably include nickel metal hydride (Ni-MH) batteries, for example, 30 amp-hour, 120 --> volt Ni-MH batteries. In other embodiments, the scooter can hold about 10 12-volt sealed lead-acid (SLA) batteries, each battery having about a 16 amp-hour rating for a total of approximately 1.9 kilowatt hours at 120 volts. Alternatively, each battery can have a rating of about 26 amp-hours for a total of 3.1 kilowatt hours at 120 volts. Because the 26 amp-hour batteries, however, are larger than the 16 amp-hour batteries, the larger batteries occupy more space within the frame.',\n",
       " 'p0081': 'In a first preferred embodiment, the battery supply 104 includes 30 amp-hour, 120 volt Ni-MH batteries. In alternative embodiments, the battery supply can include lead acid 16 or 18 amp-hour batteries. The lower amp-hour rating batteries are preferably used when the scooter is designed to commute only a small distance within an urban area, whereas the 26 amp-hour batteries are preferably used when the scooter is designed to travel in suburban as well as rural areas with a longer commuting distance. In another embodiment, nickel zinc (Ni-Zn) batteries or lithium ion batteries can be used instead of the lead-acid type. Alternative embodiments can also include other types of batteries or power storage devices.',\n",
       " 'p0082': 'In the preferred embodiment, a battery charger is preferably included to charge the batteries from an external power source. The battery charger can preferably be plugged into a 120 volt, 60 Hz AC power supply or a 220 volt, 50 Hz AC power supply.',\n",
       " 'p0083': 'In another embodiment, capacitors are used in combination with batteries, and in a further embodiment, capacitors are used instead of batteries. For example, ultra-capacitors can take a charge and release it at a faster rate, and in some applications, ultra-capacitors can be superior to batteries in delivering load currents to the motor when accelerating. Power management and electronic controls for capacitors can be simpler than for batteries.',\n",
       " 'p0084': 'Referring to Fig. 13, another embodiment has a tilt-limiting member 552A,552B attached to each side of the tilt-mechanism, preferably to each upper suspension arm 511A,511B. Caliper 552A of the braking member 554 is preferably operable to engage both tilt-limiting members 552A,552B, which as in the previously described embodiments, are curved brakes of materials suitable for disk brakes. The curvature and length of the tilt-limiting members 552A,552B is selected so that regardless of the position of the left and right linkages 570A,570B, the tilt-limiting members 552A,552B remain in a position extending through the caliper, although alternatively, the tilt-limiting members 552A,552B are made shorter. When the braking member 554 is engaged, it locks the movement of both right and left linkages 570A,570B, and simultaneously blocks relative movement therebetween, --> effectively locking out the shock-absorber and spring of the suspension system as well. The calipers can preferably be suddenly or gradually activated or released to suddenly lock out the tilting system or to do so gradually.',\n",
       " 'p0085': 'Tilt adjusting member 554 is mounted preferably to the vehicle body at one end 572 and to the braking member 554 at its other end 574. The caliper 556 of the braking member 554 is preferably pivotally mounted with respect to the vehicle body, such as about hinge pin 576 which extends substantially longitudinally. Preferably, the suspension arms 511A,511B to which the tilt-limiting members 552A,552B are attached are also hinged from the same pivot pin 576 to maintain a generally concentric relationship between the caliper and the curvature of the tilt-limiting members 552A 552B. The tilt-adjusting member is actuatable, manually or automatically as described in relation to the previous embodiments, to rotate the caliper 556 about the pivot pin 576. In this manner, when the caliper 556 is closed to grip the two tilt-limiting members 552A,552B, the tilt-adjusting member is configured to move the brake member 554 and thus pivot the linkages 570 that are locked therewith to adjust and control the tilt of the vehicle, when the tilt-adjusting member varies its length.',\n",
       " 'p0086': 'Tilt-adjusting member 554 is preferably a linear actuator in this embodiment, such as motor-controlled lead screw. Other linear or non-linear actuators can alternatively be used to move the caliper 554 to adjust the tilt.',\n",
       " 'p0087': 'The term \"about,\" as used herein, should generally be understood to refer to both the corresponding number and a range of numbers. Moreover, all numerical ranges herein should be understood to include each whole integer within the range.',\n",
       " 'p0088': 'While illustrative embodiments of the invention are disclosed herein, it will be appreciated that numerous modifications and other embodiments can be devised by those skilled in the art. Features of the embodiments described herein, can be combined, separated, interchanged, and/or rearranged to generate other embodiments. Therefore, it will be understood that the appended claims are intended to cover all such modifications and embodiments that come within the scope of the present invention.'}"
      ]
     },
     "execution_count": 30,
     "metadata": {},
     "output_type": "execute_result"
    }
   ],
   "source": [
    "nonciting_dataset_df.loc[0].Content #dictionary basicaly\n"
   ]
  },
  {
   "cell_type": "markdown",
   "metadata": {},
   "source": [
    "We can notice that this document contains a title, claims and a descriprion devided into paragraphs. This document does not have an abstract. We already kno that the first claim could be the most important one and the one that explaines in short the whole patent, or the most important idea of it. For us it could make sense to observe:  \n",
    "    - the relationship between all claims of citing patents and description of cited patents: because claims could 'sumarize' what is the idea of the whole document, and if we look at the maped dataset, we can see that most patents are cited form paragraphs to different claims, so this might be the best solution\n",
    "    - the relationship between first claims of citing patents and all clims of cited patents: because other claims are usually somehow connected to the first claim, or they directly depend on it   \n",
    "    - the relationship between first claims of citing patents and first claims of cited patents: because the similarity between first claims is a very clear sign of existing patent, however we can expect that this will not happen all that often.\n",
    "    "
   ]
  },
  {
   "cell_type": "markdown",
   "metadata": {},
   "source": [
    "As for the models, we thought that sparse embeddings might not be the best approach in this case. They rely on exact word matching, which can be misleading, and based on your proposed results, they do not perform particularly well. Therefore, we decided to try a few dense embedding strategies, such as Doc2Vec and the BERT model, which will be explained later."
   ]
  },
  {
   "cell_type": "markdown",
   "metadata": {
    "id": "mDAiPap5zyNv"
   },
   "source": [
    "## 1.2 Create a column with the Title"
   ]
  },
  {
   "cell_type": "markdown",
   "metadata": {
    "id": "NpEjnqaozyNv"
   },
   "source": [
    "Note for lateR: Try all text content by uncommenting the below"
   ]
  },
  {
   "cell_type": "code",
   "execution_count": 19,
   "metadata": {
    "id": "DoHmGwoLzyNv"
   },
   "outputs": [],
   "source": [
    "#import ast\n",
    "#nonciting_dataset_df['all_content'] = nonciting_dataset_df['Content'].apply(ast.literal_eval)"
   ]
  },
  {
   "cell_type": "code",
   "execution_count": 43,
   "metadata": {
    "id": "wWxYn71BzyNv",
    "outputId": "11405e20-c857-431c-b58b-b0ec518da06d"
   },
   "outputs": [
    {
     "data": {
      "text/html": [
       "<div>\n",
       "<style scoped>\n",
       "    .dataframe tbody tr th:only-of-type {\n",
       "        vertical-align: middle;\n",
       "    }\n",
       "\n",
       "    .dataframe tbody tr th {\n",
       "        vertical-align: top;\n",
       "    }\n",
       "\n",
       "    .dataframe thead th {\n",
       "        text-align: right;\n",
       "    }\n",
       "</style>\n",
       "<table border=\"1\" class=\"dataframe\">\n",
       "  <thead>\n",
       "    <tr style=\"text-align: right;\">\n",
       "      <th></th>\n",
       "      <th>Application_Number</th>\n",
       "      <th>Application_Date</th>\n",
       "      <th>Application_Category</th>\n",
       "      <th>Content</th>\n",
       "      <th>Title</th>\n",
       "    </tr>\n",
       "  </thead>\n",
       "  <tbody>\n",
       "    <tr>\n",
       "      <th>0</th>\n",
       "      <td>2019772</td>\n",
       "      <td>2013-08-28</td>\n",
       "      <td>B1</td>\n",
       "      <td>{'title': 'VEHICLE WITH LOCKABLE TILT SYSTEM',...</td>\n",
       "      <td>VEHICLE WITH LOCKABLE TILT SYSTEM</td>\n",
       "    </tr>\n",
       "    <tr>\n",
       "      <th>1</th>\n",
       "      <td>2136094</td>\n",
       "      <td>2013-05-22</td>\n",
       "      <td>B1</td>\n",
       "      <td>{'title': 'UNIVERSAL JOINT', 'c-en-0001': 'A u...</td>\n",
       "      <td>UNIVERSAL JOINT</td>\n",
       "    </tr>\n",
       "    <tr>\n",
       "      <th>2</th>\n",
       "      <td>2340701</td>\n",
       "      <td>2011-07-06</td>\n",
       "      <td>A2</td>\n",
       "      <td>{'title': 'Apparatus, method and computer prog...</td>\n",
       "      <td>Apparatus, method and computer program product...</td>\n",
       "    </tr>\n",
       "    <tr>\n",
       "      <th>3</th>\n",
       "      <td>2338661</td>\n",
       "      <td>2011-06-29</td>\n",
       "      <td>A1</td>\n",
       "      <td>{'title': 'Method and apparatus for forming a ...</td>\n",
       "      <td>Method and apparatus for forming a rubber article</td>\n",
       "    </tr>\n",
       "    <tr>\n",
       "      <th>4</th>\n",
       "      <td>2339144</td>\n",
       "      <td>2011-06-29</td>\n",
       "      <td>A2</td>\n",
       "      <td>{'title': 'Heat exchanger mounting assembly in...</td>\n",
       "      <td>Heat exchanger mounting assembly in a gas turbine</td>\n",
       "    </tr>\n",
       "    <tr>\n",
       "      <th>...</th>\n",
       "      <td>...</td>\n",
       "      <td>...</td>\n",
       "      <td>...</td>\n",
       "      <td>...</td>\n",
       "      <td>...</td>\n",
       "    </tr>\n",
       "    <tr>\n",
       "      <th>16832</th>\n",
       "      <td>1995910</td>\n",
       "      <td>2012-07-11</td>\n",
       "      <td>B1</td>\n",
       "      <td>{'title': 'Synchronization of a split audio, v...</td>\n",
       "      <td>Synchronization of a split audio, video, or ot...</td>\n",
       "    </tr>\n",
       "    <tr>\n",
       "      <th>16833</th>\n",
       "      <td>1997557</td>\n",
       "      <td>2012-02-08</td>\n",
       "      <td>B1</td>\n",
       "      <td>{'title': 'Fluid handling unit and fluid handl...</td>\n",
       "      <td>Fluid handling unit and fluid handling apparat...</td>\n",
       "    </tr>\n",
       "    <tr>\n",
       "      <th>16834</th>\n",
       "      <td>1992846</td>\n",
       "      <td>2012-04-04</td>\n",
       "      <td>B1</td>\n",
       "      <td>{'title': 'Oil pump system for vehicle', 'c-en...</td>\n",
       "      <td>Oil pump system for vehicle</td>\n",
       "    </tr>\n",
       "    <tr>\n",
       "      <th>16835</th>\n",
       "      <td>1981195</td>\n",
       "      <td>2012-01-11</td>\n",
       "      <td>B1</td>\n",
       "      <td>{'title': 'Apparatus for construction of quasi...</td>\n",
       "      <td>Apparatus for construction of quasi orthogonal...</td>\n",
       "    </tr>\n",
       "    <tr>\n",
       "      <th>16836</th>\n",
       "      <td>1952974</td>\n",
       "      <td>2012-10-24</td>\n",
       "      <td>B1</td>\n",
       "      <td>{'title': 'Plugging method and apparatus for p...</td>\n",
       "      <td>Plugging method and apparatus for particulate ...</td>\n",
       "    </tr>\n",
       "  </tbody>\n",
       "</table>\n",
       "<p>16837 rows × 5 columns</p>\n",
       "</div>"
      ],
      "text/plain": [
       "      Application_Number Application_Date Application_Category  \\\n",
       "0                2019772       2013-08-28                   B1   \n",
       "1                2136094       2013-05-22                   B1   \n",
       "2                2340701       2011-07-06                   A2   \n",
       "3                2338661       2011-06-29                   A1   \n",
       "4                2339144       2011-06-29                   A2   \n",
       "...                  ...              ...                  ...   \n",
       "16832            1995910       2012-07-11                   B1   \n",
       "16833            1997557       2012-02-08                   B1   \n",
       "16834            1992846       2012-04-04                   B1   \n",
       "16835            1981195       2012-01-11                   B1   \n",
       "16836            1952974       2012-10-24                   B1   \n",
       "\n",
       "                                                 Content  \\\n",
       "0      {'title': 'VEHICLE WITH LOCKABLE TILT SYSTEM',...   \n",
       "1      {'title': 'UNIVERSAL JOINT', 'c-en-0001': 'A u...   \n",
       "2      {'title': 'Apparatus, method and computer prog...   \n",
       "3      {'title': 'Method and apparatus for forming a ...   \n",
       "4      {'title': 'Heat exchanger mounting assembly in...   \n",
       "...                                                  ...   \n",
       "16832  {'title': 'Synchronization of a split audio, v...   \n",
       "16833  {'title': 'Fluid handling unit and fluid handl...   \n",
       "16834  {'title': 'Oil pump system for vehicle', 'c-en...   \n",
       "16835  {'title': 'Apparatus for construction of quasi...   \n",
       "16836  {'title': 'Plugging method and apparatus for p...   \n",
       "\n",
       "                                                   Title  \n",
       "0                      VEHICLE WITH LOCKABLE TILT SYSTEM  \n",
       "1                                        UNIVERSAL JOINT  \n",
       "2      Apparatus, method and computer program product...  \n",
       "3      Method and apparatus for forming a rubber article  \n",
       "4      Heat exchanger mounting assembly in a gas turbine  \n",
       "...                                                  ...  \n",
       "16832  Synchronization of a split audio, video, or ot...  \n",
       "16833  Fluid handling unit and fluid handling apparat...  \n",
       "16834                        Oil pump system for vehicle  \n",
       "16835  Apparatus for construction of quasi orthogonal...  \n",
       "16836  Plugging method and apparatus for particulate ...  \n",
       "\n",
       "[16837 rows x 5 columns]"
      ]
     },
     "execution_count": 43,
     "metadata": {},
     "output_type": "execute_result"
    }
   ],
   "source": [
    "def extract_title(dictionary):\n",
    "    return dictionary.get('title', None)  # Return None if 'title' key is not present\n",
    "\n",
    "nonciting_dataset_df['Title'] = nonciting_dataset_df['Content'].apply(extract_title)\n",
    "citing_dataset_df['Title'] = citing_dataset_df['Content'].apply(extract_title)\n",
    "\n",
    "nonciting_dataset_df"
   ]
  },
  {
   "cell_type": "markdown",
   "metadata": {
    "id": "uJfxYtEIzyNw"
   },
   "source": [
    "## 1.3 Number of CITED patents per citing patent"
   ]
  },
  {
   "cell_type": "code",
   "execution_count": 45,
   "metadata": {
    "id": "fgHs6NHTzyNw",
    "outputId": "ec968d20-f830-4ccc-9417-fe13e50e5329"
   },
   "outputs": [
    {
     "data": {
      "image/png": "[encoded data removed]",
      "text/plain": [
       "<Figure size 640x480 with 1 Axes>"
      ]
     },
     "metadata": {},
     "output_type": "display_data"
    }
   ],
   "source": [
    "list_lengths = [len(values) for values in mapping_dict.values()]\n",
    "\n",
    "plt.hist(list_lengths, bins=20)\n",
    "plt.xlabel('Length of Values List')\n",
    "plt.ylabel('Frequency')\n",
    "plt.title('Number of CITED patents for a cited patent')\n",
    "plt.grid(True)\n",
    "plt.show()\n"
   ]
  },
  {
   "cell_type": "markdown",
   "metadata": {},
   "source": [
    "Before getting into descriprions, we wanted to define some of the used evaluation metrics and their limitations.  \n",
    "- Precision @ k:  \n",
    "   $$precission = \\frac{TP}{K_{predited}\\_P}$$\n",
    "\n",
    "  Precission calculates the percentage of well predicted relevant patents divided among K predicted relevant documents. The important thing that we have to keep in mind is that for each patent the maximum number of cited documents i 6, which is shown on the previous histogram. Since in one of the help functions, we are calculating the mean precission in the firs 10 predicted documents, for one document $\\frac{TP}{10}$ could not be larger than 10, if the document has 10 cited documents and if all of them are in the first 10 prediced documents. Next, after averaging that on all documents, we have to keep in mind not to expect this value to go over approximately 50%.\n",
    "\n",
    "- Recall @ k:  \n",
    "   $$recall = \\frac{TP}{P}$$\n",
    "\n",
    "  Recall at k represents the percentage of well predicted relevant documents out of real relevant documents, but in k predictions. This can go up to 100% if we are lucky.\n",
    "\n",
    "- Mean ranking represents how well we ranked the well prediced documents.\n",
    "\n",
    "  "
   ]
  },
  {
   "cell_type": "markdown",
   "metadata": {},
   "source": [
    "# 2 Implementation"
   ]
  },
  {
   "cell_type": "markdown",
   "metadata": {},
   "source": [
    "## 2.1 Doc2Vec \n",
    "### 2.1.1 Doc2Vec on claims for citing patents and description on cited patents  \n",
    "First we have to explain how does Doc2Vec work and why did we chose to work with it. Document to vector embedding works very similarly to word to vector algorithmsm that are skip-gram and CBOW. Document to vectore captures paragraph or document embedding in such way that similar documents are close in vector space. However, besides regular word embeddings, it includes an ID of paragraph(or in our case a word) which allows us to observe the sense of the document as whole, and not just separate words.  \n",
    "Doc2Vec uses two algorithms called Distributed Memory(inspired by CBOW) and Distributed Bag of Words(inspired by skip-gram):\n",
    "![DM and DBoW](img.png)\n",
    "As it can be seen on an image, these algorithms work very similarly to Word2Vec algorithmsm except they have an additional feature. In DM, ID of the paragraph/word is used as another output next to context words, while in DBoW, an ID is used as an input instead of target word, in order to predict context words. In all our next code wq will use vector size 300, because smaller one might not capture enough data, window size 5, and train the network for 30 epochs. For tokenizing, we used simple_preprocess(), which removes numbers and interpunction and lowercases and returns tokens of the length between 2 and 15[https://tedboy.github.io/nlps/_modules/gensim/utils.html#simple_preprocess].  \n",
    "Finally after data embeding we can find cosine similarity and based on that find the most relevant patents."
   ]
  },
  {
   "cell_type": "code",
   "execution_count": 56,
   "metadata": {},
   "outputs": [
    {
     "name": "stdout",
     "output_type": "stream",
     "text": [
      "Number of documents without claims: 0\n",
      "Number of documents without claims: 0\n",
      "Number of documents without description: 0\n"
     ]
    }
   ],
   "source": [
    "claims_citing_train = create_corpus(json_citing_train , 'claims')\n",
    "claims_citing_test = create_corpus(json_citing_test , 'claims')\n",
    "\n",
    "descriprion_nonciting = create_corpus(json_nonciting, 'description')\n",
    "#claims_citing_train[:2]"
   ]
  },
  {
   "cell_type": "code",
   "execution_count": 58,
   "metadata": {},
   "outputs": [],
   "source": [
    "from gensim.models.doc2vec import Doc2Vec, TaggedDocument\n",
    "from gensim.utils import simple_preprocess\n",
    "\n",
    "all_docs_d2v_cd = claims_citing_train + descriprion_nonciting\n",
    "\n",
    "tagged_docs_d2v_cd = [\n",
    "    TaggedDocument(words=simple_preprocess(doc['text']), tags=[doc['id']])\n",
    "    for doc in all_docs_d2v_cd\n",
    "] #gensim.utils.simple_preprocess() uzima samo slova min duzine 2 max duzine 15 "
   ]
  },
  {
   "cell_type": "code",
   "execution_count": 69,
   "metadata": {},
   "outputs": [],
   "source": [
    "model_d2v_cd = Doc2Vec(vector_size=300, window=5, min_count=2, workers=4, epochs = 30)\n",
    "\n",
    "model_d2v_cd.build_vocab(tagged_docs_d2v_cd)\n",
    "\n",
    "model_d2v_cd.train(tagged_docs_d2v_cd, total_examples=model_d2v_cd.corpus_count, epochs=model_d2v_cd.epochs)"
   ]
  },
  {
   "cell_type": "code",
   "execution_count": 81,
   "metadata": {},
   "outputs": [],
   "source": [
    "vectors_by_id_d2v_cd = {doc['id']: model_d2v_cd.dv[doc['id']] for doc in claims_citing_train}\n",
    "vectors_by_id_d2v_cd1 = {doc['id']: model_d2v_cd.dv[doc['id']] for doc in descriprion_nonciting}"
   ]
  },
  {
   "cell_type": "code",
   "execution_count": 83,
   "metadata": {},
   "outputs": [],
   "source": [
    "vectors_by_id_list_d2v_cd = [vec.tolist() for vec in vectors_by_id_d2v_cd.values()]\n",
    "vectors_by_id_list_d2v_cd1 = [vec.tolist() for vec in vectors_by_id_d2v_cd1.values()]"
   ]
  },
  {
   "cell_type": "code",
   "execution_count": 85,
   "metadata": {},
   "outputs": [
    {
     "data": {
      "text/plain": [
       "array([[ 68.10290525,  55.84348628, -16.76568087, ..., 133.86160854,\n",
       "         60.32533674,  74.04376177],\n",
       "       [ 27.9201    ,  42.09617593,  38.36402711, ...,  64.90619179,\n",
       "        232.25354515,  29.37063873],\n",
       "       [-33.18729856,  84.55886282,  11.46876006, ..., 150.31974152,\n",
       "        141.78140785, 107.92516859],\n",
       "       ...,\n",
       "       [ 61.80640173,  53.2705212 , 134.0250661 , ...,  33.91754578,\n",
       "        140.14290247, 110.45794807],\n",
       "       [ 92.52725148,  81.01167012,  75.05724031, ...,  77.97030897,\n",
       "         11.5774164 ,  97.79234646],\n",
       "       [ 37.92575272,  50.96859482,  78.37204844, ...,  37.13707959,\n",
       "         85.59354877,  53.92051656]])"
      ]
     },
     "execution_count": 85,
     "metadata": {},
     "output_type": "execute_result"
    }
   ],
   "source": [
    "cosine_similarities_d2v_cd = linear_kernel(vectors_by_id_list_d2v_cd, vectors_by_id_list_d2v_cd1)\n",
    "cosine_similarities_d2v_cd"
   ]
  },
  {
   "cell_type": "code",
   "execution_count": 89,
   "metadata": {},
   "outputs": [
    {
     "name": "stdout",
     "output_type": "stream",
     "text": [
      "Recall at 10: 0.4793\n",
      "Recall at 20: 0.5679\n",
      "Recall at 50: 0.6848\n",
      "Recall at 100: 0.7624\n",
      "Mean ranking: 36.0658\n",
      "Mean average precision: 0.2837\n",
      "Number of patents measured: 6831\n",
      "Number of patents not in the citation: 0\n"
     ]
    }
   ],
   "source": [
    "k = 100\n",
    "top_k_rank_d2v_cd = top_k_ranks(claims_citing_train, descriprion_nonciting, cosine_similarities_d2v_cd, k=k)\n",
    "\n",
    "# Calculate the metrics\n",
    "true_labels, predicted_labels, not_in_citation_mapping = \\\n",
    "    get_true_and_predicted(mapping_dict, top_k_rank_d2v_cd)\n",
    "mean_rank = mean_ranking(true_labels, predicted_labels)\n",
    "mean_average_precision_val = mean_average_precision(true_labels, predicted_labels)\n",
    "recall_at_10_d2v_cd = mean_recall_at_k(true_labels, predicted_labels, k=10)\n",
    "recall_at_20_d2v_cd = mean_recall_at_k(true_labels, predicted_labels, k=20)\n",
    "recall_at_50_d2v_cd = mean_recall_at_k(true_labels, predicted_labels, k=50)\n",
    "recall_at_100_d2v_cd = mean_recall_at_k(true_labels, predicted_labels, k=100)\n",
    "\n",
    "print(\"Recall at 10:\", round(recall_at_10_d2v_cd, 4))\n",
    "print(\"Recall at 20:\", round(recall_at_20_d2v_cd, 4))\n",
    "print(\"Recall at 50:\", round(recall_at_50_d2v_cd, 4))\n",
    "print(\"Recall at 100:\", round(recall_at_100_d2v_cd, 4))\n",
    "\n",
    "\n",
    "print(\"Mean ranking:\", round(mean_rank, 4))\n",
    "print(\"Mean average precision:\", round(mean_average_precision_val, 4))\n",
    "print(\"Number of patents measured:\", len(predicted_labels))\n",
    "print(\"Number of patents not in the citation:\", not_in_citation_mapping)"
   ]
  },
  {
   "cell_type": "markdown",
   "metadata": {},
   "source": [
    "Comparison of the best matched prediced document and best matched cited document:"
   ]
  },
  {
   "cell_type": "code",
   "execution_count": 108,
   "metadata": {},
   "outputs": [
    {
     "data": {
      "text/plain": [
       "'Device (1) for controlling the braking of a trailer, comprising: - at least one control line (2) connectable to a source of a work fluid at a first pressure; - a braking line (3) connectable to the service braking system (4) of the trailer and communicating with said control line (2); - at least one additional line (5) connectable to a source of a work fluid at a second pressure; - at least one emergency line (6) connectable to said additional line (5) and connectable to the emergency and/or parking brake (7) of the trailer of the type of a hydraulically released spring brake; - at least one discharge line (8) of the work fluid communicating with a collection tank (9); - first valve means operable between a braking position, wherein said additional line (5) is isolated from said discharge line (8), and an emergency position, wherein said additional line (5) is communicating with said discharge line (8);'"
      ]
     },
     "execution_count": 108,
     "metadata": {},
     "output_type": "execute_result"
    }
   ],
   "source": [
    "filtered_df = citing_dataset_df[\n",
    "    (citing_dataset_df['Application_Number'] == '3650293') &\n",
    "    (citing_dataset_df['Application_Category'] == 'A1')\n",
    "]\n",
    "filtered_df['Content'].iloc[0]['c-en-0001']\n",
    "\n",
    "#nonciting_dataset_df[nonciting_dataset_df['Application_Number']==top_k_rank_d2v_cd['3650293A1'][0]].Content['p0001']"
   ]
  },
  {
   "cell_type": "code",
   "execution_count": 127,
   "metadata": {},
   "outputs": [
    {
     "data": {
      "text/plain": [
       "'The present invention relates to a device for controlling the braking of a trailer. It is known that in the case of a trailer towed by a prime mover their braking systems are operatively connected so that the braking of the prime mover actuated by the operator also causes the braking of the towed trailer.'"
      ]
     },
     "execution_count": 127,
     "metadata": {},
     "output_type": "execute_result"
    }
   ],
   "source": [
    "filtered_df = nonciting_dataset_df[\n",
    "    (nonciting_dataset_df['Application_Number'] == '3085590') &\n",
    "    (nonciting_dataset_df['Application_Category'] == 'A1')\n",
    "]\n",
    "filtered_df['Content'].iloc[0]['p0001']"
   ]
  },
  {
   "cell_type": "code",
   "execution_count": 129,
   "metadata": {},
   "outputs": [
    {
     "data": {
      "text/plain": [
       "'The present invention relates to device for the towing vehicle-trailer connection. As is known, to date towing vehicles are connected to the relative trailer through a connection device comprising a male coupling associated with the towing vehicle and a relative female coupling associated with the trailer.'"
      ]
     },
     "execution_count": 129,
     "metadata": {},
     "output_type": "execute_result"
    }
   ],
   "source": [
    "cited_id = mapping_dict['3650293A1'][0]\n",
    "filtered_df = nonciting_dataset_df[\n",
    "    (nonciting_dataset_df['Application_Number'] == cited_id[:-2]) &\n",
    "    (nonciting_dataset_df['Application_Category'] == cited_id[-2:])\n",
    "]\n",
    "filtered_df['Content'].iloc[0]['p0001']"
   ]
  },
  {
   "cell_type": "markdown",
   "metadata": {},
   "source": [
    "Finally, we can see that the results are not bad. We got 76.24% of recall@100, and 28.37% of precision. Also the average rank of relevant data is 36.0658. These results are quite good, especially if we consider mean average precision. However, it would be good to look at the data and see the difference between predicted and actually relevant patents. The previous three cells show one of the citing patents (only the first claim) and two cited patents (their first paragraphs). We can notice a very interesting thing. Even though the prediction and ground truth are not the same document, we can notice that the structure of the first paragraphs is almost identical. The same words are used, the same phrasing, they both talk about trailers, however one of them is talking about the breaking system, and the other one is talking vehicle-trailer connection. It could be understood why these two documents would both be considered relevant for the topic, and how could be very close in the vector space. But probably the most interesting part is that the citing document is actually talking about the breaking system of a trailer, and not about trailer-vehicle connection, but it is using a lot of 'connection' word, so we can conslude that for the creation of a map dataset, some word matching algorithm was used, such as TF_IDF or BM25.  \n",
    "This result is the best one vor Doc2Vec because we are using the whole descriprions and citations, which is also mostly cited, as shown in the mapping dataset."
   ]
  },
  {
   "cell_type": "markdown",
   "metadata": {},
   "source": [
    "### 2.1.2 Doc2Vec on first claim for citing patents and claims on cited patents"
   ]
  },
  {
   "cell_type": "code",
   "execution_count": 91,
   "metadata": {},
   "outputs": [
    {
     "name": "stdout",
     "output_type": "stream",
     "text": [
      "Number of documents without claim 1: 0\n",
      "Number of documents without claim 1: 0\n",
      "Number of documents without claims: 3\n",
      "Removing 3 documents without required text\n",
      "Recall at 10: 0.2439\n",
      "Recall at 20: 0.3065\n",
      "Recall at 50: 0.4152\n",
      "Recall at 100: 0.4979\n",
      "Mean ranking: 61.7052\n",
      "Mean average precision: 0.1325\n",
      "Number of patents measured: 6831\n",
      "Number of patents not in the citation: 0\n"
     ]
    }
   ],
   "source": [
    "claim1_citing_train = create_corpus(json_citing_train , 'claim1')\n",
    "claim1_citing_test = create_corpus(json_citing_test , 'claim1')\n",
    "\n",
    "claims_nonciting = create_corpus(json_nonciting, 'claims')\n",
    "#claims_citing_train[:2]\n",
    "all_docs = claim1_citing_train + claims_nonciting\n",
    "tagged_docs = [\n",
    "    TaggedDocument(words=simple_preprocess(doc['text']), tags=[doc['id']])\n",
    "    for doc in all_docs\n",
    "]\n",
    "model = Doc2Vec(vector_size=300, window=5, min_count=2, workers=4, epochs = 30)\n",
    "\n",
    "model.build_vocab(tagged_docs)\n",
    "\n",
    "model.train(tagged_docs, total_examples=model.corpus_count, epochs=model.epochs)\n",
    "vectors_by_id = {doc['id']: model.dv[doc['id']] for doc in claim1_citing_train}\n",
    "\n",
    "vectors_by_id1 = {doc['id']: model.dv[doc['id']] for doc in claims_nonciting}\n",
    "vectors_by_id_list = [vec.tolist() for vec in vectors_by_id.values()]\n",
    "vectors_by_id_list1 = [vec.tolist() for vec in vectors_by_id1.values()]\n",
    "\n",
    "cosine_similarities = linear_kernel(vectors_by_id_list, vectors_by_id_list1)\n",
    "cosine_similarities\n",
    "\n",
    "k = 100\n",
    "top_k_rank = top_k_ranks(claim1_citing_train, claims_nonciting, cosine_similarities, k=k)\n",
    "\n",
    "# Calculate the metrics\n",
    "true_labels, predicted_labels, not_in_citation_mapping = \\\n",
    "    get_true_and_predicted(mapping_dict, top_k_rank)\n",
    "mean_rank = mean_ranking(true_labels, predicted_labels)\n",
    "mean_average_precision_val = mean_average_precision(true_labels, predicted_labels)\n",
    "recall_at_10_d2v_c1c = mean_recall_at_k(true_labels, predicted_labels, k=10)\n",
    "recall_at_20_d2v_c1c = mean_recall_at_k(true_labels, predicted_labels, k=20)\n",
    "recall_at_50_d2v_c1c = mean_recall_at_k(true_labels, predicted_labels, k=50)\n",
    "recall_at_100_d2v_c1c = mean_recall_at_k(true_labels, predicted_labels, k=100)\n",
    "\n",
    "print(\"Recall at 10:\", round(recall_at_10_d2v_c1c, 4))\n",
    "print(\"Recall at 20:\", round(recall_at_20_d2v_c1c, 4))\n",
    "print(\"Recall at 50:\", round(recall_at_50_d2v_c1c, 4))\n",
    "print(\"Recall at 100:\", round(recall_at_100_d2v_c1c, 4))\n",
    "\n",
    "\n",
    "print(\"Mean ranking:\", round(mean_rank, 4))\n",
    "print(\"Mean average precision:\", round(mean_average_precision_val, 4))\n",
    "print(\"Number of patents measured:\", len(predicted_labels))\n",
    "print(\"Number of patents not in the citation:\", not_in_citation_mapping)"
   ]
  },
  {
   "cell_type": "markdown",
   "metadata": {},
   "source": [
    "Afetr using only claim 1 for citing documents and all claims for cited documents, we can see that the results are much worse than in the previous case, which could be expected, for the reasons already mentioned."
   ]
  },
  {
   "cell_type": "markdown",
   "metadata": {},
   "source": [
    "### 2.1.3 Doc2Vec on first claim for citing patents and first claim on cited patents"
   ]
  },
  {
   "cell_type": "code",
   "execution_count": 92,
   "metadata": {},
   "outputs": [
    {
     "name": "stdout",
     "output_type": "stream",
     "text": [
      "Number of documents without claim 1: 0\n",
      "Number of documents without claim 1: 0\n",
      "Number of documents without claim 1: 3\n",
      "Removing 3 documents without required text\n",
      "Recall at 10: 0.0849\n",
      "Recall at 20: 0.1206\n",
      "Recall at 50: 0.1875\n",
      "Recall at 100: 0.2514\n",
      "Mean ranking: 82.723\n",
      "Mean average precision: 0.0419\n",
      "Number of patents measured: 6831\n",
      "Number of patents not in the citation: 0\n"
     ]
    }
   ],
   "source": [
    "claim1_citing_train = create_corpus(json_citing_train , 'claim1')\n",
    "claim1_citing_test = create_corpus(json_citing_test , 'claim1')\n",
    "\n",
    "claim1_nonciting = create_corpus(json_nonciting, 'claim1')\n",
    "#claims_citing_train[:2]\n",
    "all_docs = claim1_citing_train + claim1_nonciting\n",
    "tagged_docs = [\n",
    "    TaggedDocument(words=simple_preprocess(doc['text']), tags=[doc['id']])\n",
    "    for doc in all_docs\n",
    "]\n",
    "model = Doc2Vec(vector_size=300, window=5, min_count=2, workers=4, epochs = 30)\n",
    "\n",
    "model.build_vocab(tagged_docs)\n",
    "\n",
    "model.train(tagged_docs, total_examples=model.corpus_count, epochs=model.epochs)\n",
    "vectors_by_id = {doc['id']: model.dv[doc['id']] for doc in claim1_citing_train}\n",
    "\n",
    "vectors_by_id1 = {doc['id']: model.dv[doc['id']] for doc in claim1_nonciting}\n",
    "vectors_by_id_list = [vec.tolist() for vec in vectors_by_id.values()]\n",
    "vectors_by_id_list1 = [vec.tolist() for vec in vectors_by_id1.values()]\n",
    "\n",
    "cosine_similarities = linear_kernel(vectors_by_id_list, vectors_by_id_list1)\n",
    "cosine_similarities\n",
    "\n",
    "k = 100\n",
    "top_k_rank = top_k_ranks(claim1_citing_train, claim1_nonciting, cosine_similarities, k=k)\n",
    "\n",
    "# Calculate the metrics\n",
    "true_labels, predicted_labels, not_in_citation_mapping = \\\n",
    "    get_true_and_predicted(mapping_dict, top_k_rank)\n",
    "mean_rank = mean_ranking(true_labels, predicted_labels)\n",
    "mean_average_precision_val = mean_average_precision(true_labels, predicted_labels)\n",
    "recall_at_10_d2v_c1c1 = mean_recall_at_k(true_labels, predicted_labels, k=10)\n",
    "recall_at_20_d2v_c1c1 = mean_recall_at_k(true_labels, predicted_labels, k=20)\n",
    "recall_at_50_d2v_c1c1 = mean_recall_at_k(true_labels, predicted_labels, k=50)\n",
    "recall_at_100_d2v_c1c1 = mean_recall_at_k(true_labels, predicted_labels, k=100)\n",
    "\n",
    "print(\"Recall at 10:\", round(recall_at_10_d2v_c1c1, 4))\n",
    "print(\"Recall at 20:\", round(recall_at_20_d2v_c1c1, 4))\n",
    "print(\"Recall at 50:\", round(recall_at_50_d2v_c1c1, 4))\n",
    "print(\"Recall at 100:\", round(recall_at_100_d2v_c1c1, 4))\n",
    "\n",
    "\n",
    "print(\"Mean ranking:\", round(mean_rank, 4))\n",
    "print(\"Mean average precision:\", round(mean_average_precision_val, 4))\n",
    "print(\"Number of patents measured:\", len(predicted_labels))\n",
    "print(\"Number of patents not in the citation:\", not_in_citation_mapping)"
   ]
  },
  {
   "cell_type": "markdown",
   "metadata": {},
   "source": [
    "Afetr using only claim 1 for citing documents and claim 1 for cited documents, we can see that the results are even worse than in the before, which could be expected, for the reasons already mentioned."
   ]
  },
  {
   "cell_type": "markdown",
   "metadata": {},
   "source": [
    "## 2.2 BERT Encoder  \n",
    "Now we also wanted to test another encoding method that is based on transformers. We used a Sentence Transformer BERT 'all-MiniLM-L6-v2' model from hugging face, and managed to improve our results."
   ]
  },
  {
   "cell_type": "markdown",
   "metadata": {},
   "source": [
    "### 2.2.1 BERT Encoder on claims for citing patents and description on cited patents"
   ]
  },
  {
   "cell_type": "code",
   "execution_count": 69,
   "metadata": {},
   "outputs": [
    {
     "name": "stdout",
     "output_type": "stream",
     "text": [
      "First load attempt failed: [Errno 2] No such file or directory: 'sentence-transformers/all-MiniLM-L6-v2\\\\sentence_xlnet_config.json'\n",
      "Number of documents without claims: 0\n",
      "Number of documents without claims: 0\n",
      "Number of documents without description: 0\n",
      "Recall at 10: 0.5214\n",
      "Recall at 20: 0.6158\n",
      "Recall at 50: 0.7378\n",
      "Recall at 100: 0.8104\n",
      "Mean ranking: 31.2318\n",
      "Mean average precision: 0.3208\n",
      "Number of patents measured: 6831\n",
      "Number of patents not in citation: 0\n"
     ]
    }
   ],
   "source": [
    "from sentence_transformers import SentenceTransformer\n",
    "import torch\n",
    "from transformers import AutoModel\n",
    "import transformers\n",
    "#VECTOR LENGTH IS 384\n",
    "\n",
    "#this next part is because we had some huge problems with importing of transformers and this solves it\n",
    "if not hasattr(transformers.modeling_utils, 'init_empty_weights'):\n",
    "    from contextlib import contextmanager\n",
    "    @contextmanager\n",
    "    def init_empty_weights():\n",
    "        yield\n",
    "    transformers.modeling_utils.init_empty_weights = init_empty_weights\n",
    "\n",
    "if not hasattr(transformers.modeling_utils, 'find_tied_parameters'):\n",
    "    def find_tied_parameters(*args, **kwargs):\n",
    "        return {}\n",
    "    transformers.modeling_utils.find_tied_parameters = find_tied_parameters\n",
    "\n",
    "\n",
    "try:\n",
    "    model = SentenceTransformer(\n",
    "        'all-MiniLM-L6-v2',\n",
    "        device='cuda' if torch.cuda.is_available() else 'cpu',\n",
    "        model_kwargs={\n",
    "            'low_cpu_mem_usage': True,\n",
    "            'tie_word_embeddings': False \n",
    "        }\n",
    "    )\n",
    "except Exception as e:\n",
    "    print(f\"First load attempt failed: {e}\")\n",
    "    model = SentenceTransformer(\n",
    "        'all-MiniLM-L6-v2',\n",
    "        device='cpu'\n",
    "    )\n",
    "\n",
    "\n",
    "#from here is our actual code\n",
    "claims_citing_train = create_corpus(json_citing_train, 'claims')\n",
    "claims_citing_test = create_corpus(json_citing_test, 'claims')\n",
    "description_nonciting = create_corpus(json_nonciting, 'description')\n",
    "\n",
    "texts_citing = [doc['text'] for doc in claims_citing_train]\n",
    "texts_nonciting = [doc['text'] for doc in description_nonciting]\n",
    "\n",
    "embeddings_citing = model.encode(texts_citing, convert_to_tensor=True)\n",
    "embeddings_nonciting = model.encode(texts_nonciting, convert_to_tensor=True)\n",
    "\n",
    "cosine_similarities = linear_kernel(embeddings_citing.tolist(), embeddings_nonciting.tolist())\n",
    "\n",
    "k = 100\n",
    "top_k_rank = top_k_ranks(claims_citing_train, descriprion_nonciting, cosine_similarities, k=k)\n",
    "\n",
    "# Calculate metrics\n",
    "true_labels, predicted_labels, not_in_citation_mapping = get_true_and_predicted(mapping_dict, top_k_rank)\n",
    "mean_rank = mean_ranking(true_labels, predicted_labels)\n",
    "mean_average_precision_val = mean_average_precision(true_labels, predicted_labels)\n",
    "recall_at_10 = mean_recall_at_k(true_labels, predicted_labels, k=10)\n",
    "recall_at_20 = mean_recall_at_k(true_labels, predicted_labels, k=20)\n",
    "recall_at_50 = mean_recall_at_k(true_labels, predicted_labels, k=50)\n",
    "recall_at_100 = mean_recall_at_k(true_labels, predicted_labels, k=100)\n",
    "\n",
    "print(\"Recall at 10:\", round(recall_at_10, 4))\n",
    "print(\"Recall at 20:\", round(recall_at_20, 4))\n",
    "print(\"Recall at 50:\", round(recall_at_50, 4))\n",
    "print(\"Recall at 100:\", round(recall_at_100, 4))\n",
    "print(\"Mean ranking:\", round(mean_rank, 4))\n",
    "print(\"Mean average precision:\", round(mean_average_precision_val, 4))\n",
    "print(\"Number of patents measured:\", len(predicted_labels))\n",
    "print(\"Number of patents not in citation:\", not_in_citation_mapping)"
   ]
  },
  {
   "cell_type": "markdown",
   "metadata": {},
   "source": [
    "First we also tried all the claims for citing documents, and the description for cited documents, and the results are improved than with Doc2Vec. BERT transformesrs also include paragraph IDs in their training in order to preserve the sense of the text, and the reason why this is better then Doc2Vec could be because it is a larger architecture. This was finally our best result, and we used it on test patents as well."
   ]
  },
  {
   "cell_type": "markdown",
   "metadata": {},
   "source": [
    "### 2.2.1 BERT Encoder on claims for citing patents and description on cited patents"
   ]
  },
  {
   "cell_type": "code",
   "execution_count": 73,
   "metadata": {},
   "outputs": [
    {
     "name": "stdout",
     "output_type": "stream",
     "text": [
      "Number of documents without claim 1: 0\n",
      "Number of documents without claim 1: 0\n",
      "Number of documents without claims: 3\n",
      "Removing 3 documents without required text\n",
      "Recall at 10: 0.493\n",
      "Recall at 20: 0.5847\n",
      "Recall at 50: 0.6995\n",
      "Recall at 100: 0.7747\n",
      "Mean ranking: 34.5613\n",
      "Mean average precision: 0.3053\n",
      "Number of patents measured: 6831\n",
      "Number of patents not in citation: 0\n"
     ]
    }
   ],
   "source": [
    "#from here is our actual code\n",
    "claim1_citing_train = create_corpus(json_citing_train, 'claim1')\n",
    "claim1_citing_test = create_corpus(json_citing_test, 'claim1')\n",
    "clames_nonciting = create_corpus(json_nonciting, 'claims')\n",
    "\n",
    "texts_citing = [doc['text'] for doc in claim1_citing_train]\n",
    "texts_nonciting = [doc['text'] for doc in clames_nonciting]\n",
    "\n",
    "embeddings_citing = model.encode(texts_citing, convert_to_tensor=True)\n",
    "embeddings_nonciting = model.encode(texts_nonciting, convert_to_tensor=True)\n",
    "\n",
    "cosine_similarities = linear_kernel(embeddings_citing.tolist(), embeddings_nonciting.tolist())\n",
    "\n",
    "k = 100\n",
    "top_k_rank = top_k_ranks(claim1_citing_train, clames_nonciting, cosine_similarities, k=k)\n",
    "\n",
    "# Calculate metrics\n",
    "true_labels, predicted_labels, not_in_citation_mapping = get_true_and_predicted(mapping_dict, top_k_rank)\n",
    "mean_rank = mean_ranking(true_labels, predicted_labels)\n",
    "mean_average_precision_val = mean_average_precision(true_labels, predicted_labels)\n",
    "recall_at_10 = mean_recall_at_k(true_labels, predicted_labels, k=10)\n",
    "recall_at_20 = mean_recall_at_k(true_labels, predicted_labels, k=20)\n",
    "recall_at_50 = mean_recall_at_k(true_labels, predicted_labels, k=50)\n",
    "recall_at_100 = mean_recall_at_k(true_labels, predicted_labels, k=100)\n",
    "\n",
    "print(\"Recall at 10:\", round(recall_at_10, 4))\n",
    "print(\"Recall at 20:\", round(recall_at_20, 4))\n",
    "print(\"Recall at 50:\", round(recall_at_50, 4))\n",
    "print(\"Recall at 100:\", round(recall_at_100, 4))\n",
    "print(\"Mean ranking:\", round(mean_rank, 4))\n",
    "print(\"Mean average precision:\", round(mean_average_precision_val, 4))\n",
    "print(\"Number of patents measured:\", len(predicted_labels))\n",
    "print(\"Number of patents not in citation:\", not_in_citation_mapping)"
   ]
  },
  {
   "cell_type": "markdown",
   "metadata": {},
   "source": [
    "The previous result is made on first claim of citing documents and all of the claims of cited documents. This result is worse than the previous one, which is expected, but it is also better than the best Doc2Vec."
   ]
  },
  {
   "cell_type": "markdown",
   "metadata": {},
   "source": [
    "### 2.2.1 BERT Encoder on claims for citing patents and description on cited patents"
   ]
  },
  {
   "cell_type": "code",
   "execution_count": 75,
   "metadata": {},
   "outputs": [
    {
     "name": "stdout",
     "output_type": "stream",
     "text": [
      "Number of documents without claim 1: 0\n",
      "Number of documents without claim 1: 0\n",
      "Number of documents without claim 1: 3\n",
      "Removing 3 documents without required text\n",
      "Recall at 10: 0.4763\n",
      "Recall at 20: 0.5609\n",
      "Recall at 50: 0.6795\n",
      "Recall at 100: 0.7568\n",
      "Mean ranking: 36.5708\n",
      "Mean average precision: 0.2922\n",
      "Number of patents measured: 6831\n",
      "Number of patents not in citation: 0\n"
     ]
    }
   ],
   "source": [
    "#from here is our actual code\n",
    "claim1_citing_train = create_corpus(json_citing_train, 'claim1')\n",
    "claim1_citing_test = create_corpus(json_citing_test, 'claim1')\n",
    "clame1_nonciting = create_corpus(json_nonciting, 'claim1')\n",
    "\n",
    "texts_citing = [doc['text'] for doc in claim1_citing_train]\n",
    "texts_nonciting = [doc['text'] for doc in clame1_nonciting]\n",
    "\n",
    "embeddings_citing = model.encode(texts_citing, convert_to_tensor=True)\n",
    "embeddings_nonciting = model.encode(texts_nonciting, convert_to_tensor=True)\n",
    "\n",
    "cosine_similarities = linear_kernel(embeddings_citing.tolist(), embeddings_nonciting.tolist())\n",
    "\n",
    "k = 100\n",
    "top_k_rank = top_k_ranks(claim1_citing_train, clame1_nonciting, cosine_similarities, k=k)\n",
    "\n",
    "# Calculate metrics\n",
    "true_labels, predicted_labels, not_in_citation_mapping = get_true_and_predicted(mapping_dict, top_k_rank)\n",
    "mean_rank = mean_ranking(true_labels, predicted_labels)\n",
    "mean_average_precision_val = mean_average_precision(true_labels, predicted_labels)\n",
    "recall_at_10 = mean_recall_at_k(true_labels, predicted_labels, k=10)\n",
    "recall_at_20 = mean_recall_at_k(true_labels, predicted_labels, k=20)\n",
    "recall_at_50 = mean_recall_at_k(true_labels, predicted_labels, k=50)\n",
    "recall_at_100 = mean_recall_at_k(true_labels, predicted_labels, k=100)\n",
    "\n",
    "print(\"Recall at 10:\", round(recall_at_10, 4))\n",
    "print(\"Recall at 20:\", round(recall_at_20, 4))\n",
    "print(\"Recall at 50:\", round(recall_at_50, 4))\n",
    "print(\"Recall at 100:\", round(recall_at_100, 4))\n",
    "print(\"Mean ranking:\", round(mean_rank, 4))\n",
    "print(\"Mean average precision:\", round(mean_average_precision_val, 4))\n",
    "print(\"Number of patents measured:\", len(predicted_labels))\n",
    "print(\"Number of patents not in citation:\", not_in_citation_mapping)"
   ]
  },
  {
   "cell_type": "markdown",
   "metadata": {},
   "source": [
    "The previous result is made on the first claim of citing documents and the first claim of cited documents. This result is again worse than the previous one, which is expected, but it is similat to the best Doc2Vec result."
   ]
  },
  {
   "cell_type": "markdown",
   "metadata": {
    "id": "8WQWCXLCzyN9"
   },
   "source": [
    "# 3.0 Get Test Predictions for CodaBench"
   ]
  },
  {
   "cell_type": "code",
   "execution_count": 95,
   "metadata": {},
   "outputs": [
    {
     "name": "stdout",
     "output_type": "stream",
     "text": [
      "Number of documents without claims: 0\n",
      "Number of documents without description: 0\n"
     ]
    }
   ],
   "source": [
    "claims_citing_test = create_corpus(json_citing_test, 'claims')\n",
    "description_nonciting = create_corpus(json_nonciting, 'description')"
   ]
  },
  {
   "cell_type": "code",
   "execution_count": 103,
   "metadata": {},
   "outputs": [
    {
     "name": "stdout",
     "output_type": "stream",
     "text": [
      "First load attempt failed: [Errno 2] No such file or directory: 'sentence-transformers/all-MiniLM-L6-v2\\\\sentence_xlnet_config.json'\n"
     ]
    }
   ],
   "source": [
    "if not hasattr(transformers.modeling_utils, 'init_empty_weights'):\n",
    "    from contextlib import contextmanager\n",
    "    @contextmanager\n",
    "    def init_empty_weights():\n",
    "        yield\n",
    "    transformers.modeling_utils.init_empty_weights = init_empty_weights\n",
    "\n",
    "if not hasattr(transformers.modeling_utils, 'find_tied_parameters'):\n",
    "    def find_tied_parameters(*args, **kwargs):\n",
    "        return {}\n",
    "    transformers.modeling_utils.find_tied_parameters = find_tied_parameters\n",
    "\n",
    "\n",
    "try:\n",
    "    model = SentenceTransformer(\n",
    "        'all-MiniLM-L6-v2',\n",
    "        device='cuda' if torch.cuda.is_available() else 'cpu',\n",
    "        model_kwargs={\n",
    "            'low_cpu_mem_usage': True,\n",
    "            'tie_word_embeddings': False \n",
    "        }\n",
    "    )\n",
    "except Exception as e:\n",
    "    print(f\"First load attempt failed: {e}\")\n",
    "    model = SentenceTransformer(\n",
    "        'all-MiniLM-L6-v2',\n",
    "        device='cpu'\n",
    "    )"
   ]
  },
  {
   "cell_type": "code",
   "execution_count": 105,
   "metadata": {},
   "outputs": [],
   "source": [
    "texts_citing = [doc['text'] for doc in claims_citing_test]\n",
    "texts_nonciting = [doc['text'] for doc in description_nonciting]\n",
    "embeddings_citing = model.encode(texts_citing, convert_to_tensor=True)\n",
    "embeddings_nonciting = model.encode(texts_nonciting, convert_to_tensor=True)\n",
    "\n",
    "cosine_similarities = linear_kernel(embeddings_citing.tolist(), embeddings_nonciting.tolist())\n",
    "\n",
    "k = 100\n",
    "top_k_rank = top_k_ranks(claims_citing_test, description_nonciting, cosine_similarities, k=k)"
   ]
  },
  {
   "cell_type": "code",
   "execution_count": 115,
   "metadata": {
    "id": "OlkYbzZvzyN9"
   },
   "outputs": [],
   "source": [
    "with open('prediction1.json', 'w') as f:\n",
    "    json.dump(top_k_rank, f)"
   ]
  }
 ],
 "metadata": {
  "colab": {
   "collapsed_sections": [
    "wC-2H0llzyNk"
   ],
   "provenance": []
  },
  "kernelspec": {
   "display_name": "Python [conda env:base] *",
   "language": "python",
   "name": "conda-base-py"
  },
  "language_info": {
   "codemirror_mode": {
    "name": "ipython",
    "version": 3
   },
   "file_extension": ".py",
   "mimetype": "text/x-python",
   "name": "python",
   "nbconvert_exporter": "python",
   "pygments_lexer": "ipython3",
   "version": "3.12.7"
  }
 },
 "nbformat": 4,
 "nbformat_minor": 4
}
