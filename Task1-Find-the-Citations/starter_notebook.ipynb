{
 "cells": [
  {
   "cell_type": "markdown",
   "metadata": {
    "id": "qaOtel26zyNe"
   },
   "source": [
    "# 0.0 Set Up"
   ]
  },
  {
   "cell_type": "markdown",
   "metadata": {
    "id": "wC-2H0llzyNk"
   },
   "source": [
    "## 1.0 Imports - !pip install <package_name> if necessary"
   ]
  },
  {
   "cell_type": "code",
   "execution_count": 3,
   "metadata": {
    "id": "TW2-RkQ7zyNk"
   },
   "outputs": [],
   "source": [
    "import pandas as pd\n",
    "import json\n",
    "\n",
    "from sklearn.feature_extraction.text import TfidfVectorizer\n",
    "from sklearn.feature_extraction.text import CountVectorizer, TfidfVectorizer\n",
    "\n",
    "from sklearn.metrics.pairwise import linear_kernel\n",
    "import nltk\n",
    "from nltk.corpus import stopwords\n",
    "\n",
    "import matplotlib.pyplot as plt\n",
    "\n",
    "import numpy as np\n",
    "from tqdm.auto import tqdm\n"
   ]
  },
  {
   "cell_type": "code",
   "execution_count": 5,
   "metadata": {
    "id": "SjDTn9yMzyNm",
    "outputId": "871f42c5-1de9-4aff-9fcb-651aa933a6a4"
   },
   "outputs": [
    {
     "name": "stderr",
     "output_type": "stream",
     "text": [
      "[nltk_data] Downloading package stopwords to\n",
      "[nltk_data]     C:\\Users\\marij\\AppData\\Roaming\\nltk_data...\n",
      "[nltk_data]   Package stopwords is already up-to-date!\n",
      "[nltk_data] Downloading package wordnet to\n",
      "[nltk_data]     C:\\Users\\marij\\AppData\\Roaming\\nltk_data...\n",
      "[nltk_data]   Package wordnet is already up-to-date!\n"
     ]
    },
    {
     "data": {
      "text/plain": [
       "True"
      ]
     },
     "execution_count": 5,
     "metadata": {},
     "output_type": "execute_result"
    }
   ],
   "source": [
    "import os\n",
    "os.environ[\"USE_TF\"] = \"0\"\n",
    "nltk.download('stopwords')\n",
    "nltk.download('wordnet')  # For lemmatization"
   ]
  },
  {
   "cell_type": "markdown",
   "metadata": {
    "id": "Y0kqKHXMzyNn"
   },
   "source": [
    "## 0.1 Helper Functions"
   ]
  },
  {
   "cell_type": "code",
   "execution_count": 7,
   "metadata": {
    "id": "Ds6mtxS2zyNo"
   },
   "outputs": [],
   "source": [
    "def load_json_data(file_path):\n",
    "    with open(file_path, \"r\") as file:\n",
    "        contents = json.load(file)\n",
    "    return contents\n",
    "\n",
    "\n",
    "def create_tfidf_matrix(citing_dataset, nonciting_dataset, vectorizer=TfidfVectorizer()):\n",
    "    \"\"\"\n",
    "    Creates TF-IDF matrix for the given citing and non-citing datasets based on the specified text column.\n",
    "\n",
    "    Parameters:\n",
    "    citing_dataset (json)): DataFrame containing citing patents.\n",
    "    nonciting_dataset (json): DataFrame containing non-citing patents.\n",
    "    vectorizer (TfidfVectorizer, optional): TfidfVectorizer object for vectorizing text data.\n",
    "                                             Defaults to TfidfVectorizer().\n",
    "\n",
    "    Returns:\n",
    "    tuple: A tuple containing TF-IDF matrices for citing and non-citing patents respectively.\n",
    "           (tfidf_matrix_citing, tfidf_matrix_nonciting)\n",
    "    \"\"\"\n",
    "    all_text = [patent['text'] for patent in citing_dataset + nonciting_dataset]\n",
    "\n",
    "    # Vectorizing descriptions\n",
    "    print(\"Vectorizing descriptions...\")\n",
    "    tfidf_matrix = vectorizer.fit_transform(tqdm(all_text, desc=\"TF-IDF\"))\n",
    "\n",
    "    # Since we're interested in similarities between citing and cited patents,\n",
    "    # we need to split the TF-IDF matrix back into two parts\n",
    "    split_index = len(citing_dataset)\n",
    "    tfidf_matrix_citing = tfidf_matrix[:split_index]\n",
    "    tfidf_matrix_nonciting = tfidf_matrix[split_index:]\n",
    "\n",
    "    # Size of vocabulary\n",
    "    print(\"Size of vocabulary:\", len(vectorizer.vocabulary_))\n",
    "\n",
    "    return tfidf_matrix_citing, tfidf_matrix_nonciting\n",
    "\n",
    "\n",
    "\n",
    "def get_mapping_dict(mapping_df):\n",
    "    \"\"\"\n",
    "    Creates dictionary of citing ids to non-citing id based on given dataframe (which is based on providedjson)\n",
    "\n",
    "    Parameters:\n",
    "    mapping_df (DataFrame): DataFrame containing mapping between citing and cited patents\n",
    "    Returns:\n",
    "    dict: dictionary of unique citing patent ids to list of cited patent ids\n",
    "    \"\"\"\n",
    "    mapping_dict = {}\n",
    "\n",
    "    for _, row in mapping_df.iterrows():\n",
    "        key = row[0]  # Value from column 0\n",
    "        value = row[2]  # Value from column 2\n",
    "        if key in mapping_dict:\n",
    "            mapping_dict[key].append(value)\n",
    "        else:\n",
    "            mapping_dict[key] = [value]\n",
    "\n",
    "    return mapping_dict\n",
    "\n",
    "def create_corpus(corpus, text_type): #OVO NAM TREBA SASVIM SIGURNO\n",
    "    \"\"\"\n",
    "    Extracts text data from a corpus based on the specified text type.\n",
    "\n",
    "    Parameters:\n",
    "    corpus (list): List of dictionaries representing patent documents.\n",
    "    text_type (str): Type of text to extract ('title', 'abstract', 'claim1', 'claims', 'description', 'fulltext').\n",
    "\n",
    "    Returns:\n",
    "    list: List of dictionaries with 'id' and 'text' keys representing each document in the corpus.\n",
    "    \"\"\"\n",
    "\n",
    "    app_ids = [doc['Application_Number'] + doc['Application_Category'] for doc in corpus]\n",
    "\n",
    "    cnt = 0 # count the number of documents without text\n",
    "    texts = []  # list of texts\n",
    "    ids_to_remove = []  # list of ids of documents without text, to remove them from the corpus\n",
    "\n",
    "    if text_type == 'title':\n",
    "        for doc in corpus:\n",
    "            try:\n",
    "                texts.append(doc['Content']['title'])\n",
    "            except: # if the document does not have a title\n",
    "                ids_to_remove.append(doc['Application_Number']+doc['Application_Category'])\n",
    "                cnt += 1\n",
    "        print(f\"Number of documents without title: {cnt}\")\n",
    "\n",
    "    elif text_type == 'abstract':\n",
    "        for doc in corpus:\n",
    "            try:\n",
    "                texts.append(doc['Content']['pa01'])\n",
    "            except: # if the document does not have an abstract\n",
    "                ids_to_remove.append(doc['Application_Number']+doc['Application_Category'])\n",
    "                cnt += 1\n",
    "        print(f\"Number of documents without abstract: {cnt}\")\n",
    "\n",
    "    elif text_type == 'claim1':\n",
    "        for doc in corpus:\n",
    "            try:\n",
    "                texts.append(doc['Content']['c-en-0001'])\n",
    "            except: # if the document does not have claim 1\n",
    "                ids_to_remove.append(doc['Application_Number']+doc['Application_Category'])\n",
    "                cnt += 1\n",
    "        print(f\"Number of documents without claim 1: {cnt}\")\n",
    "\n",
    "    elif text_type == 'claims':\n",
    "        # all the values with the key starting with 'c-en-', each element in the final list is a list of claims\n",
    "        for doc in corpus:\n",
    "            doc_claims = []\n",
    "            for key in doc['Content'].keys():\n",
    "                if key.startswith('c-en-'):\n",
    "                    doc_claims.append(doc['Content'][key])\n",
    "            if len(doc_claims) == 0:    # if the document does not have any claims\n",
    "                ids_to_remove.append(doc['Application_Number']+doc['Application_Category'])\n",
    "                cnt += 1\n",
    "            else:\n",
    "                doc_text_string = ' '.join(doc_claims)\n",
    "                texts.append(doc_text_string)\n",
    "        print(f\"Number of documents without claims: {cnt}\")\n",
    "\n",
    "    elif text_type == 'description':\n",
    "        # all the values with the key starting with 'p'\n",
    "        for doc in corpus:\n",
    "            doc_text = []\n",
    "            for key in doc['Content'].keys():\n",
    "                if key.startswith('p'):\n",
    "                    doc_text.append(doc['Content'][key])\n",
    "            if len(doc_text) == 0:  # if the document does not have any description\n",
    "                ids_to_remove.append(doc['Application_Number']+doc['Application_Category'])\n",
    "                cnt += 1\n",
    "            else:\n",
    "                doc_text_string = ' '.join(doc_text)\n",
    "                texts.append(doc_text_string)\n",
    "        print(f\"Number of documents without description: {cnt}\")\n",
    "\n",
    "    elif text_type == 'fulltext':\n",
    "        for doc in corpus:\n",
    "            doc_text = list(doc['Content'].values())\n",
    "            doc_text_string = ' '.join(doc_text)\n",
    "            texts.append(doc_text_string)\n",
    "        if cnt > 0:\n",
    "            print(f\"Number of documents without any text: {cnt}\")\n",
    "\n",
    "    else:\n",
    "        raise ValueError(\"Invalid text type\")\n",
    "\n",
    "    if len(ids_to_remove) > 0:\n",
    "        print(f\"Removing {len(ids_to_remove)} documents without required text\")\n",
    "        for id_ in ids_to_remove[::-1]:\n",
    "            idx = app_ids.index(id_)\n",
    "            del app_ids[idx]\n",
    "\n",
    "    # Create a list of dictionaries with app_ids and texts\n",
    "    corpus_data = [{'id': app_id, 'text': text} for app_id, text in zip(app_ids, texts)]\n",
    "\n",
    "    return corpus_data\n",
    "\n",
    "\n",
    "def get_true_and_predicted(citing_to_cited_dict, recommendations_dict):\n",
    "    \"\"\"\n",
    "    Get the true and predicted labels for the metrics calculation.\n",
    "\n",
    "    Parameters:\n",
    "    citing_to_cited_dict : dict of str : list of str\n",
    "        Mapping between citing patents and the list of their cited patents\n",
    "    recommendations_dict : dict of str : list of str\n",
    "        Mapping between citing patents and the sorted list of recommended patents\n",
    "\n",
    "    Returns:\n",
    "    list of list\n",
    "        True relevant items for each recommendation list.\n",
    "    list of list\n",
    "        Predicted recommended items for each recommendation list.\n",
    "    int\n",
    "        Number of patents not in the citation mapping\n",
    "    \"\"\"\n",
    "    # Initialize lists to store true labels and predicted labels\n",
    "    true_labels = []\n",
    "    predicted_labels = []\n",
    "    not_in_citation_mapping = 0\n",
    "\n",
    "    # Iterate over the items in both dictionaries\n",
    "    for citing_id in recommendations_dict.keys():\n",
    "        # Check if the citing_id is present in both dictionaries\n",
    "        if citing_id in citing_to_cited_dict:\n",
    "            # If yes, append the recommended items from both dictionaries to the respective lists\n",
    "            true_labels.append(citing_to_cited_dict[citing_id])\n",
    "            predicted_labels.append(recommendations_dict[citing_id])\n",
    "        else:\n",
    "            not_in_citation_mapping += 1\n",
    "\n",
    "    return true_labels, predicted_labels, not_in_citation_mapping\n",
    "\n",
    "\n",
    "\n",
    "def mean_recall_at_k(true_labels, predicted_labels, k=10):\n",
    "    \"\"\"\n",
    "    Calculate the mean Recall@k for a list of recommendations.\n",
    "\n",
    "    Parameters:\n",
    "    true_labels : list of list\n",
    "        True relevant items for each recommendation list.\n",
    "    predicted_labels : list of list\n",
    "        Predicted recommended items for each recommendation list.\n",
    "    k : int\n",
    "        Number of recommendations to consider.\n",
    "\n",
    "    Returns:\n",
    "    float\n",
    "        Mean Recall@k value.\n",
    "    \"\"\"\n",
    "    recalls_at_k = []\n",
    "\n",
    "    for true, pred in zip(true_labels, predicted_labels):\n",
    "        # Calculate Recall@k for each recommendation list\n",
    "        true_set = set(true)\n",
    "        k = min(k, len(pred))\n",
    "        relevant_count = sum(1 for item in pred[:k] if item in true_set)\n",
    "        recalls_at_k.append(relevant_count / len(true_set))\n",
    "\n",
    "    # Calculate the mean Recall@k\n",
    "    mean_recall = sum(recalls_at_k) / len(recalls_at_k)\n",
    "\n",
    "    return mean_recall\n",
    "\n",
    "def mean_inv_ranking(true_labels, predicted_labels):\n",
    "    \"\"\"\n",
    "    Calculate the mean of lists of the mean inverse rank of true relevant items\n",
    "    in the lists of sorted recommended items.\n",
    "\n",
    "    Parameters:\n",
    "    true_labels : list of list\n",
    "        True relevant items for each recommendation list.\n",
    "    predicted_labels : list of list\n",
    "        Predicted recommended items for each recommendation list.\n",
    "\n",
    "    Returns:\n",
    "    float\n",
    "        Mean of lists of the mean inverse rank of true relevant items.\n",
    "    \"\"\"\n",
    "    mean_ranks = []\n",
    "\n",
    "    for true, pred in zip(true_labels, predicted_labels):\n",
    "        # Calculate the inverse rank of true relevant items\n",
    "        # in the recommendation list\n",
    "        ranks = []\n",
    "        for item in true:\n",
    "            try:\n",
    "                rank = 1 / (pred.index(item) + 1)\n",
    "            except ValueError:\n",
    "                rank = 0  # If item not found, assign 0\n",
    "            ranks.append(rank)\n",
    "\n",
    "        # Calculate the mean inverse rank of true relevant items\n",
    "        # in the recommendation list\n",
    "        mean_rank = sum(ranks) / len(ranks)\n",
    "        mean_ranks.append(mean_rank)\n",
    "\n",
    "    # Calculate the mean of the mean inverse ranks across all recommendation lists\n",
    "    mean_of_mean_ranks = sum(mean_ranks) / len(mean_ranks)\n",
    "\n",
    "    return mean_of_mean_ranks\n",
    "\n",
    "\n",
    "def mean_ranking(true_labels, predicted_labels):\n",
    "    \"\"\"\n",
    "    Calculate the mean of lists of the mean rank of true relevant items\n",
    "    in the lists of sorted recommended items.\n",
    "\n",
    "    Parameters:\n",
    "    true_labels : list of list\n",
    "        True relevant items for each recommendation list.\n",
    "    predicted_labels : list of list\n",
    "        Predicted recommended items for each recommendation list.\n",
    "\n",
    "    Returns:\n",
    "    float\n",
    "        Mean of lists of the mean rank of true relevant items.\n",
    "    \"\"\"\n",
    "    mean_ranks = []\n",
    "\n",
    "    for true, pred in zip(true_labels, predicted_labels):\n",
    "        # Calculate the rank of true relevant items\n",
    "        # in the recommendation list\n",
    "        ranks = []\n",
    "        for item in true:\n",
    "            try:\n",
    "                rank = pred.index(item) + 1\n",
    "            except ValueError:\n",
    "                rank = len(pred)  # If item not found, assign the length of the list\n",
    "            ranks.append(rank)\n",
    "\n",
    "        # Calculate the mean rank of true relevant items\n",
    "        # in the recommendation list\n",
    "        mean_rank = sum(ranks) / len(ranks)\n",
    "        mean_ranks.append(mean_rank)\n",
    "\n",
    "    # Calculate the mean of the mean ranks across all recommendation lists\n",
    "    mean_of_mean_ranks = sum(mean_ranks) / len(mean_ranks)\n",
    "\n",
    "    return mean_of_mean_ranks\n",
    "\n",
    "\n",
    "\n",
    "def mean_average_precision(true_labels, predicted_labels, k=10):\n",
    "    \"\"\"\n",
    "    Calculate the mean Average Precision for a list of recommendations.\n",
    "\n",
    "    Parameters:\n",
    "    true_labels : list of list\n",
    "        True relevant items for each recommendation list.\n",
    "    predicted_labels : list of list\n",
    "        Predicted recommended items for each recommendation list.\n",
    "    k : int\n",
    "        Number of recommendations to consider.\n",
    "\n",
    "    Returns:\n",
    "    float\n",
    "        Mean Average Precision value.\n",
    "    \"\"\"\n",
    "    average_precisions = []\n",
    "\n",
    "    for true, pred in zip(true_labels, predicted_labels):\n",
    "        # Calculate Average Precision for each recommendation list\n",
    "        true_set = set(true)\n",
    "        precision_at_k = []\n",
    "        relevant_count = 0\n",
    "        for i, item in enumerate(pred[:k]):\n",
    "            if item in true_set:\n",
    "                relevant_count += 1\n",
    "                precision_at_k.append(relevant_count / (i + 1))\n",
    "        average_precision = sum(precision_at_k) / len(true_set)\n",
    "        average_precisions.append(average_precision)\n",
    "\n",
    "    # Calculate the mean Average Precision\n",
    "    mean_average_precision = sum(average_precisions) / len(average_precisions)\n",
    "\n",
    "    return mean_average_precision\n",
    "\n",
    "def top_k_ranks(citing, cited, cosine_similarities, k=10):\n",
    "    # Create a dictionary to store the top k ranks for each citing patent\n",
    "    top_k_ranks = {}\n",
    "    for i, content_id in enumerate(citing):\n",
    "        top_k_ranks[content_id['id']] = [cited[j]['id'] for j in np.argsort(cosine_similarities[i])[::-1][:k]]\n",
    "    return top_k_ranks\n"
   ]
  },
  {
   "cell_type": "markdown",
   "metadata": {
    "id": "8_a8MJUDzyNr"
   },
   "source": [
    "# 1.0 Load Datasets"
   ]
  },
  {
   "cell_type": "code",
   "execution_count": 9,
   "metadata": {
    "id": "0FddbPS7zyNs"
   },
   "outputs": [],
   "source": [
    "json_citing_train = load_json_data(\"./datasets/Content_JSONs/Citing_2020_Cleaned_Content_12k/Citing_Train_Test/citing_TRAIN.json\")\n",
    "json_citing_test = load_json_data(\"./datasets/Content_JSONs/Citing_2020_Cleaned_Content_12k/Citing_Train_Test/citing_TEST.json\")\n",
    "\n",
    "json_nonciting = load_json_data(\"./datasets/Content_JSONs/Cited_2020_Uncited_2010-2019_Cleaned_Content_22k/CLEANED_CONTENT_DATASET_cited_patents_by_2020_uncited_2010-2019.json\")\n",
    "json_citing_to_cited = load_json_data(\"./datasets/Citation_JSONs/Citation_Train.json\") # Citing ids are unique"
   ]
  },
  {
   "cell_type": "code",
   "execution_count": 11,
   "metadata": {
    "id": "Urbuut75zyNs"
   },
   "outputs": [],
   "source": [
    "citing_dataset_df = pd.DataFrame(json_citing_train)\n",
    "\n",
    "nonciting_dataset_df = pd.DataFrame(json_nonciting)\n",
    "mapping_dataset_df = pd.DataFrame(json_citing_to_cited)"
   ]
  },
  {
   "cell_type": "code",
   "execution_count": 13,
   "metadata": {
    "id": "tGiJRpDNzyNt",
    "outputId": "f0c184ed-16f8-4edb-b09b-126fa602d3d4"
   },
   "outputs": [
    {
     "data": {
      "text/html": [
       "<div>\n",
       "<style scoped>\n",
       "    .dataframe tbody tr th:only-of-type {\n",
       "        vertical-align: middle;\n",
       "    }\n",
       "\n",
       "    .dataframe tbody tr th {\n",
       "        vertical-align: top;\n",
       "    }\n",
       "\n",
       "    .dataframe thead th {\n",
       "        text-align: right;\n",
       "    }\n",
       "</style>\n",
       "<table border=\"1\" class=\"dataframe\">\n",
       "  <thead>\n",
       "    <tr style=\"text-align: right;\">\n",
       "      <th></th>\n",
       "      <th>Application_Number</th>\n",
       "      <th>Application_Date</th>\n",
       "      <th>Application_Category</th>\n",
       "      <th>Content</th>\n",
       "    </tr>\n",
       "  </thead>\n",
       "  <tbody>\n",
       "    <tr>\n",
       "      <th>0</th>\n",
       "      <td>3650293</td>\n",
       "      <td>2020-05-13</td>\n",
       "      <td>A1</td>\n",
       "      <td>{'title': 'DEVICE FOR CONTROLLING THE BRAKING ...</td>\n",
       "    </tr>\n",
       "    <tr>\n",
       "      <th>1</th>\n",
       "      <td>3694265</td>\n",
       "      <td>2020-08-12</td>\n",
       "      <td>A1</td>\n",
       "      <td>{'title': 'TIME DIVISION MULTIPLEXING OF SYNCH...</td>\n",
       "    </tr>\n",
       "    <tr>\n",
       "      <th>2</th>\n",
       "      <td>3623522</td>\n",
       "      <td>2020-03-18</td>\n",
       "      <td>A1</td>\n",
       "      <td>{'title': 'LAUNDRY MACHINE AND CONTROL METHOD ...</td>\n",
       "    </tr>\n",
       "    <tr>\n",
       "      <th>3</th>\n",
       "      <td>3611147</td>\n",
       "      <td>2020-02-19</td>\n",
       "      <td>A1</td>\n",
       "      <td>{'title': 'CHEMICAL AND TOPOLOGICAL SURFACE MO...</td>\n",
       "    </tr>\n",
       "    <tr>\n",
       "      <th>4</th>\n",
       "      <td>3640454</td>\n",
       "      <td>2020-04-22</td>\n",
       "      <td>A1</td>\n",
       "      <td>{'title': 'FUEL METERING SYSTEM', 'pa01': 'The...</td>\n",
       "    </tr>\n",
       "    <tr>\n",
       "      <th>...</th>\n",
       "      <td>...</td>\n",
       "      <td>...</td>\n",
       "      <td>...</td>\n",
       "      <td>...</td>\n",
       "    </tr>\n",
       "    <tr>\n",
       "      <th>6826</th>\n",
       "      <td>3741587</td>\n",
       "      <td>2020-11-25</td>\n",
       "      <td>A1</td>\n",
       "      <td>{'title': 'AUTO-LOCATION USING TIRE MOUNTED SY...</td>\n",
       "    </tr>\n",
       "    <tr>\n",
       "      <th>6827</th>\n",
       "      <td>3693248</td>\n",
       "      <td>2020-08-12</td>\n",
       "      <td>A1</td>\n",
       "      <td>{'title': 'HOLE COVER AND STEERING SYSTEM INCL...</td>\n",
       "    </tr>\n",
       "    <tr>\n",
       "      <th>6828</th>\n",
       "      <td>3628962</td>\n",
       "      <td>2020-04-01</td>\n",
       "      <td>A1</td>\n",
       "      <td>{'title': 'SYSTEM AND METHOD FOR MEASURING CLE...</td>\n",
       "    </tr>\n",
       "    <tr>\n",
       "      <th>6829</th>\n",
       "      <td>3620899</td>\n",
       "      <td>2020-03-11</td>\n",
       "      <td>A1</td>\n",
       "      <td>{'title': 'TOUCH SCREEN AND DISPLAY APPARATUS'...</td>\n",
       "    </tr>\n",
       "    <tr>\n",
       "      <th>6830</th>\n",
       "      <td>3670678</td>\n",
       "      <td>2020-06-24</td>\n",
       "      <td>A1</td>\n",
       "      <td>{'title': 'PROCESS FOR MANUFACTURING A SLAG CO...</td>\n",
       "    </tr>\n",
       "  </tbody>\n",
       "</table>\n",
       "<p>6831 rows × 4 columns</p>\n",
       "</div>"
      ],
      "text/plain": [
       "     Application_Number Application_Date Application_Category  \\\n",
       "0               3650293       2020-05-13                   A1   \n",
       "1               3694265       2020-08-12                   A1   \n",
       "2               3623522       2020-03-18                   A1   \n",
       "3               3611147       2020-02-19                   A1   \n",
       "4               3640454       2020-04-22                   A1   \n",
       "...                 ...              ...                  ...   \n",
       "6826            3741587       2020-11-25                   A1   \n",
       "6827            3693248       2020-08-12                   A1   \n",
       "6828            3628962       2020-04-01                   A1   \n",
       "6829            3620899       2020-03-11                   A1   \n",
       "6830            3670678       2020-06-24                   A1   \n",
       "\n",
       "                                                Content  \n",
       "0     {'title': 'DEVICE FOR CONTROLLING THE BRAKING ...  \n",
       "1     {'title': 'TIME DIVISION MULTIPLEXING OF SYNCH...  \n",
       "2     {'title': 'LAUNDRY MACHINE AND CONTROL METHOD ...  \n",
       "3     {'title': 'CHEMICAL AND TOPOLOGICAL SURFACE MO...  \n",
       "4     {'title': 'FUEL METERING SYSTEM', 'pa01': 'The...  \n",
       "...                                                 ...  \n",
       "6826  {'title': 'AUTO-LOCATION USING TIRE MOUNTED SY...  \n",
       "6827  {'title': 'HOLE COVER AND STEERING SYSTEM INCL...  \n",
       "6828  {'title': 'SYSTEM AND METHOD FOR MEASURING CLE...  \n",
       "6829  {'title': 'TOUCH SCREEN AND DISPLAY APPARATUS'...  \n",
       "6830  {'title': 'PROCESS FOR MANUFACTURING A SLAG CO...  \n",
       "\n",
       "[6831 rows x 4 columns]"
      ]
     },
     "execution_count": 13,
     "metadata": {},
     "output_type": "execute_result"
    }
   ],
   "source": [
    "citing_dataset_df"
   ]
  },
  {
   "cell_type": "code",
   "execution_count": 13,
   "metadata": {
    "id": "wVYs3idgzyNt",
    "outputId": "8b1a8cb5-c0b8-4f5c-e478-139d86cf5a94"
   },
   "outputs": [
    {
     "data": {
      "text/html": [
       "<div>\n",
       "<style scoped>\n",
       "    .dataframe tbody tr th:only-of-type {\n",
       "        vertical-align: middle;\n",
       "    }\n",
       "\n",
       "    .dataframe tbody tr th {\n",
       "        vertical-align: top;\n",
       "    }\n",
       "\n",
       "    .dataframe thead th {\n",
       "        text-align: right;\n",
       "    }\n",
       "</style>\n",
       "<table border=\"1\" class=\"dataframe\">\n",
       "  <thead>\n",
       "    <tr style=\"text-align: right;\">\n",
       "      <th></th>\n",
       "      <th>Application_Number</th>\n",
       "      <th>Application_Date</th>\n",
       "      <th>Application_Category</th>\n",
       "      <th>Content</th>\n",
       "    </tr>\n",
       "  </thead>\n",
       "  <tbody>\n",
       "    <tr>\n",
       "      <th>0</th>\n",
       "      <td>2019772</td>\n",
       "      <td>2013-08-28</td>\n",
       "      <td>B1</td>\n",
       "      <td>{'title': 'VEHICLE WITH LOCKABLE TILT SYSTEM',...</td>\n",
       "    </tr>\n",
       "    <tr>\n",
       "      <th>1</th>\n",
       "      <td>2136094</td>\n",
       "      <td>2013-05-22</td>\n",
       "      <td>B1</td>\n",
       "      <td>{'title': 'UNIVERSAL JOINT', 'c-en-0001': 'A u...</td>\n",
       "    </tr>\n",
       "    <tr>\n",
       "      <th>2</th>\n",
       "      <td>2340701</td>\n",
       "      <td>2011-07-06</td>\n",
       "      <td>A2</td>\n",
       "      <td>{'title': 'Apparatus, method and computer prog...</td>\n",
       "    </tr>\n",
       "    <tr>\n",
       "      <th>3</th>\n",
       "      <td>2338661</td>\n",
       "      <td>2011-06-29</td>\n",
       "      <td>A1</td>\n",
       "      <td>{'title': 'Method and apparatus for forming a ...</td>\n",
       "    </tr>\n",
       "    <tr>\n",
       "      <th>4</th>\n",
       "      <td>2339144</td>\n",
       "      <td>2011-06-29</td>\n",
       "      <td>A2</td>\n",
       "      <td>{'title': 'Heat exchanger mounting assembly in...</td>\n",
       "    </tr>\n",
       "    <tr>\n",
       "      <th>...</th>\n",
       "      <td>...</td>\n",
       "      <td>...</td>\n",
       "      <td>...</td>\n",
       "      <td>...</td>\n",
       "    </tr>\n",
       "    <tr>\n",
       "      <th>16832</th>\n",
       "      <td>1995910</td>\n",
       "      <td>2012-07-11</td>\n",
       "      <td>B1</td>\n",
       "      <td>{'title': 'Synchronization of a split audio, v...</td>\n",
       "    </tr>\n",
       "    <tr>\n",
       "      <th>16833</th>\n",
       "      <td>1997557</td>\n",
       "      <td>2012-02-08</td>\n",
       "      <td>B1</td>\n",
       "      <td>{'title': 'Fluid handling unit and fluid handl...</td>\n",
       "    </tr>\n",
       "    <tr>\n",
       "      <th>16834</th>\n",
       "      <td>1992846</td>\n",
       "      <td>2012-04-04</td>\n",
       "      <td>B1</td>\n",
       "      <td>{'title': 'Oil pump system for vehicle', 'c-en...</td>\n",
       "    </tr>\n",
       "    <tr>\n",
       "      <th>16835</th>\n",
       "      <td>1981195</td>\n",
       "      <td>2012-01-11</td>\n",
       "      <td>B1</td>\n",
       "      <td>{'title': 'Apparatus for construction of quasi...</td>\n",
       "    </tr>\n",
       "    <tr>\n",
       "      <th>16836</th>\n",
       "      <td>1952974</td>\n",
       "      <td>2012-10-24</td>\n",
       "      <td>B1</td>\n",
       "      <td>{'title': 'Plugging method and apparatus for p...</td>\n",
       "    </tr>\n",
       "  </tbody>\n",
       "</table>\n",
       "<p>16837 rows × 4 columns</p>\n",
       "</div>"
      ],
      "text/plain": [
       "      Application_Number Application_Date Application_Category  \\\n",
       "0                2019772       2013-08-28                   B1   \n",
       "1                2136094       2013-05-22                   B1   \n",
       "2                2340701       2011-07-06                   A2   \n",
       "3                2338661       2011-06-29                   A1   \n",
       "4                2339144       2011-06-29                   A2   \n",
       "...                  ...              ...                  ...   \n",
       "16832            1995910       2012-07-11                   B1   \n",
       "16833            1997557       2012-02-08                   B1   \n",
       "16834            1992846       2012-04-04                   B1   \n",
       "16835            1981195       2012-01-11                   B1   \n",
       "16836            1952974       2012-10-24                   B1   \n",
       "\n",
       "                                                 Content  \n",
       "0      {'title': 'VEHICLE WITH LOCKABLE TILT SYSTEM',...  \n",
       "1      {'title': 'UNIVERSAL JOINT', 'c-en-0001': 'A u...  \n",
       "2      {'title': 'Apparatus, method and computer prog...  \n",
       "3      {'title': 'Method and apparatus for forming a ...  \n",
       "4      {'title': 'Heat exchanger mounting assembly in...  \n",
       "...                                                  ...  \n",
       "16832  {'title': 'Synchronization of a split audio, v...  \n",
       "16833  {'title': 'Fluid handling unit and fluid handl...  \n",
       "16834  {'title': 'Oil pump system for vehicle', 'c-en...  \n",
       "16835  {'title': 'Apparatus for construction of quasi...  \n",
       "16836  {'title': 'Plugging method and apparatus for p...  \n",
       "\n",
       "[16837 rows x 4 columns]"
      ]
     },
     "execution_count": 13,
     "metadata": {},
     "output_type": "execute_result"
    }
   ],
   "source": [
    "nonciting_dataset_df"
   ]
  },
  {
   "cell_type": "code",
   "execution_count": 15,
   "metadata": {
    "id": "z9cxP0eWzyNt",
    "outputId": "9b5a9fe6-cdc1-4d5e-efa9-b579fffe1a2d"
   },
   "outputs": [
    {
     "data": {
      "text/html": [
       "<div>\n",
       "<style scoped>\n",
       "    .dataframe tbody tr th:only-of-type {\n",
       "        vertical-align: middle;\n",
       "    }\n",
       "\n",
       "    .dataframe tbody tr th {\n",
       "        vertical-align: top;\n",
       "    }\n",
       "\n",
       "    .dataframe thead th {\n",
       "        text-align: right;\n",
       "    }\n",
       "</style>\n",
       "<table border=\"1\" class=\"dataframe\">\n",
       "  <thead>\n",
       "    <tr style=\"text-align: right;\">\n",
       "      <th></th>\n",
       "      <th>0</th>\n",
       "      <th>1</th>\n",
       "      <th>2</th>\n",
       "      <th>3</th>\n",
       "      <th>4</th>\n",
       "    </tr>\n",
       "  </thead>\n",
       "  <tbody>\n",
       "    <tr>\n",
       "      <th>0</th>\n",
       "      <td>3712070A1</td>\n",
       "      <td>[c-en-0004]</td>\n",
       "      <td>3354576A1</td>\n",
       "      <td>[p0024, p0027, c-en-0012, c-en-0013]</td>\n",
       "      <td>A</td>\n",
       "    </tr>\n",
       "    <tr>\n",
       "      <th>1</th>\n",
       "      <td>3675165A1</td>\n",
       "      <td>[c-en-0001, c-en-0002, c-en-0003, c-en-0004, c...</td>\n",
       "      <td>3336831A2</td>\n",
       "      <td>[p0045, p0046, p0047, p0048, p0049, p0050, p00...</td>\n",
       "      <td>A</td>\n",
       "    </tr>\n",
       "    <tr>\n",
       "      <th>2</th>\n",
       "      <td>3599626A1</td>\n",
       "      <td>[c-en-0002, c-en-0003, c-en-0004, c-en-0005, c...</td>\n",
       "      <td>2453448A1</td>\n",
       "      <td>[p0029, p0030]</td>\n",
       "      <td>A</td>\n",
       "    </tr>\n",
       "    <tr>\n",
       "      <th>3</th>\n",
       "      <td>3705201A1</td>\n",
       "      <td>[c-en-0001, c-en-0002, c-en-0004, c-en-0006, c...</td>\n",
       "      <td>2468433A2</td>\n",
       "      <td>[p0011, p0012, p0013, p0014, p0015, p0016, p00...</td>\n",
       "      <td>X</td>\n",
       "    </tr>\n",
       "    <tr>\n",
       "      <th>4</th>\n",
       "      <td>3628210A1</td>\n",
       "      <td>[c-en-0001, c-en-0002, c-en-0003, c-en-0004, c...</td>\n",
       "      <td>3369366A1</td>\n",
       "      <td>[pa01]</td>\n",
       "      <td>A</td>\n",
       "    </tr>\n",
       "    <tr>\n",
       "      <th>...</th>\n",
       "      <td>...</td>\n",
       "      <td>...</td>\n",
       "      <td>...</td>\n",
       "      <td>...</td>\n",
       "      <td>...</td>\n",
       "    </tr>\n",
       "    <tr>\n",
       "      <th>8589</th>\n",
       "      <td>3623977A1</td>\n",
       "      <td>[c-en-0008, c-en-0009, c-en-0010, c-en-0011, c...</td>\n",
       "      <td>2518981A1</td>\n",
       "      <td>[p0021, p0022, p0023, p0024, p0025, p0026, p00...</td>\n",
       "      <td>A</td>\n",
       "    </tr>\n",
       "    <tr>\n",
       "      <th>8590</th>\n",
       "      <td>3721843A1</td>\n",
       "      <td>[c-en-0001, c-en-0002, c-en-0003, c-en-0004, c...</td>\n",
       "      <td>3213727A1</td>\n",
       "      <td>[p0015, p0016, p0017, p0018, p0019, p0020, p00...</td>\n",
       "      <td>X</td>\n",
       "    </tr>\n",
       "    <tr>\n",
       "      <th>8591</th>\n",
       "      <td>3708263A1</td>\n",
       "      <td>[c-en-0001, c-en-0002, c-en-0003, c-en-0004, c...</td>\n",
       "      <td>3217171A1</td>\n",
       "      <td>[pa01, p0010, p0014, p0003, p0009, p0016]</td>\n",
       "      <td>A</td>\n",
       "    </tr>\n",
       "    <tr>\n",
       "      <th>8592</th>\n",
       "      <td>3588557A1</td>\n",
       "      <td>[c-en-0001, c-en-0002, c-en-0003, c-en-0004, c...</td>\n",
       "      <td>2988328A1</td>\n",
       "      <td>[p0047, p0012]</td>\n",
       "      <td>A</td>\n",
       "    </tr>\n",
       "    <tr>\n",
       "      <th>8593</th>\n",
       "      <td>3657819A1</td>\n",
       "      <td>[c-en-0010]</td>\n",
       "      <td>3334179A1</td>\n",
       "      <td>[p0072, p0098]</td>\n",
       "      <td>A</td>\n",
       "    </tr>\n",
       "  </tbody>\n",
       "</table>\n",
       "<p>8594 rows × 5 columns</p>\n",
       "</div>"
      ],
      "text/plain": [
       "              0                                                  1          2  \\\n",
       "0     3712070A1                                        [c-en-0004]  3354576A1   \n",
       "1     3675165A1  [c-en-0001, c-en-0002, c-en-0003, c-en-0004, c...  3336831A2   \n",
       "2     3599626A1  [c-en-0002, c-en-0003, c-en-0004, c-en-0005, c...  2453448A1   \n",
       "3     3705201A1  [c-en-0001, c-en-0002, c-en-0004, c-en-0006, c...  2468433A2   \n",
       "4     3628210A1  [c-en-0001, c-en-0002, c-en-0003, c-en-0004, c...  3369366A1   \n",
       "...         ...                                                ...        ...   \n",
       "8589  3623977A1  [c-en-0008, c-en-0009, c-en-0010, c-en-0011, c...  2518981A1   \n",
       "8590  3721843A1  [c-en-0001, c-en-0002, c-en-0003, c-en-0004, c...  3213727A1   \n",
       "8591  3708263A1  [c-en-0001, c-en-0002, c-en-0003, c-en-0004, c...  3217171A1   \n",
       "8592  3588557A1  [c-en-0001, c-en-0002, c-en-0003, c-en-0004, c...  2988328A1   \n",
       "8593  3657819A1                                        [c-en-0010]  3334179A1   \n",
       "\n",
       "                                                      3  4  \n",
       "0                  [p0024, p0027, c-en-0012, c-en-0013]  A  \n",
       "1     [p0045, p0046, p0047, p0048, p0049, p0050, p00...  A  \n",
       "2                                        [p0029, p0030]  A  \n",
       "3     [p0011, p0012, p0013, p0014, p0015, p0016, p00...  X  \n",
       "4                                                [pa01]  A  \n",
       "...                                                 ... ..  \n",
       "8589  [p0021, p0022, p0023, p0024, p0025, p0026, p00...  A  \n",
       "8590  [p0015, p0016, p0017, p0018, p0019, p0020, p00...  X  \n",
       "8591          [pa01, p0010, p0014, p0003, p0009, p0016]  A  \n",
       "8592                                     [p0047, p0012]  A  \n",
       "8593                                     [p0072, p0098]  A  \n",
       "\n",
       "[8594 rows x 5 columns]"
      ]
     },
     "execution_count": 15,
     "metadata": {},
     "output_type": "execute_result"
    }
   ],
   "source": [
    "mapping_dataset_df #this means patents '0' are rejected because their clames '1' have been mentioned in patents '2' in paragraphs '3' and the decision is '3'"
   ]
  },
  {
   "cell_type": "code",
   "execution_count": 15,
   "metadata": {
    "id": "bVfJZ_1rzyNu",
    "outputId": "ae55b086-08fd-44a0-e53a-d57e3c4e6fac"
   },
   "outputs": [],
   "source": [
    "mapping_dict = get_mapping_dict(mapping_dataset_df)\n",
    "#mapping_dict"
   ]
  },
  {
   "cell_type": "code",
   "execution_count": 14,
   "metadata": {
    "id": "Mvm1hC6xzyNu"
   },
   "outputs": [],
   "source": [
    "#import ast\n",
    "#nonciting_dataset_df['all_content'] = nonciting_dataset_df['Content'].apply(ast.literal_eval)"
   ]
  },
  {
   "cell_type": "markdown",
   "metadata": {
    "id": "65jWGvPrzyNv"
   },
   "source": [
    "## 1.1 Take a look at the content"
   ]
  },
  {
   "cell_type": "code",
   "execution_count": 19,
   "metadata": {
    "id": "3-vDR8F_zyNv",
    "outputId": "5212af07-090e-44b5-efe8-bde7780f5ba6"
   },
   "outputs": [],
   "source": [
    "#nonciting_dataset_df.loc[0].Content #dictionary basicaly"
   ]
  },
  {
   "cell_type": "markdown",
   "metadata": {
    "id": "mDAiPap5zyNv"
   },
   "source": [
    "## 1.2 Create a column with the Title"
   ]
  },
  {
   "cell_type": "markdown",
   "metadata": {
    "id": "NpEjnqaozyNv"
   },
   "source": [
    "Note for lateR: Try all text content by uncommenting the below"
   ]
  },
  {
   "cell_type": "code",
   "execution_count": 19,
   "metadata": {
    "id": "DoHmGwoLzyNv"
   },
   "outputs": [],
   "source": [
    "#import ast\n",
    "#nonciting_dataset_df['all_content'] = nonciting_dataset_df['Content'].apply(ast.literal_eval)"
   ]
  },
  {
   "cell_type": "code",
   "execution_count": 21,
   "metadata": {
    "id": "wWxYn71BzyNv",
    "outputId": "11405e20-c857-431c-b58b-b0ec518da06d"
   },
   "outputs": [
    {
     "data": {
      "text/html": [
       "<div>\n",
       "<style scoped>\n",
       "    .dataframe tbody tr th:only-of-type {\n",
       "        vertical-align: middle;\n",
       "    }\n",
       "\n",
       "    .dataframe tbody tr th {\n",
       "        vertical-align: top;\n",
       "    }\n",
       "\n",
       "    .dataframe thead th {\n",
       "        text-align: right;\n",
       "    }\n",
       "</style>\n",
       "<table border=\"1\" class=\"dataframe\">\n",
       "  <thead>\n",
       "    <tr style=\"text-align: right;\">\n",
       "      <th></th>\n",
       "      <th>Application_Number</th>\n",
       "      <th>Application_Date</th>\n",
       "      <th>Application_Category</th>\n",
       "      <th>Content</th>\n",
       "      <th>Title</th>\n",
       "    </tr>\n",
       "  </thead>\n",
       "  <tbody>\n",
       "    <tr>\n",
       "      <th>0</th>\n",
       "      <td>2019772</td>\n",
       "      <td>2013-08-28</td>\n",
       "      <td>B1</td>\n",
       "      <td>{'title': 'VEHICLE WITH LOCKABLE TILT SYSTEM',...</td>\n",
       "      <td>VEHICLE WITH LOCKABLE TILT SYSTEM</td>\n",
       "    </tr>\n",
       "    <tr>\n",
       "      <th>1</th>\n",
       "      <td>2136094</td>\n",
       "      <td>2013-05-22</td>\n",
       "      <td>B1</td>\n",
       "      <td>{'title': 'UNIVERSAL JOINT', 'c-en-0001': 'A u...</td>\n",
       "      <td>UNIVERSAL JOINT</td>\n",
       "    </tr>\n",
       "    <tr>\n",
       "      <th>2</th>\n",
       "      <td>2340701</td>\n",
       "      <td>2011-07-06</td>\n",
       "      <td>A2</td>\n",
       "      <td>{'title': 'Apparatus, method and computer prog...</td>\n",
       "      <td>Apparatus, method and computer program product...</td>\n",
       "    </tr>\n",
       "    <tr>\n",
       "      <th>3</th>\n",
       "      <td>2338661</td>\n",
       "      <td>2011-06-29</td>\n",
       "      <td>A1</td>\n",
       "      <td>{'title': 'Method and apparatus for forming a ...</td>\n",
       "      <td>Method and apparatus for forming a rubber article</td>\n",
       "    </tr>\n",
       "    <tr>\n",
       "      <th>4</th>\n",
       "      <td>2339144</td>\n",
       "      <td>2011-06-29</td>\n",
       "      <td>A2</td>\n",
       "      <td>{'title': 'Heat exchanger mounting assembly in...</td>\n",
       "      <td>Heat exchanger mounting assembly in a gas turbine</td>\n",
       "    </tr>\n",
       "    <tr>\n",
       "      <th>...</th>\n",
       "      <td>...</td>\n",
       "      <td>...</td>\n",
       "      <td>...</td>\n",
       "      <td>...</td>\n",
       "      <td>...</td>\n",
       "    </tr>\n",
       "    <tr>\n",
       "      <th>16832</th>\n",
       "      <td>1995910</td>\n",
       "      <td>2012-07-11</td>\n",
       "      <td>B1</td>\n",
       "      <td>{'title': 'Synchronization of a split audio, v...</td>\n",
       "      <td>Synchronization of a split audio, video, or ot...</td>\n",
       "    </tr>\n",
       "    <tr>\n",
       "      <th>16833</th>\n",
       "      <td>1997557</td>\n",
       "      <td>2012-02-08</td>\n",
       "      <td>B1</td>\n",
       "      <td>{'title': 'Fluid handling unit and fluid handl...</td>\n",
       "      <td>Fluid handling unit and fluid handling apparat...</td>\n",
       "    </tr>\n",
       "    <tr>\n",
       "      <th>16834</th>\n",
       "      <td>1992846</td>\n",
       "      <td>2012-04-04</td>\n",
       "      <td>B1</td>\n",
       "      <td>{'title': 'Oil pump system for vehicle', 'c-en...</td>\n",
       "      <td>Oil pump system for vehicle</td>\n",
       "    </tr>\n",
       "    <tr>\n",
       "      <th>16835</th>\n",
       "      <td>1981195</td>\n",
       "      <td>2012-01-11</td>\n",
       "      <td>B1</td>\n",
       "      <td>{'title': 'Apparatus for construction of quasi...</td>\n",
       "      <td>Apparatus for construction of quasi orthogonal...</td>\n",
       "    </tr>\n",
       "    <tr>\n",
       "      <th>16836</th>\n",
       "      <td>1952974</td>\n",
       "      <td>2012-10-24</td>\n",
       "      <td>B1</td>\n",
       "      <td>{'title': 'Plugging method and apparatus for p...</td>\n",
       "      <td>Plugging method and apparatus for particulate ...</td>\n",
       "    </tr>\n",
       "  </tbody>\n",
       "</table>\n",
       "<p>16837 rows × 5 columns</p>\n",
       "</div>"
      ],
      "text/plain": [
       "      Application_Number Application_Date Application_Category  \\\n",
       "0                2019772       2013-08-28                   B1   \n",
       "1                2136094       2013-05-22                   B1   \n",
       "2                2340701       2011-07-06                   A2   \n",
       "3                2338661       2011-06-29                   A1   \n",
       "4                2339144       2011-06-29                   A2   \n",
       "...                  ...              ...                  ...   \n",
       "16832            1995910       2012-07-11                   B1   \n",
       "16833            1997557       2012-02-08                   B1   \n",
       "16834            1992846       2012-04-04                   B1   \n",
       "16835            1981195       2012-01-11                   B1   \n",
       "16836            1952974       2012-10-24                   B1   \n",
       "\n",
       "                                                 Content  \\\n",
       "0      {'title': 'VEHICLE WITH LOCKABLE TILT SYSTEM',...   \n",
       "1      {'title': 'UNIVERSAL JOINT', 'c-en-0001': 'A u...   \n",
       "2      {'title': 'Apparatus, method and computer prog...   \n",
       "3      {'title': 'Method and apparatus for forming a ...   \n",
       "4      {'title': 'Heat exchanger mounting assembly in...   \n",
       "...                                                  ...   \n",
       "16832  {'title': 'Synchronization of a split audio, v...   \n",
       "16833  {'title': 'Fluid handling unit and fluid handl...   \n",
       "16834  {'title': 'Oil pump system for vehicle', 'c-en...   \n",
       "16835  {'title': 'Apparatus for construction of quasi...   \n",
       "16836  {'title': 'Plugging method and apparatus for p...   \n",
       "\n",
       "                                                   Title  \n",
       "0                      VEHICLE WITH LOCKABLE TILT SYSTEM  \n",
       "1                                        UNIVERSAL JOINT  \n",
       "2      Apparatus, method and computer program product...  \n",
       "3      Method and apparatus for forming a rubber article  \n",
       "4      Heat exchanger mounting assembly in a gas turbine  \n",
       "...                                                  ...  \n",
       "16832  Synchronization of a split audio, video, or ot...  \n",
       "16833  Fluid handling unit and fluid handling apparat...  \n",
       "16834                        Oil pump system for vehicle  \n",
       "16835  Apparatus for construction of quasi orthogonal...  \n",
       "16836  Plugging method and apparatus for particulate ...  \n",
       "\n",
       "[16837 rows x 5 columns]"
      ]
     },
     "execution_count": 21,
     "metadata": {},
     "output_type": "execute_result"
    }
   ],
   "source": [
    "def extract_title(dictionary):\n",
    "    return dictionary.get('title', None)  # Return None if 'title' key is not present\n",
    "\n",
    "nonciting_dataset_df['Title'] = nonciting_dataset_df['Content'].apply(extract_title)\n",
    "citing_dataset_df['Title'] = citing_dataset_df['Content'].apply(extract_title)\n",
    "\n",
    "nonciting_dataset_df"
   ]
  },
  {
   "cell_type": "markdown",
   "metadata": {
    "id": "zIztUnUjzyNw"
   },
   "source": [
    "# 1.3 Average title length"
   ]
  },
  {
   "cell_type": "code",
   "execution_count": 22,
   "metadata": {
    "id": "AQwH08RKzyNw",
    "outputId": "3de87618-d881-4873-f8de-55788919c11f"
   },
   "outputs": [
    {
     "data": {
      "image/png": "[encoded data removed]",
      "text/plain": [
       "<Figure size 640x480 with 1 Axes>"
      ]
     },
     "metadata": {},
     "output_type": "display_data"
    }
   ],
   "source": [
    "plt.hist(nonciting_dataset_df['Title'].str.len(), bins=20)\n",
    "plt.xlabel('Title Length')\n",
    "plt.ylabel('Frequency')\n",
    "plt.title('Histogram of Title Lengths')\n",
    "plt.grid(True)\n",
    "plt.show()\n"
   ]
  },
  {
   "cell_type": "markdown",
   "metadata": {
    "id": "uJfxYtEIzyNw"
   },
   "source": [
    "## 1.3 Number of CITED patents per citing patent"
   ]
  },
  {
   "cell_type": "code",
   "execution_count": 24,
   "metadata": {
    "id": "fgHs6NHTzyNw",
    "outputId": "ec968d20-f830-4ccc-9417-fe13e50e5329"
   },
   "outputs": [
    {
     "data": {
      "image/png": "[encoded data removed]",
      "text/plain": [
       "<Figure size 640x480 with 1 Axes>"
      ]
     },
     "metadata": {},
     "output_type": "display_data"
    }
   ],
   "source": [
    "list_lengths = [len(values) for values in mapping_dict.values()]\n",
    "\n",
    "plt.hist(list_lengths, bins=20)\n",
    "plt.xlabel('Length of Values List')\n",
    "plt.ylabel('Frequency')\n",
    "plt.title('Number of CITED patents for a cited patent')\n",
    "plt.grid(True)\n",
    "plt.show()\n"
   ]
  },
  {
   "cell_type": "markdown",
   "metadata": {
    "id": "zYKaZ88QzyNw"
   },
   "source": [
    "# 2.0 TF-IDF"
   ]
  },
  {
   "cell_type": "markdown",
   "metadata": {
    "id": "Xp60FzzazyNw"
   },
   "source": [
    "## 2.1 'Title' TF-IDF"
   ]
  },
  {
   "cell_type": "markdown",
   "metadata": {
    "id": "OuGvlekZzyNx"
   },
   "source": [
    "Let's consider only the Title text for now"
   ]
  },
  {
   "cell_type": "code",
   "execution_count": 25,
   "metadata": {
    "id": "-w_ZBJUwzyNx",
    "outputId": "93c8a7ec-f50a-4511-8b9e-f634681e90f6"
   },
   "outputs": [
    {
     "name": "stdout",
     "output_type": "stream",
     "text": [
      "Number of documents without title: 0\n",
      "Number of documents without title: 0\n",
      "Number of documents without title: 0\n"
     ]
    },
    {
     "data": {
      "text/plain": [
       "[{'id': '3650293A1',\n",
       "  'text': 'DEVICE FOR CONTROLLING THE BRAKING OF A TRAILER'},\n",
       " {'id': '3694265A1',\n",
       "  'text': 'TIME DIVISION MULTIPLEXING OF SYNCHRONIZATION CHANNELS'},\n",
       " {'id': '3623522A1', 'text': 'LAUNDRY MACHINE AND CONTROL METHOD OF THE SAME'},\n",
       " {'id': '3611147A1',\n",
       "  'text': 'CHEMICAL AND TOPOLOGICAL SURFACE MODIFICATION TO ENHANCE COATING ADHESION AND COMPATIBILITY'},\n",
       " {'id': '3640454A1', 'text': 'FUEL METERING SYSTEM'}]"
      ]
     },
     "execution_count": 25,
     "metadata": {},
     "output_type": "execute_result"
    }
   ],
   "source": [
    "# Load the title of the citing and cited patents, create_corpus creates a dictionary of 'id' : 'title' for each patent.\n",
    "title_citing_train = create_corpus(json_citing_train , 'title')\n",
    "title_citing_test = create_corpus(json_citing_test , 'title')\n",
    "\n",
    "title_nonciting = create_corpus(json_nonciting, 'title')\n",
    "title_citing_train[:5]"
   ]
  },
  {
   "cell_type": "markdown",
   "metadata": {
    "id": "IISReDF0zyNx"
   },
   "source": [
    "### 2.1.1 Initalize TF-IDF"
   ]
  },
  {
   "cell_type": "code",
   "execution_count": 27,
   "metadata": {
    "colab": {
     "referenced_widgets": [
      "9781798cac34409f8c6634f739f4aeab"
     ]
    },
    "id": "sPFUp2YDzyNx",
    "outputId": "cb9837fe-a68d-410d-9f18-9ef3173e4b59"
   },
   "outputs": [
    {
     "name": "stdout",
     "output_type": "stream",
     "text": [
      "Vectorizing descriptions...\n"
     ]
    },
    {
     "data": {
      "application/vnd.jupyter.widget-view+json": {
       "model_id": "ae64f10e64ce4e73be44357118095c5d",
       "version_major": 2,
       "version_minor": 0
      },
      "text/plain": [
       "TF-IDF:   0%|          | 0/23668 [00:00<?, ?it/s]"
      ]
     },
     "metadata": {},
     "output_type": "display_data"
    },
    {
     "name": "stdout",
     "output_type": "stream",
     "text": [
      "Size of vocabulary: 10000\n",
      "Shape of citing TF-IDF matrix: (6831, 10000)\n",
      "Shape of citedTF-IDF matrix: (16837, 10000)\n"
     ]
    }
   ],
   "source": [
    "tfidf_vectorizer = TfidfVectorizer(stop_words='english', max_features=10000)\n",
    "\n",
    "tfidf_citing, tfidf_nonciting = create_tfidf_matrix(title_citing_train, title_nonciting, tfidf_vectorizer)\n",
    "\n",
    "print(f\"Shape of citing TF-IDF matrix: {tfidf_citing.shape}\")\n",
    "print(f\"Shape of citedTF-IDF matrix: {tfidf_nonciting.shape}\")"
   ]
  },
  {
   "cell_type": "markdown",
   "metadata": {
    "id": "TN4_kPSmzyNx"
   },
   "source": [
    "### 2.1.2 Get Cosine similarities"
   ]
  },
  {
   "cell_type": "code",
   "execution_count": 32,
   "metadata": {
    "id": "nGNH7CXtzyNx",
    "outputId": "7028b5df-54a5-4068-ac60-753b8e6c3903"
   },
   "outputs": [
    {
     "data": {
      "text/plain": [
       "array([[0.        , 0.        , 0.        , ..., 0.        , 0.        ,\n",
       "        0.        ],\n",
       "       [0.        , 0.        , 0.        , ..., 0.        , 0.        ,\n",
       "        0.        ],\n",
       "       [0.        , 0.        , 0.16696119, ..., 0.        , 0.        ,\n",
       "        0.04566338],\n",
       "       ...,\n",
       "       [0.        , 0.        , 0.01757464, ..., 0.        , 0.        ,\n",
       "        0.01951692],\n",
       "       [0.        , 0.        , 0.06885372, ..., 0.        , 0.0532077 ,\n",
       "        0.07646317],\n",
       "       [0.        , 0.        , 0.        , ..., 0.        , 0.        ,\n",
       "        0.        ]])"
      ]
     },
     "execution_count": 32,
     "metadata": {},
     "output_type": "execute_result"
    }
   ],
   "source": [
    "cosine_similarities = linear_kernel(tfidf_citing, tfidf_nonciting)\n",
    "cosine_similarities"
   ]
  },
  {
   "cell_type": "markdown",
   "metadata": {
    "id": "PPZKsBl0zyNy"
   },
   "source": [
    "### 2.1.3 Get Metrics"
   ]
  },
  {
   "cell_type": "code",
   "execution_count": 34,
   "metadata": {
    "id": "k8baBC_OzyNy",
    "outputId": "70029dcf-aa84-403c-a992-9a9f5c456b40"
   },
   "outputs": [
    {
     "name": "stdout",
     "output_type": "stream",
     "text": [
      "Recall at 10: 0.258\n",
      "Recall at 20: 0.3197\n",
      "Recall at 50: 0.4048\n",
      "Recall at 100: 0.4668\n",
      "Mean ranking: 62.3493\n",
      "Mean average precision: 0.1521\n",
      "Number of patents measured: 6831\n",
      "Number of patents not in the citation: 0\n"
     ]
    }
   ],
   "source": [
    "# Get the top k ranks for each citing patent\n",
    "k = 100\n",
    "top_k_rank = top_k_ranks(title_citing_train, title_nonciting, cosine_similarities, k=k)\n",
    "\n",
    "# Calculate the metrics\n",
    "true_labels, predicted_labels, not_in_citation_mapping = \\\n",
    "    get_true_and_predicted(mapping_dict, top_k_rank)\n",
    "mean_rank = mean_ranking(true_labels, predicted_labels)\n",
    "mean_average_precision_val = mean_average_precision(true_labels, predicted_labels)\n",
    "\n",
    "recall_at_10_titles_tfidf = mean_recall_at_k(true_labels, predicted_labels, k=10)\n",
    "recall_at_20_titles_tfidf = mean_recall_at_k(true_labels, predicted_labels, k=20)\n",
    "recall_at_50_titles_tfidf = mean_recall_at_k(true_labels, predicted_labels, k=50)\n",
    "recall_at_100_titles_tfidf = mean_recall_at_k(true_labels, predicted_labels, k=100)\n",
    "\n",
    "print(\"Recall at 10:\", round(recall_at_10_titles_tfidf, 4))\n",
    "print(\"Recall at 20:\", round(recall_at_20_titles_tfidf, 4))\n",
    "print(\"Recall at 50:\", round(recall_at_50_titles_tfidf, 4))\n",
    "print(\"Recall at 100:\", round(recall_at_100_titles_tfidf, 4))\n",
    "print(\"Mean ranking:\", round(mean_rank, 4))\n",
    "print(\"Mean average precision:\", round(mean_average_precision_val, 4))\n",
    "print(\"Number of patents measured:\", len(predicted_labels))\n",
    "print(\"Number of patents not in the citation:\", not_in_citation_mapping)"
   ]
  },
  {
   "cell_type": "markdown",
   "metadata": {
    "id": "5sFSpRAazyNy"
   },
   "source": [
    "## 2.2 'Claim1' TF-IDF"
   ]
  },
  {
   "cell_type": "code",
   "execution_count": 36,
   "metadata": {
    "id": "hK0_vcM0zyNy",
    "outputId": "9ed31880-9f56-4927-fdfd-c9ae8162fb94"
   },
   "outputs": [
    {
     "name": "stdout",
     "output_type": "stream",
     "text": [
      "Number of documents without claim 1: 0\n",
      "Number of documents without claim 1: 0\n",
      "Number of documents without claim 1: 3\n",
      "Removing 3 documents without required text\n"
     ]
    },
    {
     "data": {
      "text/plain": [
       "[{'id': '3650293A1',\n",
       "  'text': 'Device (1) for controlling the braking of a trailer, comprising: - at least one control line (2) connectable to a source of a work fluid at a first pressure; - a braking line (3) connectable to the service braking system (4) of the trailer and communicating with said control line (2); - at least one additional line (5) connectable to a source of a work fluid at a second pressure; - at least one emergency line (6) connectable to said additional line (5) and connectable to the emergency and/or parking brake (7) of the trailer of the type of a hydraulically released spring brake; - at least one discharge line (8) of the work fluid communicating with a collection tank (9); - first valve means operable between a braking position, wherein said additional line (5) is isolated from said discharge line (8), and an emergency position, wherein said additional line (5) is communicating with said discharge line (8);'},\n",
       " {'id': '3694265A1',\n",
       "  'text': 'A method of wireless communication by a user equipment, UE, comprising: receiving a plurality of synchronization signals, the plurality of synchronization signals including a plurality of first synchronization signals of different types and a plurality of second synchronization signals of different types; and demultiplexing the plurality of synchronization signals by performing time-division demultiplexing of at least one of the plurality of first synchronization signals and at least one of the plurality of second synchronization signals; wherein the receiving the plurality of synchronization signals comprises: receiving a first transmission by receiving a first group of the plurality of synchronization signals; and receiving one or more repeat transmissions of the first transmission, wherein each of the one or more repeat transmissions of the first transmission includes a repetition of the first transmission, wherein the first transmission and the one or more repeat transmissions of the first transmission are received within a first synchronization subframe.'},\n",
       " {'id': '3623522A1',\n",
       "  'text': 'A method for controlling a laundry machine to execute a refreshing course for removal or reduction of creases formed at laundry through supply of steam to the laundry, comprising: a course selection operation of selecting one of a plurality of courses (820, 830, 840); a steam water supply operation (S2) of supplying water from an external water supply source to an interior of a tub (200) up to a water level for generation of steam while preventing the water to pass through a drum (300), when the refreshing course is selected in the course selection operation; and a steaming operation (S3) of heating the water by driving a washing heater (600) provided at the tub (200), thereby generating steam from the water supplied to the water level for generation of steam; characterized by a refreshing operation (S4) of refreshing the laundry after execution of the steaming operation (S3) by alternately executing a tumbling driving operation to tumble the laundry within the drum (300) in accordance with rotation of the drum (300) and a spin driving operation to rotate the laundry within the drum (300) in close contact with an inner surface of the drum (300) together with the drum in accordance with rotation of the drum (300), wherein the rotation speed at the spin driving operation is higher than the rotation speed at the tumbling driving operation and lower than the rotation speed of spin-drying driving operation for removal of moisture through centrifugal force, wherein a time taken for the tumbling driving operation is longer than a time taken for the spin driving operation in the refreshing operation and a drum driving cycle including the tumbling driving operation and the spin driving operation is repeated multiple times in the refreshing operation.'},\n",
       " {'id': '3611147A1',\n",
       "  'text': 'A process of coating a substrate (12) containing silicon with an environmental barrier coating (10), comprising: altering a surface (20) of said substrate (12); and applying an environmental barrier layer (18) to said surface (20) of said substrate (12).'},\n",
       " {'id': '3640454A1',\n",
       "  'text': 'A fuel metering system for a gas turbine engine (10), the fuel metering system comprising: a fuel supply line; a fuel metering valve (73) configured to pass an amount of fuel received from the fuel supply line to the gas turbine engine (10); an engine control unit (80) configured to control the position of the fuel metering valve (73) according to a demanded fuel flow to the gas turbine engine (10); a flow sensor (78) configured to provide a measurement of a flow of fuel in the fuel metering system; wherein the engine control (80) unit is further configured to determine a fuel flow to the gas turbine engine (10) based upon the measurement from the flow sensor (78) ; and wherein the engine control unit (80) is further configured to identify a loss of fuel flow control by comparing the demanded fuel flow to the determined fuel flow to the gas turbine engine (10).'}]"
      ]
     },
     "execution_count": 36,
     "metadata": {},
     "output_type": "execute_result"
    }
   ],
   "source": [
    "# Load the title of the citing and cited patents, create_corpus creates a dictionary of 'id' : 'title' for each patent.\n",
    "claim1_citing = create_corpus(json_citing_train , 'claim1')\n",
    "claim1_citing_test = create_corpus(json_citing_test , 'claim1')\n",
    "claim1_nonciting = create_corpus(json_nonciting, 'claim1')\n",
    "claim1_citing[:5]"
   ]
  },
  {
   "cell_type": "code",
   "execution_count": 37,
   "metadata": {
    "colab": {
     "referenced_widgets": [
      "4872ee7b03c04538bc41559f82828011"
     ]
    },
    "id": "Ytbhc3J5zyNy",
    "outputId": "5936e102-e566-4c2a-da69-c9e7b6b4f95c"
   },
   "outputs": [
    {
     "name": "stdout",
     "output_type": "stream",
     "text": [
      "Vectorizing descriptions...\n"
     ]
    },
    {
     "data": {
      "application/vnd.jupyter.widget-view+json": {
       "model_id": "bf46812f656948a09db78baf6883eb48",
       "version_major": 2,
       "version_minor": 0
      },
      "text/plain": [
       "TF-IDF:   0%|          | 0/23665 [00:00<?, ?it/s]"
      ]
     },
     "metadata": {},
     "output_type": "display_data"
    },
    {
     "name": "stdout",
     "output_type": "stream",
     "text": [
      "Size of vocabulary: 10000\n",
      "Shape of citing TF-IDF matrix: (6831, 10000)\n",
      "Shape of citedTF-IDF matrix: (16834, 10000)\n"
     ]
    }
   ],
   "source": [
    "tfidf_vectorizer = TfidfVectorizer(stop_words='english', max_features=10000)\n",
    "\n",
    "tfidf_citing, tfidf_cited = create_tfidf_matrix(claim1_citing, claim1_nonciting, tfidf_vectorizer)\n",
    "\n",
    "print(f\"Shape of citing TF-IDF matrix: {tfidf_citing.shape}\")\n",
    "print(f\"Shape of citedTF-IDF matrix: {tfidf_cited.shape}\")"
   ]
  },
  {
   "cell_type": "code",
   "execution_count": 38,
   "metadata": {
    "id": "qYw7C0ryzyNz",
    "outputId": "471697cb-c3c9-4c18-a747-46eb2d4562ff"
   },
   "outputs": [
    {
     "data": {
      "text/plain": [
       "array([[5.04661656e-04, 1.73900411e-04, 9.13427156e-03, ...,\n",
       "        6.36926300e-02, 1.25884114e-02, 8.31144550e-04],\n",
       "       [3.50344752e-03, 1.02647772e-02, 1.97642245e-03, ...,\n",
       "        3.87152669e-02, 3.48597889e-02, 3.07036422e-03],\n",
       "       [4.65212764e-04, 5.25011925e-03, 1.19882192e-03, ...,\n",
       "        4.45755219e-02, 8.73387271e-05, 1.25964771e-03],\n",
       "       ...,\n",
       "       [2.00192536e-02, 3.32487972e-04, 3.08010131e-03, ...,\n",
       "        1.04950604e-02, 3.01811849e-02, 3.68682601e-04],\n",
       "       [2.62873775e-02, 3.96316869e-02, 1.19304685e-02, ...,\n",
       "        2.61634525e-02, 3.63858856e-02, 2.19432799e-02],\n",
       "       [2.46252132e-04, 3.34637354e-03, 2.69667347e-03, ...,\n",
       "        9.84004237e-04, 1.40196571e-03, 2.73248941e-02]])"
      ]
     },
     "execution_count": 38,
     "metadata": {},
     "output_type": "execute_result"
    }
   ],
   "source": [
    "cosine_similarities = linear_kernel(tfidf_citing, tfidf_cited)\n",
    "cosine_similarities"
   ]
  },
  {
   "cell_type": "code",
   "execution_count": 39,
   "metadata": {
    "id": "S9DxYwxvzyNz",
    "outputId": "badc8801-0332-4161-c37f-419cca2b52d0"
   },
   "outputs": [
    {
     "name": "stdout",
     "output_type": "stream",
     "text": [
      "Recall at 10: 0.3435\n",
      "Recall at 20: 0.419\n",
      "Recall at 50: 0.5353\n",
      "Recall at 100: 0.6163\n",
      "Mean ranking: 50.4386\n",
      "Mean average precision: 0.1981\n",
      "Number of patents measured: 6831\n",
      "Number of patents not in the citation: 0\n"
     ]
    }
   ],
   "source": [
    "# Get the top k ranks for each citing patent\n",
    "k = 100\n",
    "top_k_rank = top_k_ranks(claim1_citing, claim1_nonciting, cosine_similarities, k=k)\n",
    "\n",
    "# Calculate the metrics\n",
    "true_labels, predicted_labels, not_in_citation_mapping = \\\n",
    "    get_true_and_predicted(mapping_dict, top_k_rank)\n",
    "mean_rank = mean_ranking(true_labels, predicted_labels)\n",
    "mean_average_precision_val = mean_average_precision(true_labels, predicted_labels)\n",
    "recall_at_10_claim1_tfidf = mean_recall_at_k(true_labels, predicted_labels, k=10)\n",
    "recall_at_20_claim1_tfidf = mean_recall_at_k(true_labels, predicted_labels, k=20)\n",
    "recall_at_50_claim1_tfidf = mean_recall_at_k(true_labels, predicted_labels, k=50)\n",
    "recall_at_100_claim1_tfidf = mean_recall_at_k(true_labels, predicted_labels, k=100)\n",
    "\n",
    "print(\"Recall at 10:\", round(recall_at_10_claim1_tfidf, 4))\n",
    "print(\"Recall at 20:\", round(recall_at_20_claim1_tfidf, 4))\n",
    "print(\"Recall at 50:\", round(recall_at_50_claim1_tfidf, 4))\n",
    "print(\"Recall at 100:\", round(recall_at_100_claim1_tfidf, 4))\n",
    "\n",
    "\n",
    "print(\"Mean ranking:\", round(mean_rank, 4))\n",
    "print(\"Mean average precision:\", round(mean_average_precision_val, 4))\n",
    "print(\"Number of patents measured:\", len(predicted_labels))\n",
    "print(\"Number of patents not in the citation:\", not_in_citation_mapping)"
   ]
  },
  {
   "cell_type": "markdown",
   "metadata": {
    "id": "UeZ9iVEMzyN4"
   },
   "source": [
    "## 2.3 'All Content' TF_IDF"
   ]
  },
  {
   "cell_type": "code",
   "execution_count": 23,
   "metadata": {
    "id": "vY8YlnddzyN4",
    "outputId": "baa1476a-83a1-4729-86df-77be9b506dff"
   },
   "outputs": [],
   "source": [
    "# Load the title of the citing and cited patents, create_corpus creates a dictionary of 'id' : 'title' for each patent.\n",
    "full_text_citing = create_corpus(json_citing_train , 'fulltext')\n",
    "full_text_nonciting = create_corpus(json_nonciting, 'fulltext')\n",
    "#full_text_citing[:5]"
   ]
  },
  {
   "cell_type": "code",
   "execution_count": 42,
   "metadata": {
    "id": "YeyleakhzyN5",
    "outputId": "7c94fe54-3678-45a5-d60a-999579eb0ff9"
   },
   "outputs": [
    {
     "data": {
      "image/png": "[encoded data removed]",
      "text/plain": [
       "<Figure size 640x480 with 1 Axes>"
      ]
     },
     "metadata": {},
     "output_type": "display_data"
    }
   ],
   "source": [
    "text_lengths = [len(item['text']) for item in full_text_citing]\n",
    "plt.hist(text_lengths, bins=20)\n",
    "plt.xlabel('Full Text Length')\n",
    "plt.ylabel('Frequency')\n",
    "plt.title('Histogram of Full Text Length')\n",
    "plt.grid(True)\n",
    "plt.ticklabel_format(style='plain', axis='x')\n",
    "plt.xticks(rotation=45)\n",
    "plt.show()\n"
   ]
  },
  {
   "cell_type": "code",
   "execution_count": 43,
   "metadata": {
    "id": "u87cjaANzyN5"
   },
   "outputs": [],
   "source": [
    "#TOOD: Full Text TF_IDF"
   ]
  },
  {
   "cell_type": "markdown",
   "metadata": {
    "id": "9EExVyMnzyN5"
   },
   "source": [
    "# 3.0 BM-25"
   ]
  },
  {
   "cell_type": "markdown",
   "metadata": {
    "id": "ctWGybKzzyN5"
   },
   "source": [
    "## 3.1 Initialize BM25 Class"
   ]
  },
  {
   "cell_type": "code",
   "execution_count": 32,
   "metadata": {
    "id": "56eWZbwNzyN6"
   },
   "outputs": [],
   "source": [
    "class BM25Score:\n",
    "    \"\"\"BM25 scoring algorithm implementation for document ranking.\"\"\"\n",
    "\n",
    "    def __init__(self, vectorized_docs, k1=1.5, b=0.75):\n",
    "        \"\"\"\n",
    "        Initialize the BM25Score object.\n",
    "\n",
    "        Parameters:\n",
    "        - vectorized_docs (scipy.sparse.csr_matrix): Sparse matrix of word counts representing vectorized documents.\n",
    "        - k1 (float, optional): Tuning parameter that controls term frequency normalization. Default is 1.5.\n",
    "        - b (float, optional): Tuning parameter that controls the impact of document length normalization. Default is 0.75.\n",
    "        \"\"\"\n",
    "        self.k1 = k1\n",
    "        self.b = b\n",
    "        self.vectorized_docs = vectorized_docs\n",
    "\n",
    "    def fit(self, vectorized_queries=None, query_ids=None, args=None):\n",
    "        \"\"\"\n",
    "        Fit the BM25 model to the provided vectorized documents.\n",
    "\n",
    "        Parameters:\n",
    "        - vectorized_queries (scipy.sparse.csr_matrix, optional): Sparse matrix of word counts representing vectorized queries. Default is None.\n",
    "        - query_ids (list, optional): List of query IDs. Default is None.\n",
    "        - args (dict, optional): Additional arguments for grid search integration. Default is None.\n",
    "\n",
    "        Returns:\n",
    "        - self (BM25Score): Returns the instance of the BM25Score object after fitting.\n",
    "        \"\"\"\n",
    "        self.n_d = self.vectorized_docs.sum(axis=1).reshape(-1, 1).A\n",
    "        self.avgdl = np.mean(self.n_d)\n",
    "        self.n_docs = self.vectorized_docs.shape[0]\n",
    "\n",
    "        self.nq = np.sum(self.vectorized_docs > 0, axis=0).reshape(1, -1)\n",
    "        self.idf = np.log(((self.n_docs - self.nq + 0.5) / (self.nq + 0.5)) + 1).A\n",
    "        return self\n",
    "\n",
    "    def predict(self, vectorized_queries):\n",
    "        \"\"\"\n",
    "        Predict relevance scores for the given vectorized queries.\n",
    "\n",
    "        Parameters:\n",
    "        - vectorized_queries (scipy.sparse.csr_matrix): Sparse matrix of word counts representing vectorized queries.\n",
    "\n",
    "        Returns:\n",
    "        - scores (numpy.ndarray): Array of relevance scores for the queries.\n",
    "        \"\"\"\n",
    "        idx_tokens = np.argwhere(vectorized_queries.sum(axis=0) > 0).reshape(-1)\n",
    "        vectorized_queries = vectorized_queries[:, idx_tokens]\n",
    "        vectorized_docs = self.vectorized_docs[:, idx_tokens].toarray()\n",
    "        idf = self.idf[:, idx_tokens]\n",
    "\n",
    "        scores = idf * (\n",
    "            (vectorized_docs * (self.k1 + 1)) / \\\n",
    "            (\n",
    "                vectorized_docs + \\\n",
    "                self.k1 * (1 - self.b + self.b * (self.n_d / self.avgdl))\n",
    "            )\n",
    "        )\n",
    "\n",
    "        return (vectorized_queries > 0).astype(np.int8) @ scores.T\n",
    "\n",
    "def create_bm25_matrix(citing_dataset, nonciting_dataset, vectorizer=CountVectorizer()):\n",
    "    \"\"\"\n",
    "    Creates BM25 similarity scores for the given citing and non-citing datasets based on the specified text column.\n",
    "\n",
    "    Parameters:\n",
    "    citing_dataset (json): DataFrame containing citing patents.\n",
    "    nonciting_dataset (json): DataFrame containing non-citing patents.\n",
    "    vectorizer (CountVectorizer, optional): CountVectorizer object for vectorizing text data.\n",
    "                                            Defaults to CountVectorizer().\n",
    "\n",
    "    Returns:\n",
    "    array: Similarity scores matrix between citing and non-citing patents.\n",
    "    \"\"\"\n",
    "    all_text_citing = [patent['text'] for patent in citing_dataset]\n",
    "    all_text_nonciting = [patent['text'] for patent in nonciting_dataset]\n",
    "\n",
    "    # Vectorizing descriptions\n",
    "    print(\"Vectorizing descriptions...\")\n",
    "    vectorizer.fit(all_text_citing + all_text_nonciting)\n",
    "    count_matrix_citing = vectorizer.transform(all_text_citing)\n",
    "    count_matrix_nonciting = vectorizer.transform(all_text_nonciting)\n",
    "\n",
    "    # Using BM25 scoring\n",
    "    print(\"Computing BM25 scores...\")\n",
    "    bm25 = BM25Score(count_matrix_nonciting)\n",
    "    bm25.fit()\n",
    "    bm25_scores = bm25.predict(count_matrix_citing)\n",
    "\n",
    "    return bm25_scores"
   ]
  },
  {
   "cell_type": "markdown",
   "metadata": {
    "id": "HgMi4dD1zyN6"
   },
   "source": [
    "## 3.2 'Title' BM25"
   ]
  },
  {
   "cell_type": "code",
   "execution_count": 48,
   "metadata": {
    "id": "63SLlJLvzyN6",
    "outputId": "540bb6af-156a-4ea3-9780-f88bf98c00ad"
   },
   "outputs": [
    {
     "name": "stdout",
     "output_type": "stream",
     "text": [
      "Vectorizing descriptions...\n",
      "Computing BM25 scores...\n",
      "Shape of BM25 scores matrix: (6831, 16837)\n"
     ]
    }
   ],
   "source": [
    "# Create BM25 similarity scores\n",
    "bm25_scores = create_bm25_matrix(title_citing_train, title_nonciting)\n",
    "\n",
    "print(f\"Shape of BM25 scores matrix: {bm25_scores.shape}\")"
   ]
  },
  {
   "cell_type": "code",
   "execution_count": 49,
   "metadata": {
    "id": "boDqA6p1zyN7",
    "outputId": "883bc003-3e65-47e1-e6e8-9c73865408d7"
   },
   "outputs": [
    {
     "name": "stdout",
     "output_type": "stream",
     "text": [
      "Recall at 10: 0.2706\n",
      "Recall at 20: 0.3316\n",
      "Recall at 50: 0.4102\n",
      "Recall at 100: 0.4719\n",
      "Mean ranking: 61.651\n",
      "Mean average precision: 0.166\n",
      "Number of patents measured: 6831\n",
      "Number of patents not in the citation: 0\n"
     ]
    }
   ],
   "source": [
    "# Get the top k ranks for each citing patent\n",
    "k = 100\n",
    "top_k_rank = top_k_ranks(title_citing_train, title_nonciting, bm25_scores, k=k)\n",
    "\n",
    "# Calculate the metrics\n",
    "true_labels, predicted_labels, not_in_citation_mapping = \\\n",
    "    get_true_and_predicted(mapping_dict, top_k_rank)\n",
    "mean_rank = mean_ranking(true_labels, predicted_labels)\n",
    "mean_average_precision_val = mean_average_precision(true_labels, predicted_labels)\n",
    "recall_at_10_titles_bm25 = mean_recall_at_k(true_labels, predicted_labels, k=10)\n",
    "recall_at_20_titles_bm25 = mean_recall_at_k(true_labels, predicted_labels, k=20)\n",
    "recall_at_50_titles_bm25 = mean_recall_at_k(true_labels, predicted_labels, k=50)\n",
    "recall_at_100_titles_bm25 = mean_recall_at_k(true_labels, predicted_labels, k=100)\n",
    "\n",
    "print(\"Recall at 10:\", round(recall_at_10_titles_bm25, 4))\n",
    "print(\"Recall at 20:\", round(recall_at_20_titles_bm25, 4))\n",
    "print(\"Recall at 50:\", round(recall_at_50_titles_bm25, 4))\n",
    "print(\"Recall at 100:\", round(recall_at_100_titles_bm25, 4))\n",
    "\n",
    "\n",
    "print(\"Mean ranking:\", round(mean_rank, 4))\n",
    "print(\"Mean average precision:\", round(mean_average_precision_val, 4))\n",
    "print(\"Number of patents measured:\", len(predicted_labels))\n",
    "print(\"Number of patents not in the citation:\", not_in_citation_mapping)"
   ]
  },
  {
   "cell_type": "markdown",
   "metadata": {
    "id": "ZI0QxEM5zyN7"
   },
   "source": [
    "## 3.3 'Claims1' BM25"
   ]
  },
  {
   "cell_type": "code",
   "execution_count": 51,
   "metadata": {
    "id": "VUGvNaWXzyN7",
    "outputId": "92a7e1ac-36e0-4212-ec79-2c3459234206"
   },
   "outputs": [
    {
     "name": "stdout",
     "output_type": "stream",
     "text": [
      "Number of citing: 6831\n",
      "Number of nonciting: 16834\n",
      "Sum: 23665\n"
     ]
    }
   ],
   "source": [
    "print(f\"Number of citing: {len(claim1_citing)}\")\n",
    "print(f\"Number of nonciting: {len(claim1_nonciting)}\")\n",
    "print(f\"Sum: {len(claim1_citing) + len(claim1_nonciting)}\")"
   ]
  },
  {
   "cell_type": "code",
   "execution_count": 52,
   "metadata": {
    "id": "FEcgAxmIzyN8",
    "outputId": "84ad86d2-b07a-418a-91e1-71dd91c07c1c"
   },
   "outputs": [
    {
     "name": "stdout",
     "output_type": "stream",
     "text": [
      "Vectorizing descriptions...\n",
      "Computing BM25 scores...\n",
      "Shape of BM25 scores matrix: (6831, 16834)\n"
     ]
    }
   ],
   "source": [
    "# Create BM25 similarity scores\n",
    "bm25_scores = create_bm25_matrix(claim1_citing, claim1_nonciting)\n",
    "\n",
    "print(f\"Shape of BM25 scores matrix: {bm25_scores.shape}\")"
   ]
  },
  {
   "cell_type": "code",
   "execution_count": 53,
   "metadata": {
    "id": "c2Dntjx4zyN8",
    "outputId": "29474a35-56ca-4ba7-9e72-4fd74de150ef"
   },
   "outputs": [
    {
     "name": "stdout",
     "output_type": "stream",
     "text": [
      "Recall at 10: 0.4077\n",
      "Recall at 20: 0.4774\n",
      "Recall at 50: 0.5743\n",
      "Recall at 100: 0.6445\n",
      "Mean ranking: 46.0553\n",
      "Mean average precision: 0.2609\n",
      "Number of patents measured: 6831\n",
      "Number of patents not in the citation: 0\n"
     ]
    }
   ],
   "source": [
    "# Get the top k ranks for each citing patent\n",
    "k = 100\n",
    "top_k_rank = top_k_ranks(claim1_citing, claim1_nonciting, bm25_scores, k=k)\n",
    "\n",
    "# Calculate the metrics\n",
    "true_labels, predicted_labels, not_in_citation_mapping = \\\n",
    "    get_true_and_predicted(mapping_dict, top_k_rank)\n",
    "\n",
    "mean_rank = mean_ranking(true_labels, predicted_labels)\n",
    "mean_average_precision_val = mean_average_precision(true_labels, predicted_labels)\n",
    "recall_at_10_claim1_bm25 = mean_recall_at_k(true_labels, predicted_labels, k=10)\n",
    "recall_at_20_claim1_bm25 = mean_recall_at_k(true_labels, predicted_labels, k=20)\n",
    "recall_at_50_claim1_bm25 = mean_recall_at_k(true_labels, predicted_labels, k=50)\n",
    "recall_at_100_claim1_bm25 = mean_recall_at_k(true_labels, predicted_labels, k=100)\n",
    "\n",
    "print(\"Recall at 10:\", round(recall_at_10_claim1_bm25, 4))\n",
    "print(\"Recall at 20:\", round(recall_at_20_claim1_bm25, 4))\n",
    "print(\"Recall at 50:\", round(recall_at_50_claim1_bm25, 4))\n",
    "print(\"Recall at 100:\", round(recall_at_100_claim1_bm25, 4))\n",
    "\n",
    "\n",
    "print(\"Mean ranking:\", round(mean_rank, 4))\n",
    "print(\"Mean average precision:\", round(mean_average_precision_val, 4))\n",
    "print(\"Number of patents measured:\", len(predicted_labels))\n",
    "print(\"Number of patents not in the citation:\", not_in_citation_mapping)"
   ]
  },
  {
   "cell_type": "code",
   "execution_count": 54,
   "metadata": {
    "id": "lsYVa4CPzyN8",
    "outputId": "9a95bc44-24ac-4155-e08d-8d2d0dd09fe4"
   },
   "outputs": [
    {
     "data": {
      "text/plain": [
       "6831"
      ]
     },
     "execution_count": 54,
     "metadata": {},
     "output_type": "execute_result"
    }
   ],
   "source": [
    "len(true_labels)"
   ]
  },
  {
   "cell_type": "code",
   "execution_count": 55,
   "metadata": {
    "id": "ZfCWBjeqzyN8",
    "outputId": "571a79b7-0f41-48b1-bba9-c7e9b62d38f9"
   },
   "outputs": [
    {
     "data": {
      "text/plain": [
       "100"
      ]
     },
     "execution_count": 55,
     "metadata": {},
     "output_type": "execute_result"
    }
   ],
   "source": [
    "len(predicted_labels[0])"
   ]
  },
  {
   "cell_type": "code",
   "execution_count": 56,
   "metadata": {
    "id": "n7ZwWY-IzyN8",
    "outputId": "8e41e17b-b516-4db4-d3a8-140dee4153e6"
   },
   "outputs": [
    {
     "data": {
      "image/png": "[encoded data removed]",
      "text/plain": [
       "<Figure size 640x480 with 1 Axes>"
      ]
     },
     "metadata": {},
     "output_type": "display_data"
    }
   ],
   "source": [
    "k_values = [10, 20, 50, 100]\n",
    "\n",
    "plt.plot(k_values, [recall_at_10_claim1_bm25, recall_at_20_claim1_bm25, recall_at_50_claim1_bm25, recall_at_100_claim1_bm25], label='Claim1 BM25', marker='o')\n",
    "plt.plot(k_values, [recall_at_10_claim1_tfidf, recall_at_20_claim1_tfidf, recall_at_50_claim1_tfidf, recall_at_100_claim1_tfidf], label='Claim1 TF-IDF', marker='o')\n",
    "plt.plot(k_values, [recall_at_10_titles_bm25, recall_at_20_titles_bm25, recall_at_50_titles_bm25, recall_at_100_titles_bm25], label='Titles BM25', marker='o')\n",
    "plt.plot(k_values, [recall_at_10_titles_tfidf, recall_at_20_titles_tfidf, recall_at_50_titles_tfidf, recall_at_100_titles_tfidf], label='Titles TF-IDF', marker='o')\n",
    "\n",
    "plt.xlabel('Top K')\n",
    "plt.ylabel('Recall')\n",
    "plt.title('Comparison of BM25 and TF-IDF for Claim1 and Titles')\n",
    "plt.xticks(k_values)\n",
    "plt.legend()\n",
    "plt.grid(True)\n",
    "plt.show()"
   ]
  },
  {
   "cell_type": "markdown",
   "metadata": {},
   "source": [
    "# Our solution"
   ]
  },
  {
   "cell_type": "code",
   "execution_count": 77,
   "metadata": {},
   "outputs": [
    {
     "name": "stdout",
     "output_type": "stream",
     "text": [
      "Number of documents without claims: 0\n",
      "Number of documents without claims: 0\n",
      "Number of documents without description: 0\n"
     ]
    }
   ],
   "source": [
    "claims_citing_train = create_corpus(json_citing_train , 'claims')\n",
    "claims_citing_test = create_corpus(json_citing_test , 'claims')\n",
    "\n",
    "descriprion_nonciting = create_corpus(json_nonciting, 'description')\n",
    "#claims_citing_train[:2]"
   ]
  },
  {
   "cell_type": "code",
   "execution_count": 79,
   "metadata": {},
   "outputs": [],
   "source": [
    "from gensim.models.doc2vec import Doc2Vec, TaggedDocument\n",
    "from gensim.utils import simple_preprocess\n",
    "\n",
    "all_docs = claims_citing_train + descriprion_nonciting\n",
    "\n",
    "tagged_docs = [\n",
    "    TaggedDocument(words=simple_preprocess(doc['text']), tags=[doc['id']])\n",
    "    for doc in all_docs\n",
    "] #gensim.utils.simple_preprocess() uzima samo slova min duzine 2 max duzine 15 "
   ]
  },
  {
   "cell_type": "code",
   "execution_count": 81,
   "metadata": {},
   "outputs": [],
   "source": [
    "model = Doc2Vec(vector_size=300, window=5, min_count=2, workers=4, epochs = 30)\n",
    "\n",
    "model.build_vocab(tagged_docs)\n",
    "\n",
    "model.train(tagged_docs, total_examples=model.corpus_count, epochs=model.epochs)"
   ]
  },
  {
   "cell_type": "code",
   "execution_count": 83,
   "metadata": {},
   "outputs": [],
   "source": [
    "vectors_by_id = {doc['id']: model.dv[doc['id']] for doc in claims_citing_train}\n",
    "vectors_by_id1 = {doc['id']: model.dv[doc['id']] for doc in descriprion_nonciting}"
   ]
  },
  {
   "cell_type": "code",
   "execution_count": 85,
   "metadata": {},
   "outputs": [],
   "source": [
    "vectors_by_id_list = [vec.tolist() for vec in vectors_by_id.values()]\n",
    "vectors_by_id_list1 = [vec.tolist() for vec in vectors_by_id1.values()]"
   ]
  },
  {
   "cell_type": "code",
   "execution_count": 87,
   "metadata": {},
   "outputs": [
    {
     "data": {
      "text/plain": [
       "array([[ 39.49397811,   0.98374973, -11.93806485, ..., 152.03763204,\n",
       "         77.40695888,  73.27581816],\n",
       "       [ 33.66263193,  71.12007491,   3.89147258, ..., 102.04341433,\n",
       "        263.73567392,  37.30822347],\n",
       "       [-10.28393857, 101.36186157,  37.40638435, ..., 140.0906916 ,\n",
       "        142.27349774, 102.37799452],\n",
       "       ...,\n",
       "       [ 40.36568969,  75.67053   , 125.45306009, ...,  64.03504559,\n",
       "        151.23393979,  95.56943164],\n",
       "       [ 56.59590675,  40.90261777,  71.9046428 , ...,  46.89412168,\n",
       "         26.61155278,  93.84565203],\n",
       "       [ 50.12080406,  59.4145261 ,  70.92224427, ...,  40.9450836 ,\n",
       "         78.77828106,  57.54824045]])"
      ]
     },
     "execution_count": 87,
     "metadata": {},
     "output_type": "execute_result"
    }
   ],
   "source": [
    "cosine_similarities = linear_kernel(vectors_by_id_list, vectors_by_id_list1)\n",
    "cosine_similarities"
   ]
  },
  {
   "cell_type": "code",
   "execution_count": 89,
   "metadata": {},
   "outputs": [
    {
     "name": "stdout",
     "output_type": "stream",
     "text": [
      "Recall at 10: 0.4727\n",
      "Recall at 20: 0.5632\n",
      "Recall at 50: 0.6828\n",
      "Recall at 100: 0.7656\n",
      "Mean ranking: 36.1989\n",
      "Mean average precision: 0.283\n",
      "Number of patents measured: 6831\n",
      "Number of patents not in the citation: 0\n"
     ]
    }
   ],
   "source": [
    "k = 100\n",
    "top_k_rank = top_k_ranks(claims_citing_train, descriprion_nonciting, cosine_similarities, k=k)\n",
    "\n",
    "# Calculate the metrics\n",
    "true_labels, predicted_labels, not_in_citation_mapping = \\\n",
    "    get_true_and_predicted(mapping_dict, top_k_rank)\n",
    "mean_rank = mean_ranking(true_labels, predicted_labels)\n",
    "mean_average_precision_val = mean_average_precision(true_labels, predicted_labels)\n",
    "recall_at_10_claim1_tfidf = mean_recall_at_k(true_labels, predicted_labels, k=10)\n",
    "recall_at_20_claim1_tfidf = mean_recall_at_k(true_labels, predicted_labels, k=20)\n",
    "recall_at_50_claim1_tfidf = mean_recall_at_k(true_labels, predicted_labels, k=50)\n",
    "recall_at_100_claim1_tfidf = mean_recall_at_k(true_labels, predicted_labels, k=100)\n",
    "\n",
    "print(\"Recall at 10:\", round(recall_at_10_claim1_tfidf, 4))\n",
    "print(\"Recall at 20:\", round(recall_at_20_claim1_tfidf, 4))\n",
    "print(\"Recall at 50:\", round(recall_at_50_claim1_tfidf, 4))\n",
    "print(\"Recall at 100:\", round(recall_at_100_claim1_tfidf, 4))\n",
    "\n",
    "\n",
    "print(\"Mean ranking:\", round(mean_rank, 4))\n",
    "print(\"Mean average precision:\", round(mean_average_precision_val, 4))\n",
    "print(\"Number of patents measured:\", len(predicted_labels))\n",
    "print(\"Number of patents not in the citation:\", not_in_citation_mapping)"
   ]
  },
  {
   "cell_type": "code",
   "execution_count": 91,
   "metadata": {},
   "outputs": [
    {
     "name": "stdout",
     "output_type": "stream",
     "text": [
      "Number of documents without claim 1: 0\n",
      "Number of documents without claim 1: 0\n",
      "Number of documents without claims: 3\n",
      "Removing 3 documents without required text\n",
      "Recall at 10: 0.2439\n",
      "Recall at 20: 0.3065\n",
      "Recall at 50: 0.4152\n",
      "Recall at 100: 0.4979\n",
      "Mean ranking: 61.7052\n",
      "Mean average precision: 0.1325\n",
      "Number of patents measured: 6831\n",
      "Number of patents not in the citation: 0\n"
     ]
    }
   ],
   "source": [
    "claim1_citing_train = create_corpus(json_citing_train , 'claim1')\n",
    "claim1_citing_test = create_corpus(json_citing_test , 'claim1')\n",
    "\n",
    "claims_nonciting = create_corpus(json_nonciting, 'claims')\n",
    "#claims_citing_train[:2]\n",
    "all_docs = claim1_citing_train + claims_nonciting\n",
    "tagged_docs = [\n",
    "    TaggedDocument(words=simple_preprocess(doc['text']), tags=[doc['id']])\n",
    "    for doc in all_docs\n",
    "]\n",
    "model = Doc2Vec(vector_size=300, window=5, min_count=2, workers=4, epochs = 30)\n",
    "\n",
    "model.build_vocab(tagged_docs)\n",
    "\n",
    "model.train(tagged_docs, total_examples=model.corpus_count, epochs=model.epochs)\n",
    "vectors_by_id = {doc['id']: model.dv[doc['id']] for doc in claim1_citing_train}\n",
    "\n",
    "vectors_by_id1 = {doc['id']: model.dv[doc['id']] for doc in claims_nonciting}\n",
    "vectors_by_id_list = [vec.tolist() for vec in vectors_by_id.values()]\n",
    "vectors_by_id_list1 = [vec.tolist() for vec in vectors_by_id1.values()]\n",
    "\n",
    "cosine_similarities = linear_kernel(vectors_by_id_list, vectors_by_id_list1)\n",
    "cosine_similarities\n",
    "\n",
    "k = 100\n",
    "top_k_rank = top_k_ranks(claim1_citing_train, claims_nonciting, cosine_similarities, k=k)\n",
    "\n",
    "# Calculate the metrics\n",
    "true_labels, predicted_labels, not_in_citation_mapping = \\\n",
    "    get_true_and_predicted(mapping_dict, top_k_rank)\n",
    "mean_rank = mean_ranking(true_labels, predicted_labels)\n",
    "mean_average_precision_val = mean_average_precision(true_labels, predicted_labels)\n",
    "recall_at_10_claim1_tfidf = mean_recall_at_k(true_labels, predicted_labels, k=10)\n",
    "recall_at_20_claim1_tfidf = mean_recall_at_k(true_labels, predicted_labels, k=20)\n",
    "recall_at_50_claim1_tfidf = mean_recall_at_k(true_labels, predicted_labels, k=50)\n",
    "recall_at_100_claim1_tfidf = mean_recall_at_k(true_labels, predicted_labels, k=100)\n",
    "\n",
    "print(\"Recall at 10:\", round(recall_at_10_claim1_tfidf, 4))\n",
    "print(\"Recall at 20:\", round(recall_at_20_claim1_tfidf, 4))\n",
    "print(\"Recall at 50:\", round(recall_at_50_claim1_tfidf, 4))\n",
    "print(\"Recall at 100:\", round(recall_at_100_claim1_tfidf, 4))\n",
    "\n",
    "\n",
    "print(\"Mean ranking:\", round(mean_rank, 4))\n",
    "print(\"Mean average precision:\", round(mean_average_precision_val, 4))\n",
    "print(\"Number of patents measured:\", len(predicted_labels))\n",
    "print(\"Number of patents not in the citation:\", not_in_citation_mapping)"
   ]
  },
  {
   "cell_type": "code",
   "execution_count": 92,
   "metadata": {},
   "outputs": [
    {
     "name": "stdout",
     "output_type": "stream",
     "text": [
      "Number of documents without claim 1: 0\n",
      "Number of documents without claim 1: 0\n",
      "Number of documents without claim 1: 3\n",
      "Removing 3 documents without required text\n",
      "Recall at 10: 0.0849\n",
      "Recall at 20: 0.1206\n",
      "Recall at 50: 0.1875\n",
      "Recall at 100: 0.2514\n",
      "Mean ranking: 82.723\n",
      "Mean average precision: 0.0419\n",
      "Number of patents measured: 6831\n",
      "Number of patents not in the citation: 0\n"
     ]
    }
   ],
   "source": [
    "claim1_citing_train = create_corpus(json_citing_train , 'claim1')\n",
    "claim1_citing_test = create_corpus(json_citing_test , 'claim1')\n",
    "\n",
    "claim1_nonciting = create_corpus(json_nonciting, 'claim1')\n",
    "#claims_citing_train[:2]\n",
    "all_docs = claim1_citing_train + claim1_nonciting\n",
    "tagged_docs = [\n",
    "    TaggedDocument(words=simple_preprocess(doc['text']), tags=[doc['id']])\n",
    "    for doc in all_docs\n",
    "]\n",
    "model = Doc2Vec(vector_size=300, window=5, min_count=2, workers=4, epochs = 30)\n",
    "\n",
    "model.build_vocab(tagged_docs)\n",
    "\n",
    "model.train(tagged_docs, total_examples=model.corpus_count, epochs=model.epochs)\n",
    "vectors_by_id = {doc['id']: model.dv[doc['id']] for doc in claim1_citing_train}\n",
    "\n",
    "vectors_by_id1 = {doc['id']: model.dv[doc['id']] for doc in claim1_nonciting}\n",
    "vectors_by_id_list = [vec.tolist() for vec in vectors_by_id.values()]\n",
    "vectors_by_id_list1 = [vec.tolist() for vec in vectors_by_id1.values()]\n",
    "\n",
    "cosine_similarities = linear_kernel(vectors_by_id_list, vectors_by_id_list1)\n",
    "cosine_similarities\n",
    "\n",
    "k = 100\n",
    "top_k_rank = top_k_ranks(claim1_citing_train, claim1_nonciting, cosine_similarities, k=k)\n",
    "\n",
    "# Calculate the metrics\n",
    "true_labels, predicted_labels, not_in_citation_mapping = \\\n",
    "    get_true_and_predicted(mapping_dict, top_k_rank)\n",
    "mean_rank = mean_ranking(true_labels, predicted_labels)\n",
    "mean_average_precision_val = mean_average_precision(true_labels, predicted_labels)\n",
    "recall_at_10_claim1_tfidf = mean_recall_at_k(true_labels, predicted_labels, k=10)\n",
    "recall_at_20_claim1_tfidf = mean_recall_at_k(true_labels, predicted_labels, k=20)\n",
    "recall_at_50_claim1_tfidf = mean_recall_at_k(true_labels, predicted_labels, k=50)\n",
    "recall_at_100_claim1_tfidf = mean_recall_at_k(true_labels, predicted_labels, k=100)\n",
    "\n",
    "print(\"Recall at 10:\", round(recall_at_10_claim1_tfidf, 4))\n",
    "print(\"Recall at 20:\", round(recall_at_20_claim1_tfidf, 4))\n",
    "print(\"Recall at 50:\", round(recall_at_50_claim1_tfidf, 4))\n",
    "print(\"Recall at 100:\", round(recall_at_100_claim1_tfidf, 4))\n",
    "\n",
    "\n",
    "print(\"Mean ranking:\", round(mean_rank, 4))\n",
    "print(\"Mean average precision:\", round(mean_average_precision_val, 4))\n",
    "print(\"Number of patents measured:\", len(predicted_labels))\n",
    "print(\"Number of patents not in the citation:\", not_in_citation_mapping)"
   ]
  },
  {
   "cell_type": "code",
   "execution_count": 55,
   "metadata": {},
   "outputs": [
    {
     "name": "stdout",
     "output_type": "stream",
     "text": [
      "4.51.0\n"
     ]
    }
   ],
   "source": [
    "import transformers\n",
    "print(transformers.__version__)"
   ]
  },
  {
   "cell_type": "code",
   "execution_count": 69,
   "metadata": {},
   "outputs": [
    {
     "name": "stdout",
     "output_type": "stream",
     "text": [
      "First load attempt failed: [Errno 2] No such file or directory: 'sentence-transformers/all-MiniLM-L6-v2\\\\sentence_xlnet_config.json'\n",
      "Number of documents without claims: 0\n",
      "Number of documents without claims: 0\n",
      "Number of documents without description: 0\n",
      "Recall at 10: 0.5214\n",
      "Recall at 20: 0.6158\n",
      "Recall at 50: 0.7378\n",
      "Recall at 100: 0.8104\n",
      "Mean ranking: 31.2318\n",
      "Mean average precision: 0.3208\n",
      "Number of patents measured: 6831\n",
      "Number of patents not in citation: 0\n"
     ]
    }
   ],
   "source": [
    "from sentence_transformers import SentenceTransformer\n",
    "import torch\n",
    "from transformers import AutoModel\n",
    "import transformers\n",
    "#VECTOR LENGTH IS 384\n",
    "\n",
    "#this next part is because we had some huge problems with importing of transformers and this solves it\n",
    "if not hasattr(transformers.modeling_utils, 'init_empty_weights'):\n",
    "    from contextlib import contextmanager\n",
    "    @contextmanager\n",
    "    def init_empty_weights():\n",
    "        yield\n",
    "    transformers.modeling_utils.init_empty_weights = init_empty_weights\n",
    "\n",
    "if not hasattr(transformers.modeling_utils, 'find_tied_parameters'):\n",
    "    def find_tied_parameters(*args, **kwargs):\n",
    "        return {}\n",
    "    transformers.modeling_utils.find_tied_parameters = find_tied_parameters\n",
    "\n",
    "\n",
    "try:\n",
    "    model = SentenceTransformer(\n",
    "        'all-MiniLM-L6-v2',\n",
    "        device='cuda' if torch.cuda.is_available() else 'cpu',\n",
    "        model_kwargs={\n",
    "            'low_cpu_mem_usage': True,\n",
    "            'tie_word_embeddings': False \n",
    "        }\n",
    "    )\n",
    "except Exception as e:\n",
    "    print(f\"First load attempt failed: {e}\")\n",
    "    model = SentenceTransformer(\n",
    "        'all-MiniLM-L6-v2',\n",
    "        device='cpu'\n",
    "    )\n",
    "\n",
    "\n",
    "#from here is our actual code\n",
    "claims_citing_train = create_corpus(json_citing_train, 'claims')\n",
    "claims_citing_test = create_corpus(json_citing_test, 'claims')\n",
    "description_nonciting = create_corpus(json_nonciting, 'description')\n",
    "\n",
    "texts_citing = [doc['text'] for doc in claims_citing_train]\n",
    "texts_nonciting = [doc['text'] for doc in description_nonciting]\n",
    "\n",
    "embeddings_citing = model.encode(texts_citing, convert_to_tensor=True)\n",
    "embeddings_nonciting = model.encode(texts_nonciting, convert_to_tensor=True)\n",
    "\n",
    "cosine_similarities = linear_kernel(embeddings_citing.tolist(), embeddings_nonciting.tolist())\n",
    "\n",
    "k = 100\n",
    "top_k_rank = top_k_ranks(claims_citing_train, descriprion_nonciting, cosine_similarities, k=k)\n",
    "\n",
    "# Calculate metrics\n",
    "true_labels, predicted_labels, not_in_citation_mapping = get_true_and_predicted(mapping_dict, top_k_rank)\n",
    "mean_rank = mean_ranking(true_labels, predicted_labels)\n",
    "mean_average_precision_val = mean_average_precision(true_labels, predicted_labels)\n",
    "recall_at_10 = mean_recall_at_k(true_labels, predicted_labels, k=10)\n",
    "recall_at_20 = mean_recall_at_k(true_labels, predicted_labels, k=20)\n",
    "recall_at_50 = mean_recall_at_k(true_labels, predicted_labels, k=50)\n",
    "recall_at_100 = mean_recall_at_k(true_labels, predicted_labels, k=100)\n",
    "\n",
    "print(\"Recall at 10:\", round(recall_at_10, 4))\n",
    "print(\"Recall at 20:\", round(recall_at_20, 4))\n",
    "print(\"Recall at 50:\", round(recall_at_50, 4))\n",
    "print(\"Recall at 100:\", round(recall_at_100, 4))\n",
    "print(\"Mean ranking:\", round(mean_rank, 4))\n",
    "print(\"Mean average precision:\", round(mean_average_precision_val, 4))\n",
    "print(\"Number of patents measured:\", len(predicted_labels))\n",
    "print(\"Number of patents not in citation:\", not_in_citation_mapping)"
   ]
  },
  {
   "cell_type": "code",
   "execution_count": 73,
   "metadata": {},
   "outputs": [
    {
     "name": "stdout",
     "output_type": "stream",
     "text": [
      "Number of documents without claim 1: 0\n",
      "Number of documents without claim 1: 0\n",
      "Number of documents without claims: 3\n",
      "Removing 3 documents without required text\n",
      "Recall at 10: 0.493\n",
      "Recall at 20: 0.5847\n",
      "Recall at 50: 0.6995\n",
      "Recall at 100: 0.7747\n",
      "Mean ranking: 34.5613\n",
      "Mean average precision: 0.3053\n",
      "Number of patents measured: 6831\n",
      "Number of patents not in citation: 0\n"
     ]
    }
   ],
   "source": [
    "#from here is our actual code\n",
    "claim1_citing_train = create_corpus(json_citing_train, 'claim1')\n",
    "claim1_citing_test = create_corpus(json_citing_test, 'claim1')\n",
    "clames_nonciting = create_corpus(json_nonciting, 'claims')\n",
    "\n",
    "texts_citing = [doc['text'] for doc in claim1_citing_train]\n",
    "texts_nonciting = [doc['text'] for doc in clames_nonciting]\n",
    "\n",
    "embeddings_citing = model.encode(texts_citing, convert_to_tensor=True)\n",
    "embeddings_nonciting = model.encode(texts_nonciting, convert_to_tensor=True)\n",
    "\n",
    "cosine_similarities = linear_kernel(embeddings_citing.tolist(), embeddings_nonciting.tolist())\n",
    "\n",
    "k = 100\n",
    "top_k_rank = top_k_ranks(claim1_citing_train, clames_nonciting, cosine_similarities, k=k)\n",
    "\n",
    "# Calculate metrics\n",
    "true_labels, predicted_labels, not_in_citation_mapping = get_true_and_predicted(mapping_dict, top_k_rank)\n",
    "mean_rank = mean_ranking(true_labels, predicted_labels)\n",
    "mean_average_precision_val = mean_average_precision(true_labels, predicted_labels)\n",
    "recall_at_10 = mean_recall_at_k(true_labels, predicted_labels, k=10)\n",
    "recall_at_20 = mean_recall_at_k(true_labels, predicted_labels, k=20)\n",
    "recall_at_50 = mean_recall_at_k(true_labels, predicted_labels, k=50)\n",
    "recall_at_100 = mean_recall_at_k(true_labels, predicted_labels, k=100)\n",
    "\n",
    "print(\"Recall at 10:\", round(recall_at_10, 4))\n",
    "print(\"Recall at 20:\", round(recall_at_20, 4))\n",
    "print(\"Recall at 50:\", round(recall_at_50, 4))\n",
    "print(\"Recall at 100:\", round(recall_at_100, 4))\n",
    "print(\"Mean ranking:\", round(mean_rank, 4))\n",
    "print(\"Mean average precision:\", round(mean_average_precision_val, 4))\n",
    "print(\"Number of patents measured:\", len(predicted_labels))\n",
    "print(\"Number of patents not in citation:\", not_in_citation_mapping)"
   ]
  },
  {
   "cell_type": "code",
   "execution_count": 75,
   "metadata": {},
   "outputs": [
    {
     "name": "stdout",
     "output_type": "stream",
     "text": [
      "Number of documents without claim 1: 0\n",
      "Number of documents without claim 1: 0\n",
      "Number of documents without claim 1: 3\n",
      "Removing 3 documents without required text\n",
      "Recall at 10: 0.4763\n",
      "Recall at 20: 0.5609\n",
      "Recall at 50: 0.6795\n",
      "Recall at 100: 0.7568\n",
      "Mean ranking: 36.5708\n",
      "Mean average precision: 0.2922\n",
      "Number of patents measured: 6831\n",
      "Number of patents not in citation: 0\n"
     ]
    }
   ],
   "source": [
    "#from here is our actual code\n",
    "claim1_citing_train = create_corpus(json_citing_train, 'claim1')\n",
    "claim1_citing_test = create_corpus(json_citing_test, 'claim1')\n",
    "clame1_nonciting = create_corpus(json_nonciting, 'claim1')\n",
    "\n",
    "texts_citing = [doc['text'] for doc in claim1_citing_train]\n",
    "texts_nonciting = [doc['text'] for doc in clame1_nonciting]\n",
    "\n",
    "embeddings_citing = model.encode(texts_citing, convert_to_tensor=True)\n",
    "embeddings_nonciting = model.encode(texts_nonciting, convert_to_tensor=True)\n",
    "\n",
    "cosine_similarities = linear_kernel(embeddings_citing.tolist(), embeddings_nonciting.tolist())\n",
    "\n",
    "k = 100\n",
    "top_k_rank = top_k_ranks(claim1_citing_train, clame1_nonciting, cosine_similarities, k=k)\n",
    "\n",
    "# Calculate metrics\n",
    "true_labels, predicted_labels, not_in_citation_mapping = get_true_and_predicted(mapping_dict, top_k_rank)\n",
    "mean_rank = mean_ranking(true_labels, predicted_labels)\n",
    "mean_average_precision_val = mean_average_precision(true_labels, predicted_labels)\n",
    "recall_at_10 = mean_recall_at_k(true_labels, predicted_labels, k=10)\n",
    "recall_at_20 = mean_recall_at_k(true_labels, predicted_labels, k=20)\n",
    "recall_at_50 = mean_recall_at_k(true_labels, predicted_labels, k=50)\n",
    "recall_at_100 = mean_recall_at_k(true_labels, predicted_labels, k=100)\n",
    "\n",
    "print(\"Recall at 10:\", round(recall_at_10, 4))\n",
    "print(\"Recall at 20:\", round(recall_at_20, 4))\n",
    "print(\"Recall at 50:\", round(recall_at_50, 4))\n",
    "print(\"Recall at 100:\", round(recall_at_100, 4))\n",
    "print(\"Mean ranking:\", round(mean_rank, 4))\n",
    "print(\"Mean average precision:\", round(mean_average_precision_val, 4))\n",
    "print(\"Number of patents measured:\", len(predicted_labels))\n",
    "print(\"Number of patents not in citation:\", not_in_citation_mapping)"
   ]
  },
  {
   "cell_type": "markdown",
   "metadata": {
    "id": "8WQWCXLCzyN9"
   },
   "source": [
    "# 4.0 Get Test Predictions for CodaBench"
   ]
  },
  {
   "cell_type": "code",
   "execution_count": 95,
   "metadata": {},
   "outputs": [
    {
     "name": "stdout",
     "output_type": "stream",
     "text": [
      "Number of documents without claims: 0\n",
      "Number of documents without description: 0\n"
     ]
    }
   ],
   "source": [
    "claims_citing_test = create_corpus(json_citing_test, 'claims')\n",
    "description_nonciting = create_corpus(json_nonciting, 'description')"
   ]
  },
  {
   "cell_type": "code",
   "execution_count": 103,
   "metadata": {},
   "outputs": [
    {
     "name": "stdout",
     "output_type": "stream",
     "text": [
      "First load attempt failed: [Errno 2] No such file or directory: 'sentence-transformers/all-MiniLM-L6-v2\\\\sentence_xlnet_config.json'\n"
     ]
    }
   ],
   "source": [
    "if not hasattr(transformers.modeling_utils, 'init_empty_weights'):\n",
    "    from contextlib import contextmanager\n",
    "    @contextmanager\n",
    "    def init_empty_weights():\n",
    "        yield\n",
    "    transformers.modeling_utils.init_empty_weights = init_empty_weights\n",
    "\n",
    "if not hasattr(transformers.modeling_utils, 'find_tied_parameters'):\n",
    "    def find_tied_parameters(*args, **kwargs):\n",
    "        return {}\n",
    "    transformers.modeling_utils.find_tied_parameters = find_tied_parameters\n",
    "\n",
    "\n",
    "try:\n",
    "    model = SentenceTransformer(\n",
    "        'all-MiniLM-L6-v2',\n",
    "        device='cuda' if torch.cuda.is_available() else 'cpu',\n",
    "        model_kwargs={\n",
    "            'low_cpu_mem_usage': True,\n",
    "            'tie_word_embeddings': False \n",
    "        }\n",
    "    )\n",
    "except Exception as e:\n",
    "    print(f\"First load attempt failed: {e}\")\n",
    "    model = SentenceTransformer(\n",
    "        'all-MiniLM-L6-v2',\n",
    "        device='cpu'\n",
    "    )"
   ]
  },
  {
   "cell_type": "code",
   "execution_count": 105,
   "metadata": {},
   "outputs": [],
   "source": [
    "texts_citing = [doc['text'] for doc in claims_citing_test]\n",
    "texts_nonciting = [doc['text'] for doc in description_nonciting]\n",
    "embeddings_citing = model.encode(texts_citing, convert_to_tensor=True)\n",
    "embeddings_nonciting = model.encode(texts_nonciting, convert_to_tensor=True)\n",
    "\n",
    "cosine_similarities = linear_kernel(embeddings_citing.tolist(), embeddings_nonciting.tolist())\n",
    "\n",
    "k = 100\n",
    "top_k_rank = top_k_ranks(claims_citing_test, description_nonciting, cosine_similarities, k=k)"
   ]
  },
  {
   "cell_type": "code",
   "execution_count": 58,
   "metadata": {
    "id": "TJ-xt9sVzyN9",
    "outputId": "dd7a34ed-2189-4c79-9a5c-cd014e4b40ab"
   },
   "outputs": [
    {
     "name": "stdout",
     "output_type": "stream",
     "text": [
      "Vectorizing descriptions...\n",
      "Computing BM25 scores...\n",
      "Shape of BM25 scores matrix: (1000, 16837)\n"
     ]
    }
   ],
   "source": [
    "# Create BM25 similarity scores\n",
    "#bm25_scores = create_bm25_matrix(title_citing_test, title_nonciting)\n",
    "#top_k_rank = top_k_ranks(title_citing_test, title_nonciting, bm25_scores, k=k)\n",
    "\n",
    "#print(f\"Shape of BM25 scores matrix: {bm25_scores.shape}\")"
   ]
  },
  {
   "cell_type": "code",
   "execution_count": 115,
   "metadata": {
    "id": "OlkYbzZvzyN9"
   },
   "outputs": [],
   "source": [
    "with open('prediction1.json', 'w') as f:\n",
    "    json.dump(top_k_rank, f)"
   ]
  },
  {
   "cell_type": "code",
   "execution_count": null,
   "metadata": {
    "id": "VLoIOWNpzyN9"
   },
   "outputs": [],
   "source": []
  }
 ],
 "metadata": {
  "colab": {
   "collapsed_sections": [
    "wC-2H0llzyNk"
   ],
   "provenance": []
  },
  "kernelspec": {
   "display_name": "Python [conda env:base] *",
   "language": "python",
   "name": "conda-base-py"
  },
  "language_info": {
   "codemirror_mode": {
    "name": "ipython",
    "version": 3
   },
   "file_extension": ".py",
   "mimetype": "text/x-python",
   "name": "python",
   "nbconvert_exporter": "python",
   "pygments_lexer": "ipython3",
   "version": "3.12.7"
  }
 },
 "nbformat": 4,
 "nbformat_minor": 4
}
